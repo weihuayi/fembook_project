{
 "cells": [
  {
   "cell_type": "code",
   "execution_count": null,
   "metadata": {},
   "outputs": [],
   "source": [
    "51.编写一个NumPy程序来交换一个数组的两个轴"
   ]
  },
  {
   "cell_type": "code",
   "execution_count": 22,
   "metadata": {},
   "outputs": [
    {
     "name": "stdout",
     "output_type": "stream",
     "text": [
      "A =  [[1 2 3]\n",
      " [4 5 6]\n",
      " [7 8 9]]\n",
      "B =  [[1 4 7]\n",
      " [2 5 8]\n",
      " [3 6 9]]\n",
      "C =  [[[1 2 3]\n",
      "  [4 5 6]\n",
      "  [7 8 9]]\n",
      "\n",
      " [[4 5 6]\n",
      "  [1 2 3]\n",
      "  [7 8 9]]]\n",
      "D =  [[[1 2 3]\n",
      "  [4 5 6]]\n",
      "\n",
      " [[4 5 6]\n",
      "  [1 2 3]]\n",
      "\n",
      " [[7 8 9]\n",
      "  [7 8 9]]]\n"
     ]
    }
   ],
   "source": [
    "import numpy as np\n",
    "#example 1\n",
    "A = np.array([[1,2,3],[4,5,6],[7,8,9]])\n",
    "print('A = ',A)\n",
    "B = np.transpose(A)\n",
    "print('B = ',B)\n",
    "#example 2\n",
    "C = np.array([[[1,2,3],[4,5,6],[7,8,9]],[[4,5,6],[1,2,3],[7,8,9]]])\n",
    "print('C = ',C)\n",
    "D = np.swapaxes(C,0,1)#交换0轴和1轴\n",
    "print('D = ',D)"
   ]
  },
  {
   "cell_type": "code",
   "execution_count": null,
   "metadata": {},
   "outputs": [],
   "source": [
    "52.编写一个NumPy程序，将数组的轴移动到新的位置。其他轴保持原来的顺序"
   ]
  },
  {
   "cell_type": "code",
   "execution_count": 10,
   "metadata": {},
   "outputs": [
    {
     "name": "stdout",
     "output_type": "stream",
     "text": [
      "(2, 3, 4)\n",
      "(3, 4, 2)\n",
      "(4, 2, 3)\n"
     ]
    }
   ],
   "source": [
    "import numpy as np\n",
    "x = np.zeros((2, 3, 4))\n",
    "print(x.shape)\n",
    "print(np.moveaxis(x, 0, -1).shape)\n",
    "print(np.moveaxis(x, -1, 0).shape)"
   ]
  },
  {
   "cell_type": "code",
   "execution_count": null,
   "metadata": {},
   "outputs": [],
   "source": [
    "53.编写一个NumPy程序，将指定的轴向后移动，直到它位于给定的位置。\n",
    "\n",
    "将下列第三个阵列轴移动到第一个位置。"
   ]
  },
  {
   "cell_type": "code",
   "execution_count": 15,
   "metadata": {},
   "outputs": [
    {
     "name": "stdout",
     "output_type": "stream",
     "text": [
      "(2, 2, 3, 4, 5)\n"
     ]
    }
   ],
   "source": [
    "import numpy as np\n",
    "x = np.ones((2,3,4,5,2))#0,1,2,3轴\n",
    "print(np.rollaxis(x, 4, 1).shape)#将3轴移到1轴"
   ]
  },
  {
   "cell_type": "code",
   "execution_count": null,
   "metadata": {},
   "outputs": [],
   "source": [
    "54.编写一个NumPy程序，将指定的输入转换为至少具有一个维度的数组。"
   ]
  },
  {
   "cell_type": "code",
   "execution_count": 3,
   "metadata": {},
   "outputs": [
    {
     "name": "stdout",
     "output_type": "stream",
     "text": [
      "[12.]\n",
      "[[0. 1. 2.]\n",
      " [3. 4. 5.]]\n",
      "[array([1]), array([3, 4])]\n"
     ]
    }
   ],
   "source": [
    "import numpy as np\n",
    "x = 12.0\n",
    "print(np.atleast_1d(x))\n",
    "x = np.arange(6.0).reshape(2,3)\n",
    "print(np.atleast_1d(x))\n",
    "print(np.atleast_1d(1,[3,4]))"
   ]
  },
  {
   "cell_type": "code",
   "execution_count": null,
   "metadata": {},
   "outputs": [],
   "source": [
    "55.编写一个NumPy程序，将输入视为至少具有二维、三维的数组。"
   ]
  },
  {
   "cell_type": "code",
   "execution_count": 24,
   "metadata": {},
   "outputs": [
    {
     "name": "stdout",
     "output_type": "stream",
     "text": [
      "输入至少两维的矩阵:\n",
      "[10]\n",
      "[[0. 1.]\n",
      " [2. 3.]]\n",
      "输入至少三维的矩阵:\n",
      "[[[15]]]\n",
      "[[[0.]\n",
      "  [1.]\n",
      "  [2.]]]\n"
     ]
    }
   ],
   "source": [
    "import numpy as np\n",
    "x = 10\n",
    "print(\"输入至少两维的矩阵:\")\n",
    "print(np.atleast_1d(x))\n",
    "x = np.arange(4.0).reshape(2, 2)\n",
    "print(np.atleast_1d(x))\n",
    "print(\"输入至少三维的矩阵:\")\n",
    "x =15\n",
    "print(np.atleast_3d(x))\n",
    "x = np.arange(3.0)\n",
    "print(np.atleast_3d(x))"
   ]
  },
  {
   "cell_type": "code",
   "execution_count": null,
   "metadata": {},
   "outputs": [],
   "source": [
    "56.编写一个NumPy程序，在二维数组中插入一个新轴。"
   ]
  },
  {
   "cell_type": "code",
   "execution_count": 27,
   "metadata": {},
   "outputs": [
    {
     "name": "stdout",
     "output_type": "stream",
     "text": [
      "x =  [[0. 0. 0. 0.]\n",
      " [0. 0. 0. 0.]\n",
      " [0. 0. 0. 0.]]\n",
      "y =  [[[0. 0. 0. 0.]]\n",
      "\n",
      " [[0. 0. 0. 0.]]\n",
      "\n",
      " [[0. 0. 0. 0.]]]\n",
      "(3, 1, 4)\n"
     ]
    }
   ],
   "source": [
    "import numpy as np\n",
    "x = np.zeros((3, 4))\n",
    "print('x = ',x)\n",
    "y = np.expand_dims(x, axis=1)\n",
    "print('y = ',y)\n",
    "print(y.shape)"
   ]
  },
  {
   "cell_type": "code",
   "execution_count": null,
   "metadata": {},
   "outputs": [],
   "source": [
    "57. 编写NumPy程序从指定的形状中删除单维条目。"
   ]
  },
  {
   "cell_type": "code",
   "execution_count": 34,
   "metadata": {},
   "outputs": [
    {
     "name": "stdout",
     "output_type": "stream",
     "text": [
      "x =  [[[0. 0. 0. 0.]]\n",
      "\n",
      " [[0. 0. 0. 0.]]\n",
      "\n",
      " [[0. 0. 0. 0.]]]\n",
      "[[0. 0. 0. 0.]\n",
      " [0. 0. 0. 0.]\n",
      " [0. 0. 0. 0.]]\n",
      "(3, 4)\n"
     ]
    }
   ],
   "source": [
    "import numpy as np\n",
    "x = np.zeros((3, 1, 4))\n",
    "print('x = ',x)\n",
    "print(np.squeeze(x))\n",
    "#squeeze():删除单维条目，如果x没有单维条目，则x不会改变\n",
    "print(np.squeeze(x).shape)"
   ]
  },
  {
   "cell_type": "code",
   "execution_count": null,
   "metadata": {},
   "outputs": [],
   "source": [
    "58. 编写一个NumPy程序来连接两个二维数组。"
   ]
  },
  {
   "cell_type": "code",
   "execution_count": 32,
   "metadata": {},
   "outputs": [
    {
     "name": "stdout",
     "output_type": "stream",
     "text": [
      "[[ 0  1  3  0  2  4]\n",
      " [ 5  7  9  6  8 10]]\n"
     ]
    }
   ],
   "source": [
    "import numpy as np\n",
    "a = np.array([[0, 1, 3], [5, 7, 9]])\n",
    "b = np.array([[0, 2, 4], [6, 8, 10]])\n",
    "c = np.concatenate((a, b), 1)#矩阵相接\n",
    "print(c)"
   ]
  },
  {
   "cell_type": "code",
   "execution_count": null,
   "metadata": {},
   "outputs": [],
   "source": [
    "59. 编写一个NumPy程序将一维数组作为列转换为二维数组。"
   ]
  },
  {
   "cell_type": "code",
   "execution_count": 37,
   "metadata": {},
   "outputs": [
    {
     "name": "stdout",
     "output_type": "stream",
     "text": [
      "[10 20 30]\n",
      "[40 50 60]\n",
      "[[40 10]\n",
      " [50 20]\n",
      " [60 30]]\n"
     ]
    }
   ],
   "source": [
    "import numpy as np\n",
    "a = np.array((10,20,30))\n",
    "b = np.array((40,50,60))\n",
    "print(a)\n",
    "print(b)\n",
    "c = np.column_stack((b, a))#按列拼接,a,b顺序影响矩阵\n",
    "print(c)"
   ]
  },
  {
   "cell_type": "code",
   "execution_count": null,
   "metadata": {},
   "outputs": [],
   "source": [
    "60. 编写一个NumPy程序将两个一维数组(按顺序深度(沿第三轴))转换为一个二维数组。"
   ]
  },
  {
   "cell_type": "code",
   "execution_count": null,
   "metadata": {},
   "outputs": [],
   "source": [
    "import numpy as np\n",
    "a = np.array([[10],[20],[30]])\n",
    "b = np.array([[40],[50],[60]])\n",
    "c = np.dstack((a, b))\n",
    "print(c)"
   ]
  },
  {
   "cell_type": "code",
   "execution_count": null,
   "metadata": {},
   "outputs": [],
   "source": [
    "61.编写一个NumPy程序，将一个14个元素的数组拆分为3个数组，每个数组按原来的顺序包含2、4和8个元素。"
   ]
  },
  {
   "cell_type": "code",
   "execution_count": null,
   "metadata": {},
   "outputs": [],
   "source": [
    "import numpy as np\n",
    "x = np.arange(1, 15)\n",
    "print(\"初始矩阵:\",x)\n",
    "print(\"拆分后:\")\n",
    "print(np.split(x, [2, 6]))"
   ]
  },
  {
   "cell_type": "code",
   "execution_count": null,
   "metadata": {},
   "outputs": [],
   "source": [
    "62. 编写一个NumPy程序，将形状为4x4的数组沿第二轴拆分为两个数组。"
   ]
  },
  {
   "cell_type": "code",
   "execution_count": null,
   "metadata": {},
   "outputs": [],
   "source": [
    "import numpy as np\n",
    "x = np.arange(16).reshape((4, 4))\n",
    "print(\"Original array:\",x)\n",
    "print(\"After splitting horizontally:\")\n",
    "print(np.hsplit(x, [2, 6]))"
   ]
  },
  {
   "cell_type": "code",
   "execution_count": null,
   "metadata": {},
   "outputs": [],
   "source": [
    "63.编写一个NumPy程序以获取数组中非零元素的数量。"
   ]
  },
  {
   "cell_type": "code",
   "execution_count": null,
   "metadata": {},
   "outputs": [],
   "source": [
    "import numpy as np\n",
    "x = np.array([[0, 10, 20], [20, 30, 40]])\n",
    "print(\"Original array:\")\n",
    "print(x)\n",
    "print(\"Number of non zero elements in the above array:\")\n",
    "print(np.count_nonzero(x))"
   ]
  },
  {
   "cell_type": "code",
   "execution_count": null,
   "metadata": {},
   "outputs": [],
   "source": [
    "64.编写一个NumPy程序，以创建一个5x5矩阵，行值的范围为0到4。"
   ]
  },
  {
   "cell_type": "code",
   "execution_count": null,
   "metadata": {},
   "outputs": [],
   "source": [
    "import numpy as np\n",
    "x = np.zeros((5,5))\n",
    "print(\"Original array:\")\n",
    "print(x)\n",
    "print(\"Row values ranging from 0 to 4.\")\n",
    "x += np.arange(5)\n",
    "print(x)"
   ]
  },
  {
   "cell_type": "code",
   "execution_count": null,
   "metadata": {},
   "outputs": [],
   "source": [
    "65.编写一个NumPy程序来测试数组中是否存在指定的值。"
   ]
  },
  {
   "cell_type": "code",
   "execution_count": null,
   "metadata": {},
   "outputs": [],
   "source": [
    "import numpy as np\n",
    "x = np.array([[1.12, 2.0, 3.45], [2.33, 5.12, 6.0]], float) \n",
    "print(\"Original array:\")\n",
    "print(x)\n",
    "print(2 in x)\n",
    "print(0 in x)\n",
    "print(6 in x)\n",
    "print(2.3 in x)\n",
    "print(5.12 in x)"
   ]
  },
  {
   "cell_type": "code",
   "execution_count": null,
   "metadata": {},
   "outputs": [],
   "source": [
    "66.编写一个NumPy程序以创建大小为10的向量，其值的范围从0到1，均不包括在内。"
   ]
  },
  {
   "cell_type": "code",
   "execution_count": null,
   "metadata": {},
   "outputs": [],
   "source": [
    "import numpy as np\n",
    "x = np.linspace(0,1,12,endpoint=True)[1:-1]\n",
    "print(x)"
   ]
  },
  {
   "cell_type": "code",
   "execution_count": null,
   "metadata": {},
   "outputs": [],
   "source": [
    "67.编写一个NumPy程序以使数组不可变（只读）。"
   ]
  },
  {
   "cell_type": "code",
   "execution_count": null,
   "metadata": {},
   "outputs": [],
   "source": [
    "import numpy as np\n",
    "x = np.zeros(10)\n",
    "x.flags.writeable = False\n",
    "print(\"Test the array is read-only or not:\")\n",
    "print(\"Try to change the value of the first element:\")\n",
    "x[0] = 1"
   ]
  },
  {
   "cell_type": "code",
   "execution_count": null,
   "metadata": {},
   "outputs": [],
   "source": [
    "68.编写一个NumPy程序（使用numpy）以将3或5的所有倍数之和小于100。"
   ]
  },
  {
   "cell_type": "code",
   "execution_count": null,
   "metadata": {},
   "outputs": [],
   "source": [
    "import numpy as np\n",
    "x = np.arange(1, 100)\n",
    "# find  multiple of 3 or 5\n",
    "n= x[(x % 3 == 0) | (x % 5 == 0)]\n",
    "print(n[:1000])\n",
    "# print sum the numbers\n",
    "print(n.sum())"
   ]
  },
  {
   "cell_type": "code",
   "execution_count": null,
   "metadata": {},
   "outputs": [],
   "source": [
    "69.编写一个NumPy程序以创建一个包含10 ^ 3个元素的数组。"
   ]
  },
  {
   "cell_type": "code",
   "execution_count": null,
   "metadata": {},
   "outputs": [],
   "source": [
    "import numpy as np\n",
    "x = np.arange(1e3)\n",
    "print(x)"
   ]
  },
  {
   "cell_type": "code",
   "execution_count": null,
   "metadata": {},
   "outputs": [],
   "source": [
    "70.编写一个NumPy程序以创建显示numpy数组的每个元素。"
   ]
  },
  {
   "cell_type": "code",
   "execution_count": null,
   "metadata": {},
   "outputs": [],
   "source": [
    "import numpy as np\n",
    "x = np.arange(12).reshape(3, 4)\n",
    "for x in np.nditer(x):\n",
    "    print(x,end=' ')\n",
    "print()"
   ]
  },
  {
   "cell_type": "code",
   "execution_count": null,
   "metadata": {},
   "outputs": [],
   "source": [
    "71.编写一个NumPy程序，以Fortran顺序创建和显示numpy数组的每个元素。"
   ]
  },
  {
   "cell_type": "code",
   "execution_count": null,
   "metadata": {},
   "outputs": [],
   "source": [
    "import numpy as np\n",
    "x = np.arange(12).reshape(3, 4)\n",
    "print(\"Elements of the array in Fortan array:\")\n",
    "for x in np.nditer(x, order=\"F\"):\n",
    "    print(x,end=' ')\n",
    "print(\"\\n\")"
   ]
  },
  {
   "cell_type": "code",
   "execution_count": null,
   "metadata": {},
   "outputs": [],
   "source": [
    "72.编写一个NumPy程序来创建5x5x5的1的多维数据集。"
   ]
  },
  {
   "cell_type": "code",
   "execution_count": null,
   "metadata": {},
   "outputs": [],
   "source": [
    "import numpy as np\n",
    "x = np.zeros((5, 5, 5)).astype(int) + 1\n",
    "print(x)"
   ]
  },
  {
   "cell_type": "code",
   "execution_count": null,
   "metadata": {},
   "outputs": [],
   "source": [
    "73.编写一个NumPy程序，创建一个（3，4）形状的数组，将每个元素值乘以3，然后显示新数组。"
   ]
  },
  {
   "cell_type": "code",
   "execution_count": null,
   "metadata": {},
   "outputs": [],
   "source": [
    "import numpy as np\n",
    "x= np.arange(12).reshape(3, 4)\n",
    "print(\"Original array elements:\")\n",
    "print(x)\n",
    "for a in np.nditer(x, op_flags=['readwrite']):\n",
    "    a[...] = 3 * a\n",
    "print(\"New array elements:\")\n",
    "print(x)"
   ]
  },
  {
   "cell_type": "code",
   "execution_count": null,
   "metadata": {},
   "outputs": [],
   "source": [
    "74.编写一个NumPy程序，将一维和二维数组组合在一起，并显示它们的元素。"
   ]
  },
  {
   "cell_type": "code",
   "execution_count": null,
   "metadata": {},
   "outputs": [],
   "source": [
    "import numpy as np\n",
    "x = np.arange(4)\n",
    "print(\"One dimensional array:\")\n",
    "print(x)\n",
    "y = np.arange(8).reshape(2,4)\n",
    "print(\"Two dimensional array:\")\n",
    "print(y)\n",
    "for a, b in np.nditer([x,y]):\n",
    "    print(\"%d:%d\" % (a,b),)"
   ]
  },
  {
   "cell_type": "code",
   "execution_count": null,
   "metadata": {},
   "outputs": [],
   "source": [
    "75.编写一个NumPy程序，以创建一个零数组和三种列类型（整数，浮点数，字符）。"
   ]
  },
  {
   "cell_type": "code",
   "execution_count": null,
   "metadata": {},
   "outputs": [],
   "source": [
    "import numpy as np\n",
    "x = np.zeros((3,), dtype=('i4,f4,a40'))\n",
    "new_data = [(1, 2., \"Albert Einstein\"), (2, 2., \"Edmond Halley\"), (3, 3., \"Gertrude B. Elion\")]\n",
    "x[:] = new_data\n",
    "print(x)"
   ]
  },
  {
   "cell_type": "code",
   "execution_count": null,
   "metadata": {},
   "outputs": [],
   "source": [
    "76.编写一个NumPy程序来创建一个功能多维数据集，该多维数据集可对数组的所有元素进行多维数据集处理。"
   ]
  },
  {
   "cell_type": "code",
   "execution_count": null,
   "metadata": {},
   "outputs": [],
   "source": [
    "import numpy as np\n",
    "def cube(e):\n",
    "    it = np.nditer([e, None])\n",
    "    for a, b in it:\n",
    "        b[...] = a*a*a\n",
    "    return it.operands[1]\n",
    "print(cube([1,2,3]))"
   ]
  },
  {
   "cell_type": "code",
   "execution_count": null,
   "metadata": {},
   "outputs": [],
   "source": [
    "77.编写一个NumPy程序以创建（3，4）形状的数组，并将数组元素转换为较小的块。"
   ]
  },
  {
   "cell_type": "code",
   "execution_count": null,
   "metadata": {},
   "outputs": [],
   "source": [
    "import numpy as np\n",
    "x= np.arange(12).reshape(3, 4)\n",
    "print(\"Original array elements:\")\n",
    "print(x)\n",
    "print(\"Above array in small chuncks:\")\n",
    "for a in np.nditer(x, flags=['external_loop'], order='F'):\n",
    "    print(a)"
   ]
  },
  {
   "cell_type": "code",
   "execution_count": null,
   "metadata": {},
   "outputs": [],
   "source": [
    "78.编写一个NumPy程序，从一个（平坦的）数组列表创建一个记录数组。"
   ]
  },
  {
   "cell_type": "code",
   "execution_count": null,
   "metadata": {},
   "outputs": [],
   "source": [
    "import numpy as np\n",
    "a1=np.array([1,2,3,4])\n",
    "a2=np.array(['Red','Green','White','Orange'])\n",
    "a3=np.array([12.20,15,20,40])\n",
    "result= np.core.records.fromarrays([a1, a2, a3],names='a,b,c')\n",
    "print(result[0])\n",
    "print(result[1])\n",
    "print(result[2])"
   ]
  },
  {
   "cell_type": "code",
   "execution_count": null,
   "metadata": {},
   "outputs": [],
   "source": [
    "79.编写一个NumPy程序以生成通用的类似于2D高斯的数组。"
   ]
  },
  {
   "cell_type": "code",
   "execution_count": null,
   "metadata": {},
   "outputs": [],
   "source": [
    "import numpy as np\n",
    "x, y = np.meshgrid(np.linspace(-1,1,10), np.linspace(-1,1,10))\n",
    "d = np.sqrt(x*x+y*y)\n",
    "sigma, mu = 1.0, 0.0\n",
    "g = np.exp(-( (d-mu)**2 / ( 2.0 * sigma**2 ) ) )\n",
    "print(\"2D Gaussian-like array:\")\n",
    "print(g)"
   ]
  },
  {
   "cell_type": "code",
   "execution_count": null,
   "metadata": {},
   "outputs": [],
   "source": [
    "80.编写一个NumPy程序，将NumPy数组转换为Python列表结构。"
   ]
  },
  {
   "cell_type": "code",
   "execution_count": null,
   "metadata": {},
   "outputs": [],
   "source": [
    "import numpy as np\n",
    "x= np.arange(6).reshape(3, 2)\n",
    "print(\"Original array elements:\")\n",
    "print(x)\n",
    "print(\"Array to list:\")\n",
    "print(x.tolist())"
   ]
  },
  {
   "cell_type": "code",
   "execution_count": null,
   "metadata": {},
   "outputs": [],
   "source": [
    "81.编写一个NumPy程序以按列访问数组。"
   ]
  },
  {
   "cell_type": "code",
   "execution_count": null,
   "metadata": {},
   "outputs": [],
   "source": [
    "import numpy as np\n",
    "x= np.arange(9).reshape(3,3)\n",
    "print(\"Original array elements:\")\n",
    "print(x)\n",
    "print(\"Access an array by column:\")\n",
    "print(\"First column:\")\n",
    "print(x[:,0])\n",
    "print(\"Second column:\")\n",
    "print(x[:,1])\n",
    "print(\"Third column:\")\n",
    "print(x[:,2])"
   ]
  },
  {
   "cell_type": "code",
   "execution_count": null,
   "metadata": {},
   "outputs": [],
   "source": [
    "82.编写一个NumPy程序，将浮点值的numpy数组转换为整数值的numpy数组。"
   ]
  },
  {
   "cell_type": "code",
   "execution_count": null,
   "metadata": {},
   "outputs": [],
   "source": [
    "import numpy as np\n",
    "x= np.array([[12.0, 12.51], [2.34, 7.98], [25.23, 36.50]])\n",
    "print(\"Original array elements:\")\n",
    "print(x)\n",
    "print(\"Convert float values to integer values:\")\n",
    "print(x.astype(int))"
   ]
  },
  {
   "cell_type": "code",
   "execution_count": null,
   "metadata": {},
   "outputs": [],
   "source": [
    "83.编写一个NumPy程序，以给定的精度显示浮点值的numpy数组元素。"
   ]
  },
  {
   "cell_type": "code",
   "execution_count": null,
   "metadata": {},
   "outputs": [],
   "source": [
    "import numpy as np\n",
    "x=np.array([ 0.26153123, 0.52760141, 0.5718299, 0.5927067, 0.7831874, 0.69746349,             \n",
    "  0.35399976, 0.99469633, 0.0694458, 0.54711478]) \n",
    "print(\"Original array elements:\")\n",
    "print(x)\n",
    "print(\"Print array values with precision 3:\")\n",
    "np.set_printoptions(precision=3)\n",
    "print(x)"
   ]
  },
  {
   "cell_type": "code",
   "execution_count": null,
   "metadata": {},
   "outputs": [],
   "source": [
    "84.编写一个NumPy程序来禁止对numpy数组中的小数使用科学计数法。"
   ]
  },
  {
   "cell_type": "code",
   "execution_count": null,
   "metadata": {},
   "outputs": [],
   "source": [
    "import numpy as np\n",
    "x=np.array([1.6e-10, 1.6, 1200, .235]) \n",
    "print(\"Original array elements:\")\n",
    "print(x)\n",
    "print(\"Print array values with precision 3:\")\n",
    "np.set_printoptions(suppress=True)\n",
    "print(x)"
   ]
  },
  {
   "cell_type": "code",
   "execution_count": null,
   "metadata": {},
   "outputs": [],
   "source": [
    "85.编写一个NumPy程序，以从生成器创建一个由10个整数组成的numpy数组。"
   ]
  },
  {
   "cell_type": "code",
   "execution_count": null,
   "metadata": {},
   "outputs": [],
   "source": [
    "import numpy as np\n",
    "iterable = (x for x in range(10))\n",
    "print(np.fromiter(iterable, np.int))"
   ]
  },
  {
   "cell_type": "code",
   "execution_count": null,
   "metadata": {},
   "outputs": [],
   "source": [
    "86.编写一个NumPy程序，了解如何向numpy数组添加额外的列。"
   ]
  },
  {
   "cell_type": "code",
   "execution_count": null,
   "metadata": {},
   "outputs": [],
   "source": [
    "import numpy as np\n",
    "x = np.array([[10,20,30], [40,50,60]])\n",
    "y = np.array([[100], [200]])\n",
    "print(np.append(x, y, axis=1))"
   ]
  },
  {
   "cell_type": "code",
   "execution_count": null,
   "metadata": {},
   "outputs": [],
   "source": [
    "87.编写一个NumPy程序以在numpy数组中查找唯一的行。"
   ]
  },
  {
   "cell_type": "code",
   "execution_count": null,
   "metadata": {},
   "outputs": [],
   "source": [
    "import numpy as np\n",
    "x = np.array([[20, 20, 20, 0],\n",
    "              [0, 20, 20, 20],\n",
    "              [0, 20, 20, 20],\n",
    "              [20, 20, 20, 0],\n",
    "              [10, 20, 20,20]])\n",
    "print(\"Original array:\")\n",
    "print(x)\n",
    "y = np.ascontiguousarray(x).view(np.dtype((np.void, x.dtype.itemsize * x.shape[1])))\n",
    "_, idx = np.unique(y, return_index=True)\n",
    "\n",
    "unique_result = x[idx]\n",
    "print(\"Unique rows of the above array:\")\n",
    "print(unique_result)"
   ]
  },
  {
   "cell_type": "code",
   "execution_count": null,
   "metadata": {},
   "outputs": [],
   "source": [
    "88.编写一个NumPy程序来替换numpy数组中大于指定数组的所有元素。"
   ]
  },
  {
   "cell_type": "code",
   "execution_count": null,
   "metadata": {},
   "outputs": [],
   "source": [
    "import numpy as np\n",
    "x = np.array([[ 0.42436315, 0.48558583, 0.32924763], [ 0.7439979,0.58220701,0.38213418], [ 0.5097581,0.34528799,0.1563123 ]])\n",
    "print(\"Original array:\")\n",
    "print(x)\n",
    "print(\"Replace all elements of the said array with .5 which are greater than .5\")\n",
    "x[x > .5] = .5\n",
    "print(x)"
   ]
  },
  {
   "cell_type": "code",
   "execution_count": null,
   "metadata": {},
   "outputs": [],
   "source": [
    "89.编写一个NumPy程序以删除numpy数组中的特定元素。"
   ]
  },
  {
   "cell_type": "code",
   "execution_count": null,
   "metadata": {},
   "outputs": [],
   "source": [
    "import numpy as np\n",
    "x = np.array([10, 20, 30, 40, 50, 60, 70, 80, 90, 100])\n",
    "index = [0, 3, 4]\n",
    "print(\"Original array:\")\n",
    "print(x)\n",
    "print(\"Delete first, fourth and fifth elements:\")\n",
    "new_x = np.delete(x, index)\n",
    "print(new_x)"
   ]
  },
  {
   "cell_type": "code",
   "execution_count": null,
   "metadata": {},
   "outputs": [],
   "source": [
    "90.编写一个NumPy程序，以删除带有0的numpy数组中的负值。"
   ]
  },
  {
   "cell_type": "code",
   "execution_count": null,
   "metadata": {},
   "outputs": [],
   "source": [
    "import numpy as np\n",
    "x = np.array([-1, -4, 0, 2, 3, 4, 5, -6])\n",
    "print(\"Original array:\")\n",
    "print(x)\n",
    "print(\"Replace the negative values of the said array with 0:\")\n",
    "x[x < 0] = 0\n",
    "print(x)"
   ]
  },
  {
   "cell_type": "code",
   "execution_count": null,
   "metadata": {},
   "outputs": [],
   "source": [
    "91.编写一个NumPy程序，以删除numpy数组中包含非数字值的所有行。"
   ]
  },
  {
   "cell_type": "code",
   "execution_count": null,
   "metadata": {},
   "outputs": [],
   "source": [
    "import numpy as np\n",
    "x = np.array([[1,2,3], [4,5,np.nan], [7,8,9], [True, False, True]])\n",
    "print(\"Original array:\")\n",
    "print(x)\n",
    "print(\"Remove all non-numeric elements of the said array\")\n",
    "print(x[~np.isnan(x).any(axis=1)])"
   ]
  },
  {
   "cell_type": "code",
   "execution_count": null,
   "metadata": {},
   "outputs": [],
   "source": [
    "92.编写一个NumPy程序，以在numpy数组中选择满足多个条件的索引。"
   ]
  },
  {
   "cell_type": "code",
   "execution_count": null,
   "metadata": {},
   "outputs": [],
   "source": [
    "import numpy as np\n",
    "a = np.array([97, 101, 105, 111, 117])\n",
    "b = np.array(['a','e','i','o','u'])\n",
    "print(\"Original arrays\")\n",
    "print(a)\n",
    "print(b)\n",
    "print(\"Elements from the second array  corresponding to elements in the first array  that are greater than 100 and less than 110:\")\n",
    "print(b[(100 < a) & (a < 110)])"
   ]
  },
  {
   "cell_type": "code",
   "execution_count": null,
   "metadata": {},
   "outputs": [],
   "source": [
    "93.编写一个NumPy程序，以numpy为单位获取向量的大小。"
   ]
  },
  {
   "cell_type": "code",
   "execution_count": null,
   "metadata": {},
   "outputs": [],
   "source": [
    "import numpy as np\n",
    "x = np.array([1,2,3,4,5])\n",
    "print(\"Original array:\")\n",
    "print(x)\n",
    "print(\"Magnitude of the vector:\")\n",
    "print(np.linalg.norm(x))"
   ]
  },
  {
   "cell_type": "code",
   "execution_count": null,
   "metadata": {},
   "outputs": [],
   "source": [
    "94.编写一个NumPy程序，以计算numpy数组中唯一值的频率。"
   ]
  },
  {
   "cell_type": "code",
   "execution_count": null,
   "metadata": {},
   "outputs": [],
   "source": [
    "import numpy as np\n",
    "a = np.array( [10,10,20,10,20,20,20,30, 30,50,40,40] )\n",
    "print(\"Original array:\")\n",
    "print(a)\n",
    "unique_elements, counts_elements = np.unique(a, return_counts=True)\n",
    "print(\"Frequency of unique values of the said array:\")\n",
    "print(np.asarray((unique_elements, counts_elements)))"
   ]
  },
  {
   "cell_type": "code",
   "execution_count": null,
   "metadata": {},
   "outputs": [],
   "source": [
    "95.编写一个NumPy程序来检查numpy数组是否为空。"
   ]
  },
  {
   "cell_type": "code",
   "execution_count": null,
   "metadata": {},
   "outputs": [],
   "source": [
    "import numpy as np\n",
    "x = np.array([2, 3])\n",
    "y = np.array([])\n",
    "# size 2, array is not empty\n",
    "print(x.size)\n",
    "# size 0, array is empty\n",
    "print(y.size)"
   ]
  },
  {
   "cell_type": "code",
   "execution_count": null,
   "metadata": {},
   "outputs": [],
   "source": [
    "96.编写一个NumPy程序，将每一行除以一个矢量元素。"
   ]
  },
  {
   "cell_type": "code",
   "execution_count": null,
   "metadata": {},
   "outputs": [],
   "source": [
    "import numpy as np\n",
    "x = np.array([[20,20,20],[30,30,30],[40,40,40]])\n",
    "print(\"Original array:\")\n",
    "print(x)\n",
    "v = np.array([20,30,40])\n",
    "print(\"Vector:\")\n",
    "print(v)\n",
    "print(x / v[:,None])"
   ]
  },
  {
   "cell_type": "code",
   "execution_count": null,
   "metadata": {},
   "outputs": [],
   "source": [
    "97.编写一个NumPy程序以打印数组的所有值。"
   ]
  },
  {
   "cell_type": "code",
   "execution_count": null,
   "metadata": {},
   "outputs": [],
   "source": [
    "import numpy as np\n",
    "np.set_printoptions(threshold=np.nan)\n",
    "x = np.zeros((4, 4))\n",
    "print(x)"
   ]
  },
  {
   "cell_type": "code",
   "execution_count": null,
   "metadata": {},
   "outputs": [],
   "source": [
    "98.编写一个NumPy程序，将数组中的原始数据转换为二进制字符串，然后创建一个数组。"
   ]
  },
  {
   "cell_type": "code",
   "execution_count": null,
   "metadata": {},
   "outputs": [],
   "source": [
    "import numpy as np\n",
    "x = np.array([10, 20, 30], float)\n",
    "print(\"Original array:\")\n",
    "print(x)\n",
    "s = x.tostring()\n",
    "print(\"Binary string array:\")\n",
    "print(s)\n",
    "print(\"Array using fromstring():\")\n",
    "y = np.fromstring(s)\n",
    "print(y)"
   ]
  },
  {
   "cell_type": "code",
   "execution_count": null,
   "metadata": {},
   "outputs": [],
   "source": [
    "99.编写一个NumPy程序以求和并计算numpy数组元素的乘积。"
   ]
  },
  {
   "cell_type": "code",
   "execution_count": null,
   "metadata": {},
   "outputs": [],
   "source": [
    "import numpy as np\n",
    "x = np.array([10, 20, 30], float)\n",
    "print(\"Original array:\")\n",
    "print(x)\n",
    "print(\"Sum of the array elements:\")\n",
    "print(x.sum())\n",
    "print(\"Product of the array elements:\")\n",
    "print(x.prod())"
   ]
  },
  {
   "cell_type": "code",
   "execution_count": null,
   "metadata": {},
   "outputs": [],
   "source": [
    "100.编写一个NumPy程序以从源数组中获取值，并将其放在另一个数组的指定索引处。"
   ]
  },
  {
   "cell_type": "code",
   "execution_count": 6,
   "metadata": {},
   "outputs": [
    {
     "name": "stdout",
     "output_type": "stream",
     "text": [
      "[10. 10. 20. 30. 30.]\n",
      "Put 0 and 40 in first and fifth position of the above array\n",
      "Array x, after putting two values:\n",
      "[ 0. 10. 20. 30. 40.]\n"
     ]
    }
   ],
   "source": [
    "import numpy as np\n",
    "x = np.array([10, 10, 20, 30, 30], float)\n",
    "print(x)\n",
    "print(\"Put 0 and 40 in first and fifth position of the above array\")\n",
    "y = np.array([0, 40, 60], float) \n",
    "x.put([0, 4], y)\n",
    "print(\"Array x, after putting two values:\")\n",
    "print(x)"
   ]
  },
  {
   "cell_type": "code",
   "execution_count": null,
   "metadata": {},
   "outputs": [],
   "source": []
  }
 ],
 "metadata": {
  "kernelspec": {
   "display_name": "Python 3",
   "language": "python",
   "name": "python3"
  },
  "language_info": {
   "codemirror_mode": {
    "name": "ipython",
    "version": 3
   },
   "file_extension": ".py",
   "mimetype": "text/x-python",
   "name": "python",
   "nbconvert_exporter": "python",
   "pygments_lexer": "ipython3",
   "version": "3.6.8"
  }
 },
 "nbformat": 4,
 "nbformat_minor": 2
}
