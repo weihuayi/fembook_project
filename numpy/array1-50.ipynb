{
 "cells": [
  {
   "cell_type": "markdown",
   "metadata": {},
   "source": [
    "编写一个NumPy程序以在您的系统中打印NumPy版本。"
   ]
  },
  {
   "cell_type": "code",
   "execution_count": null,
   "metadata": {},
   "outputs": [],
   "source": [
    "import numpy as np\n",
    "print(np.__version__)\n"
   ]
  },
  {
   "cell_type": "markdown",
   "metadata": {},
   "source": [
    "编写一个NumPy程序，将数值列表转换为一维NumPy数组。\n",
    "预期输出：\n",
    "原始列表：[12.23、13.32、100、36.32]\n",
    "一维numpy数组：[12.23 13.32 100. 36.32]"
   ]
  },
  {
   "cell_type": "code",
   "execution_count": null,
   "metadata": {},
   "outputs": [],
   "source": [
    "import numpy as np\n",
    "l = [12.23, 13.32, 100, 36.32]\n",
    "print(\"Original List:\",l)\n",
    "a = np.array(l)\n",
    "print(\"One-dimensional numpy array: \",a)\n"
   ]
  },
  {
   "cell_type": "markdown",
   "metadata": {},
   "source": [
    "编写一个NumPy程序以创建一个3x3矩阵，其值的范围为2到10。\n",
    "预期输出：\n",
    "[[2 3 4]\n",
    "[5 6 7]\n",
    "[8 9 10]]"
   ]
  },
  {
   "cell_type": "code",
   "execution_count": null,
   "metadata": {},
   "outputs": [],
   "source": [
    "\n",
    "import numpy as np\n",
    "x =  np.arange(2, 11).reshape(3,3)\n",
    "print(x)\n"
   ]
  },
  {
   "cell_type": "markdown",
   "metadata": {},
   "source": [
    "编写一个NumPy程序以创建一个3x3矩阵，其值的范围为2到10。\n",
    "预期输出：\n",
    "[[2 3 4]\n",
    "[5 6 7]\n",
    "[8 9 10]]"
   ]
  },
  {
   "cell_type": "code",
   "execution_count": null,
   "metadata": {},
   "outputs": [],
   "source": [
    "\n",
    "import numpy as np\n",
    "x =  np.arange(2, 11).reshape(3,3)\n",
    "print(x)\n"
   ]
  },
  {
   "cell_type": "markdown",
   "metadata": {},
   "source": [
    "编写一个NumPy程序以创建大小为10的空向量并将第六个值更新为11。\n",
    "[0. 0. 0. 0. 0. 0. 0. 0. 0. 0.]\n",
    "更新第六个值到11\n",
    "[0. 0. 0. 0. 0. 0. 11. 0. 0. 0.]"
   ]
  },
  {
   "cell_type": "code",
   "execution_count": 1,
   "metadata": {},
   "outputs": [
    {
     "name": "stdout",
     "output_type": "stream",
     "text": [
      "[0. 0. 0. 0. 0. 0. 0. 0. 0. 0.]\n",
      "Update sixth value to 11\n",
      "[ 0.  0.  0.  0.  0.  0. 11.  0.  0.  0.]\n"
     ]
    }
   ],
   "source": [
    "\n",
    "import numpy as np\n",
    "x = np.zeros(10)\n",
    "print(x)\n",
    "print(\"Update sixth value to 11\")\n",
    "x[6] = 11\n",
    "print(x)\n"
   ]
  },
  {
   "cell_type": "markdown",
   "metadata": {},
   "source": [
    "编写一个NumPy程序以创建一个值在12到38之间的数组。\n",
    "预期输出：\n",
    "[12 13 14 15 16 17 18 19 20 21 22 23 24 25 26 27 28 29 30 31 32 33 34 35 36 37]"
   ]
  },
  {
   "cell_type": "code",
   "execution_count": null,
   "metadata": {},
   "outputs": [],
   "source": [
    "import numpy as np\n",
    "x = np.arange(12, 38)\n",
    "print(x)\n"
   ]
  },
  {
   "cell_type": "markdown",
   "metadata": {},
   "source": [
    "编写一个NumPy程序以反转数组（第一个元素变为最后一个元素）。\n",
    "原始数组：\n",
    "[12 13 14 15 16 17 18 19 20 21 22 23 24 25 26 27 28 29 30 31 32 33 34 35 36 37]\n",
    "反向数组：\n",
    "[37 36 35 34 33 32 31 30 29 28 27 [26 25 24 23 22 21 20 19 18 17 16 15 14 13 12]"
   ]
  },
  {
   "cell_type": "code",
   "execution_count": 2,
   "metadata": {},
   "outputs": [
    {
     "name": "stdout",
     "output_type": "stream",
     "text": [
      "Original array:\n",
      "[12 13 14 15 16 17 18 19 20 21 22 23 24 25 26 27 28 29 30 31 32 33 34 35\n",
      " 36 37]\n",
      "Reverse array:\n",
      "[37 36 35 34 33 32 31 30 29 28 27 26 25 24 23 22 21 20 19 18 17 16 15 14\n",
      " 13 12]\n"
     ]
    }
   ],
   "source": [
    "import numpy as np\n",
    "import numpy as np\n",
    "x = np.arange(12, 38)\n",
    "print(\"Original array:\")\n",
    "print(x)\n",
    "print(\"Reverse array:\")\n",
    "x = x[::-1]\n",
    "print(x)\n"
   ]
  },
  {
   "cell_type": "markdown",
   "metadata": {},
   "source": [
    "将NumPy程序写入转换为浮点类型的数组。\n",
    "样本输出：\n",
    "原始数组\n",
    "[1、2、3、4]\n",
    "转换为浮点类型的数组：\n",
    "[1. 2. 3. 4.]"
   ]
  },
  {
   "cell_type": "code",
   "execution_count": null,
   "metadata": {},
   "outputs": [],
   "source": [
    "import numpy as np\n",
    "import numpy as np\n",
    "a = [1, 2, 3, 4]\n",
    "print(\"Original array\")\n",
    "print(a)\n",
    "x = np.asfarray(a)\n",
    "print(\"Array converted to a float type:\")\n",
    "print(x)\n"
   ]
  },
  {
   "cell_type": "markdown",
   "metadata": {},
   "source": [
    "编写一个NumPy程序以创建一个2d数组，其边界为1，内部为0。\n",
    "预期输出：\n",
    "原始数组：\n",
    "[[1. 1. 1. 1. 1.]\n",
    "[1. 1. 1. 1. 1.]\n",
    "[1. 1. 1. 1. 1.]\n",
    "[1。 1. 1. 1. 1.]\n",
    "[1. 1. 1. 1. 1. 1.]]\n",
    "边界上为1，数组\n",
    "[[1. 1. 1. 1. 1.]]\n",
    "[1. 0. 0. 0. 1.]\n",
    "[1. 0. 0. 0. 1.]\n",
    "[1. 0. 0. 0. 1.]"
   ]
  },
  {
   "cell_type": "code",
   "execution_count": null,
   "metadata": {},
   "outputs": [],
   "source": [
    "import numpy as np\n",
    "x = np.ones((5,5))\n",
    "print(\"Original array:\")\n",
    "print(x)\n",
    "print(\"1 on the border and 0 inside in the array\")\n",
    "x[1:-1,1:-1] = 0\n",
    "print(x)\n"
   ]
  },
  {
   "cell_type": "markdown",
   "metadata": {},
   "source": [
    "编写一个NumPy程序，在现有数组周围添加边框（用0填充）。\n",
    "预期输出：\n",
    "原始数组：\n",
    "[[1. 1. 1.]\n",
    "[1. 1. 1.]\n",
    "[1. 1. 1.]]\n",
    "边框上为1，数组内为0\n",
    "[[0. 0. 0. 0. 0.]\n",
    "[0. 1. 1. 1. 0.]\n",
    "[0. 1. 1. 1. 0.]\n",
    "[0. 1. 1. 1. 0.]\n",
    "[0. 0. 0. 0. 0.]]"
   ]
  },
  {
   "cell_type": "code",
   "execution_count": null,
   "metadata": {},
   "outputs": [],
   "source": [
    "import numpy as np\n",
    "x = np.ones((3,3))\n",
    "print(\"Original array:\")\n",
    "print(x)\n",
    "print(\"0 on the border and 1 inside in the array\")\n",
    "x = np.pad(x, pad_width=1, mode='constant', constant_values=0)\n",
    "print(x)\n"
   ]
  },
  {
   "cell_type": "markdown",
   "metadata": {},
   "source": [
    "编写一个NumPy程序以创建8x8矩阵，并用棋盘图案填充它。\n",
    "棋盘模式：\n",
    "[[0 1 0 1 0 1 0 1]\n",
    "[1 0 1 0 1 0 1 0]\n",
    "[0 1 0 1 0 1 0 1]\n",
    "[1 0 1 0 1 0 1 0]\n",
    "[0 1 0 1 0 1 0 1]\n",
    "[1 0 1 0 1 0 1 0]\n",
    "[0 1 0 1 0 1 0 1]\n",
    "[1 0 1 0 1 0 1 0]]"
   ]
  },
  {
   "cell_type": "code",
   "execution_count": 3,
   "metadata": {},
   "outputs": [
    {
     "name": "stdout",
     "output_type": "stream",
     "text": [
      "Checkerboard pattern:\n",
      "[[0 1 0 1 0 1 0 1]\n",
      " [1 0 1 0 1 0 1 0]\n",
      " [0 1 0 1 0 1 0 1]\n",
      " [1 0 1 0 1 0 1 0]\n",
      " [0 1 0 1 0 1 0 1]\n",
      " [1 0 1 0 1 0 1 0]\n",
      " [0 1 0 1 0 1 0 1]\n",
      " [1 0 1 0 1 0 1 0]]\n"
     ]
    }
   ],
   "source": [
    "import numpy as np\n",
    "x = np.ones((3,3))\n",
    "print(\"Checkerboard pattern:\")\n",
    "x = np.zeros((8,8),dtype=int)\n",
    "x[1::2,::2] = 1\n",
    "x[::2,1::2] = 1\n",
    "print(x)\n"
   ]
  },
  {
   "cell_type": "markdown",
   "metadata": {},
   "source": [
    "编写一个NumPy程序，以将列表和元组转换为数组。\n",
    "数组列表：\n",
    "[1 2 3 4 5 6 7 8]\n",
    "元组数组：\n",
    "[[8 4 6]\n",
    "[1 2 3]]"
   ]
  },
  {
   "cell_type": "code",
   "execution_count": null,
   "metadata": {},
   "outputs": [],
   "source": [
    "import numpy as np\n",
    "my_list = [1, 2, 3, 4, 5, 6, 7, 8]\n",
    "print(\"List to array: \")\n",
    "print(np.asarray(my_list))\n",
    "my_tuple = ([8, 4, 6], [1, 2, 3])\n",
    "print(\"Tuple to array: \")\n",
    "print(np.asarray(my_tuple))\n"
   ]
  },
  {
   "cell_type": "markdown",
   "metadata": {},
   "source": [
    "编写一个NumPy程序，将值附加到数组的末尾。\n",
    "预期输出：\n",
    "原始数组：\n",
    "[10，20，30]\n",
    "将值附加到数组末尾后：\n",
    "[10 20 30 40 50 60 70 80 90]"
   ]
  },
  {
   "cell_type": "code",
   "execution_count": null,
   "metadata": {},
   "outputs": [],
   "source": [
    "import numpy as np\n",
    "x = [10, 20, 30]\n",
    "print(\"Original array:\")\n",
    "print(x)\n",
    "x = np.append(x, [[40, 50, 60], [70, 80, 90]])\n",
    "print(\"After append values to the end of the array:\")\n",
    "print(x)\n"
   ]
  },
  {
   "cell_type": "markdown",
   "metadata": {},
   "source": [
    "编写一个NumPy程序以创建一个空数组和一个完整数组。\n",
    "预期输出：\n",
    "[6.93270651e-310 1.59262180e-316 6.93270559e-310 6.93270665e-310]\n",
    "[6.93270667e-310 6.93270671e-310 6.93270668e-310 6.93270483e-310]\n",
    "[6.93270668e-310 6.93270671e -310 6.93270370e-310 6.93270488e-310]]\n",
    "[[6 6 6]\n",
    "[6 6 6]\n",
    "[6 6 6]]"
   ]
  },
  {
   "cell_type": "code",
   "execution_count": null,
   "metadata": {},
   "outputs": [],
   "source": [
    "import numpy as np\n",
    "# Create an empty array\n",
    "x = np.empty((3,4))\n",
    "print(x)\n",
    "# Create a full array\n",
    "y = np.full((3,3),6)\n",
    "print(y)\n"
   ]
  },
  {
   "cell_type": "markdown",
   "metadata": {},
   "source": [
    "编写一个NumPy程序，将摄氏度的值转换为华氏度。摄氏度值存储在NumPy数组中。\n",
    "Sample Array [0，12，45.21，34，99.91]\n",
    "预期输出：\n",
    "华氏度值：\n",
    "[0. 12. 45.21 34. 99.91]\n",
    "摄氏度度值：\n",
    "[-17.77777778 -11.11111111 7.33888889 1.11111111 37.72777778]"
   ]
  },
  {
   "cell_type": "code",
   "execution_count": 4,
   "metadata": {},
   "outputs": [
    {
     "name": "stdout",
     "output_type": "stream",
     "text": [
      "Values in Fahrenheit degrees:\n",
      "[ 0.   12.   45.21 34.   99.91]\n",
      "Values in  Centigrade degrees:\n",
      "[-17.77777778 -11.11111111   7.33888889   1.11111111  37.72777778]\n"
     ]
    }
   ],
   "source": [
    "import numpy as np\n",
    "fvalues = [0, 12, 45.21, 34, 99.91]\n",
    "F = np.array(fvalues)\n",
    "print(\"Values in Fahrenheit degrees:\")\n",
    "print(F)\n",
    "print(\"Values in  Centigrade degrees:\") \n",
    "print(5*F/9 - 5*32/9)\n"
   ]
  },
  {
   "cell_type": "markdown",
   "metadata": {},
   "source": [
    "编写一个NumPy程序以查找复数数组的实部和虚部。\n",
    "预期输出：\n",
    "原始数组[1.00000000 + 0.j 0.70710678 + 0.70710678j]\n",
    "数组的实部：\n",
    "[1. 0.70710678]\n",
    "数组的虚部：\n",
    "[0. 0.70710678]"
   ]
  },
  {
   "cell_type": "code",
   "execution_count": null,
   "metadata": {},
   "outputs": [],
   "source": [
    "import numpy as np\n",
    "x = np.sqrt([1+0j])\n",
    "y = np.sqrt([0+1j])\n",
    "print(\"Original array:x \",x)\n",
    "print(\"Original array:y \",y)\n",
    "print(\"Real part of the array:\")\n",
    "print(x.real)\n",
    "print(y.real)\n",
    "print(\"Imaginary part of the array:\")\n",
    "print(x.imag)\n",
    "print(y.imag)"
   ]
  },
  {
   "cell_type": "markdown",
   "metadata": {},
   "source": [
    "编写一个NumPy程序，以查找数组的元素数，一个数组元素的长度（以字节为单位）和元素消耗的总字节数。\n",
    "预期输出：\n",
    "数组的大小：3\n",
    "一个数组元素的长度（以字节为单位）：8数组元素\n",
    "消耗的总字节数：24"
   ]
  },
  {
   "cell_type": "code",
   "execution_count": null,
   "metadata": {},
   "outputs": [],
   "source": [
    "import numpy as np\n",
    "x = np.array([1,2,3], dtype=np.float64)\n",
    "print(\"Size of the array: \", x.size)\n",
    "print(\"Length of one array element in bytes: \", x.itemsize)\n",
    "print(\"Total bytes consumed by the elements of the array: \", x.nbytes)\n"
   ]
  },
  {
   "cell_type": "markdown",
   "metadata": {},
   "source": [
    "编写一个NumPy程序，以测试一维数组的每个元素是否也存在于第二个数组中。\n",
    "编写一个NumPy程序，以测试一维数组的每个元素是否也存在于第二个数组中。"
   ]
  },
  {
   "cell_type": "code",
   "execution_count": 5,
   "metadata": {},
   "outputs": [
    {
     "name": "stdout",
     "output_type": "stream",
     "text": [
      "Array1:  [ 0 10 20 40 60]\n",
      "Array2:  [0, 40]\n",
      "Compare each element of array1 and array2\n",
      "[ True False False  True False]\n"
     ]
    }
   ],
   "source": [
    "import numpy as np\n",
    "array1 = np.array([0, 10, 20, 40, 60])\n",
    "print(\"Array1: \",array1)\n",
    "array2 = [0, 40]\n",
    "print(\"Array2: \",array2)\n",
    "print(\"Compare each element of array1 and array2\")\n",
    "print(np.in1d(array1, array2))\n"
   ]
  },
  {
   "cell_type": "markdown",
   "metadata": {},
   "source": [
    "编写一个NumPy程序以查找两个数组之间的公共值。\n",
    "预期输出：\n",
    "Array1：[0 10 20 40 60]\n",
    "Array2：[10、30、40]\n",
    "两个数组之间的公共值：\n",
    "[10 40]"
   ]
  },
  {
   "cell_type": "code",
   "execution_count": null,
   "metadata": {},
   "outputs": [],
   "source": [
    "import numpy as np\n",
    "array1 = np.array([0, 10, 20, 40, 60])\n",
    "print(\"Array1: \",array1)\n",
    "array2 = [10, 30, 40]\n",
    "print(\"Array2: \",array2)\n",
    "print(\"Common values between two arrays:\")\n",
    "print(np.intersect1d(array1, array2))\n"
   ]
  },
  {
   "cell_type": "markdown",
   "metadata": {},
   "source": [
    "编写一个NumPy程序以获取数组的唯一元素。\n",
    "预期输出：\n",
    "原始数组：\n",
    "[10 10 20 20 30 30]\n",
    "上面的数组的唯一元素：\n",
    "[10 20 30]\n",
    "原始数组：\n",
    "[[1 1]\n",
    "[2 3]]\n",
    "上面的数组的唯一元素：\n",
    "[1 2 3]"
   ]
  },
  {
   "cell_type": "code",
   "execution_count": 6,
   "metadata": {},
   "outputs": [
    {
     "name": "stdout",
     "output_type": "stream",
     "text": [
      "Original array:\n",
      "[10 10 20 20 30 30]\n",
      "Unique elements of the above array:\n",
      "[10 20 30]\n",
      "Original array:\n",
      "[[1 1]\n",
      " [2 3]]\n",
      "Unique elements of the above array:\n",
      "[1 2 3]\n"
     ]
    }
   ],
   "source": [
    "import numpy as np\n",
    "x = np.array([10, 10, 20, 20, 30, 30])\n",
    "print(\"Original array:\")\n",
    "print(x)\n",
    "print(\"Unique elements of the above array:\")\n",
    "print(np.unique(x))\n",
    "x = np.array([[1, 1], [2, 3]])\n",
    "print(\"Original array:\")\n",
    "print(x)\n",
    "print(\"Unique elements of the above array:\")\n",
    "print(np.unique(x))\n"
   ]
  },
  {
   "cell_type": "markdown",
   "metadata": {},
   "source": [
    "编写一个NumPy程序来查找两个数组的集合差。设置差异将返回array1中不在array2中的排序后的唯一值。\n",
    "预期输出：\n",
    "Array1：[0 10 20 40 60 80]\n",
    "Array2：[10、30、40、50、70、90]\n",
    "设置两个数组之间的差：\n",
    "[0 20 60 80]"
   ]
  },
  {
   "cell_type": "code",
   "execution_count": null,
   "metadata": {},
   "outputs": [],
   "source": [
    "import numpy as np\n",
    "array1 = np.array([0, 10, 20, 40, 60, 80])\n",
    "print(\"Array1: \",array1)\n",
    "array2 = [10, 30, 40, 50, 70]\n",
    "print(\"Array2: \",array2)\n",
    "print(\"Unique values in array1 that are not in array2:\")\n",
    "print(np.setdiff1d(array1, array2))\n"
   ]
  },
  {
   "cell_type": "markdown",
   "metadata": {},
   "source": [
    "编写一个NumPy程序来查找两个数组的异或集。Set Exclusive-or将返回仅在输入数组中一个（不是两个）中排序的唯一值。\n",
    "Array1：[0 10 20 40 60 80]\n",
    "Array2：[10、30、40、50、70]\n",
    "仅在输入数组之一（不是两个）中的唯一值：\n",
    "[0 20 30 50 60 70 80]"
   ]
  },
  {
   "cell_type": "code",
   "execution_count": 7,
   "metadata": {},
   "outputs": [
    {
     "name": "stdout",
     "output_type": "stream",
     "text": [
      "Array1:  [ 0 10 20 40 60 80]\n",
      "Array2:  [10, 30, 40, 50, 70]\n",
      "Unique values that are in only one (not both) of the input arrays:\n",
      "[ 0 20 30 50 60 70 80]\n"
     ]
    }
   ],
   "source": [
    "import numpy as np\n",
    "array1 = np.array([0, 10, 20, 40, 60, 80])\n",
    "print(\"Array1: \",array1)\n",
    "array2 = [10, 30, 40, 50, 70]\n",
    "print(\"Array2: \",array2)\n",
    "print(\"Unique values that are in only one (not both) of the input arrays:\")\n",
    "print(np.setxor1d(array1, array2))\n"
   ]
  },
  {
   "cell_type": "markdown",
   "metadata": {},
   "source": [
    "编写一个NumPy程序来查找两个数组的并集。Union将返回两个输入数组之一中唯一的，已排序的值数组。\n",
    "Array1：[0 10 20 40 60 80]\n",
    "Array2：[10、30、40、50、70]\n",
    "在两个输入数组之一中的值的唯一排序数组：\n",
    "[0 10 20 30 40 50 60 70 80]"
   ]
  },
  {
   "cell_type": "code",
   "execution_count": null,
   "metadata": {},
   "outputs": [],
   "source": [
    "import numpy as np\n",
    "array1 = np.array([0, 10, 20, 40, 60, 80])\n",
    "print(\"Array1: \",array1)\n",
    "array2 = [10, 30, 40, 50, 70]\n",
    "print(\"Array2: \",array2)\n",
    "print(\"Unique sorted array of values that are in either of the two input arrays:\")\n",
    "print(np.union1d(array1, array2))\n"
   ]
  },
  {
   "cell_type": "markdown",
   "metadata": {},
   "source": [
    "编写一个NumPy程序以测试数组中的所有元素是否都为True。\n",
    "注意：0在NumPy中的计算结果为False。"
   ]
  },
  {
   "cell_type": "code",
   "execution_count": null,
   "metadata": {},
   "outputs": [],
   "source": [
    "import numpy as np\n",
    "print(np.all([[True,False],[True,True]]))\n",
    "print(np.all([[True,True],[True,True]]))\n",
    "print(np.all([10, 20, 0, -50]))\n",
    "print(np.all([10, 20, -50]))"
   ]
  },
  {
   "cell_type": "markdown",
   "metadata": {},
   "source": [
    "编写一个NumPy程序，以测试沿给定轴的任何数组元素的求值是否为True。\n",
    "注意：0在NumPy中的计算结果为False。"
   ]
  },
  {
   "cell_type": "code",
   "execution_count": null,
   "metadata": {},
   "outputs": [],
   "source": [
    "import numpy as np\n",
    "print(np.any([[False,False],[False,False]]))\n",
    "print(np.any([[True,True],[True,True]]))\n",
    "print(np.any([10, 20, 0, -50]))\n",
    "print(np.any([10, 20, -50]))\n"
   ]
  },
  {
   "cell_type": "markdown",
   "metadata": {},
   "source": [
    "编写一个NumPy程序，通过重复来构造一个数组。\n",
    "样本数组：[1、2、3、4]\n",
    "预期输出：\n",
    "原始数组\n",
    "[1、2、3、4]\n",
    "重复2次\n",
    "[1 2 3 4 1 2 3 4]\n",
    "重复3次\n",
    "[1 2 3 4 1 2 3 4 1 2 3 4]"
   ]
  },
  {
   "cell_type": "code",
   "execution_count": 8,
   "metadata": {},
   "outputs": [
    {
     "name": "stdout",
     "output_type": "stream",
     "text": [
      "Original array\n",
      "[1, 2, 3, 4]\n",
      "Repeating 2 times\n",
      "[1 2 3 4 1 2 3 4]\n",
      "Repeating 3 times\n",
      "[1 2 3 4 1 2 3 4 1 2 3 4]\n"
     ]
    }
   ],
   "source": [
    "import numpy as np\n",
    "a = [1, 2, 3, 4]\n",
    "print(\"Original array\")\n",
    "print(a)\n",
    "print(\"Repeating 2 times\")\n",
    "x = np.tile(a, 2)\n",
    "print(x)\n",
    "print(\"Repeating 3 times\")\n",
    "x = np.tile(a, 3)\n",
    "print(x)\n"
   ]
  },
  {
   "cell_type": "markdown",
   "metadata": {},
   "source": [
    "编写一个NumPy程序来重复数组的元素。\n",
    "预期输出：\n",
    "[3 3 3 3]\n",
    "[1 1 2 2 3 3 4 4]"
   ]
  },
  {
   "cell_type": "code",
   "execution_count": null,
   "metadata": {},
   "outputs": [],
   "source": [
    "import numpy as np\n",
    "x = np.repeat(3, 4)\n",
    "print(x)\n",
    "x = np.array([[1,2],[3,4]])\n",
    "print(np.repeat(x, 2))\n"
   ]
  },
  {
   "cell_type": "markdown",
   "metadata": {},
   "source": [
    "编写一个NumPy程序，以沿着数组的给定轴查找最大值和最小值的索引。\n",
    "原始数组：[1 2 3 4 5 6]\n",
    "最大值：5\n",
    "最小值：0"
   ]
  },
  {
   "cell_type": "code",
   "execution_count": null,
   "metadata": {},
   "outputs": [],
   "source": [
    "import numpy as np\n",
    "x = np.array([1, 2, 3, 4, 5, 6])\n",
    "print(\"Original array: \",x)\n",
    "print(\"Maximum Values: \",np.argmax(x))\n",
    "print(\"Minimum Values: \",np.argmin(x))\n"
   ]
  },
  {
   "cell_type": "markdown",
   "metadata": {},
   "source": [
    "编写一个NumPy程序，使用numpy比较两个数组。\n",
    "数组a：[1 2]\n",
    "数组b：[4 5]\n",
    "a> b\n",
    "[False False]\n",
    "a> = b\n",
    "[False False]\n",
    "a <b\n",
    "[True True]\n",
    "a <= b\n",
    "[True True]"
   ]
  },
  {
   "cell_type": "code",
   "execution_count": null,
   "metadata": {},
   "outputs": [],
   "source": [
    "import numpy as np\n",
    "a = np.array([1, 2])\n",
    "b = np.array([4, 5])\n",
    "print(\"Array a: \",a)\n",
    "print(\"Array b: \",b)\n",
    "print(\"a > b\")\n",
    "print(np.greater(a, b))\n",
    "print(\"a >= b\")\n",
    "print(np.greater_equal(a, b))\n",
    "print(\"a < b\")\n",
    "print(np.less(a, b))\n",
    "print(\"a <= b\")\n",
    "print(np.less_equal(a, b))\n"
   ]
  },
  {
   "cell_type": "markdown",
   "metadata": {},
   "source": [
    "编写一个NumPy程序，以沿数组的第一个，最后一个轴对进行排序。\n",
    "样本数组：[[2,5]，[4,4]]\n",
    "预期输出：\n",
    "原始数组：\n",
    "[[4 6]\n",
    "[2 1]]\n",
    "沿第一个轴排序：\n",
    "[[2 1]\n",
    "[4 6 ] ]\n",
    "沿最后一个轴排序：\n",
    "[[1 2]\n",
    "[4 6]]"
   ]
  },
  {
   "cell_type": "code",
   "execution_count": null,
   "metadata": {},
   "outputs": [],
   "source": [
    "import numpy as np\n",
    "a = np.array([[4, 6],[2, 1]])\n",
    "print(\"Original array: \")\n",
    "print(a)\n",
    "print(\"Sort along the first axis: \")\n",
    "x = np.sort(a, axis=0)\n",
    "print(x)\n",
    "print(\"Sort along the last axis: \")\n",
    "y = np.sort(x, axis=1)\n",
    "print(y)\n"
   ]
  },
  {
   "cell_type": "markdown",
   "metadata": {},
   "source": [
    "编写一个NumPy程序，以对成对的名字和姓氏返回其索引。（首先按姓氏，然后按名字）。\n",
    "first_names =（贝塞（Betsey），雪莱（Shelley），莱恩（Lanell），创世纪（Genesis），玛格丽\n",
    "（Margery））last_names =（战斗（Battle），布里恩（Brien），普洛特纳（Plotner），斯塔尔（Stahl），伍拉姆（Woolum））\n",
    "预期输出：\n",
    "[1 3 2 4 0]"
   ]
  },
  {
   "cell_type": "code",
   "execution_count": null,
   "metadata": {},
   "outputs": [],
   "source": [
    "import numpy as np\n",
    "first_names =    ('Margery', 'Betsey', 'Shelley', 'Lanell', 'Genesis')\n",
    "last_names = ('Woolum', 'Battle', 'Plotner', 'Brien', 'Stahl')\n",
    "x = np.lexsort((first_names, last_names))\n",
    "print(x)\n"
   ]
  },
  {
   "cell_type": "markdown",
   "metadata": {},
   "source": [
    "编写一个NumPy程序，以获取给定数组中大于10的元素的值和索引。\n",
    "原始数组：\n",
    "[[0 10 20]\n",
    "[20 30 40]]\n",
    "大于10的值= [20 20 30 40]\n",
    "它们的索引为（array（[0，1，1，1]]，array（[ 2，0，1，2]）））"
   ]
  },
  {
   "cell_type": "code",
   "execution_count": null,
   "metadata": {},
   "outputs": [],
   "source": [
    "原始数组：\n",
    "[[0 10 20]\n",
    "[20 30 40]]\n",
    "大于10的值= [20 20 30 40]\n",
    "它们的索引为（array（[0，1，1，1]），array（[ 2，0，1，2]）））"
   ]
  },
  {
   "cell_type": "markdown",
   "metadata": {},
   "source": [
    "编写一个NumPy程序将NumPy数组保存到文本文件。"
   ]
  },
  {
   "cell_type": "code",
   "execution_count": null,
   "metadata": {},
   "outputs": [],
   "source": [
    "import numpy as np\n",
    "a = np.arange(1.0, 2.0, 36.2)\n",
    "np.savetxt('file.out', a, delimiter=',')\n"
   ]
  },
  {
   "cell_type": "markdown",
   "metadata": {},
   "source": [
    "编写一个NumPy程序以查找NumPy数组的内存大小。\n",
    "预期输出：\n",
    "128字节"
   ]
  },
  {
   "cell_type": "code",
   "execution_count": null,
   "metadata": {},
   "outputs": [],
   "source": [
    "import numpy as np\n",
    "n = np.zeros((4,4))\n",
    "print(\"%d bytes\" % (n.size * n.itemsize))\n"
   ]
  },
  {
   "cell_type": "markdown",
   "metadata": {},
   "source": [
    "编写一个NumPy程序来创建一个1的数组和一个0的数组。\n",
    "预期输出：\n",
    "创建一个零数组\n",
    "默认类型为float\n",
    "[[0. 0.]]\n",
    "类型更改为int\n",
    "[[0 0]]\n",
    "创建一个整数数组\n",
    "默认类型为float\n",
    "[[1. 1.]]\n",
    "将更改类型更改为int\n",
    "[[1 1]]"
   ]
  },
  {
   "cell_type": "code",
   "execution_count": null,
   "metadata": {},
   "outputs": [],
   "source": [
    "import numpy as np\n",
    "print(\"Create an array of zeros\")\n",
    "x = np.zeros((1,2))\n",
    "print(\"Default type is float\")\n",
    "print(x)\n",
    "print(\"Type changes to int\")\n",
    "x = np.zeros((1,2), dtype = np.int)\n",
    "print(x)\n",
    "print(\"Create an array of ones\")\n",
    "y= np.ones((1,2)) \n",
    "print(\"Default type is float\")\n",
    "print(y)\n",
    "print(\"Type changes to int\")\n",
    "y = np.ones((1,2), dtype = np.int)\n",
    "print(y)\n"
   ]
  },
  {
   "cell_type": "markdown",
   "metadata": {},
   "source": [
    "编写一个NumPy程序来更改数组的维数。\n",
    "预期输出：\n",
    "6行和0列\n",
    "（6，）\n",
    "（3，3）-> 3行和3列\n",
    "[[1 2 3]\n",
    "[4 5 6]\n",
    "[7 8 9]]\n",
    "将数组形状更改为（3，3）-> 3行3列\n",
    "[[1 2 3]\n",
    "[4 5 6]\n",
    "[7 8 9]]"
   ]
  },
  {
   "cell_type": "code",
   "execution_count": null,
   "metadata": {},
   "outputs": [],
   "source": [
    "import numpy as np\n",
    "x = np.array([1, 2, 3, 4, 5, 6])\n",
    "print(\"6 rows and 0 columns\")\n",
    "print(x.shape)\n",
    "\n",
    "y = np.array([[1, 2, 3],[4, 5, 6],[7,8,9]])\n",
    "print(\"(3, 3) -> 3 rows and 3 columns \")\n",
    "print(y)\n",
    "\n",
    "x = np.array([1,2,3,4,5,6,7,8,9])\n",
    "print(\"Change array shape to (3, 3) -> 3 rows and 3 columns \")\n",
    "x.shape = (3, 3)\n",
    "print(x)\n"
   ]
  },
  {
   "cell_type": "markdown",
   "metadata": {},
   "source": [
    "编写一个NumPy程序来创建一个连续的扁平数组。\n",
    "原始数组：\n",
    "[[10 20 30]\n",
    "[20 40 50]]\n",
    "新的展平数组：\n",
    "[10 20 30 20 40 50]"
   ]
  },
  {
   "cell_type": "code",
   "execution_count": null,
   "metadata": {},
   "outputs": [],
   "source": [
    "import numpy as np\n",
    "x = np.array([[10, 20, 30], [20, 40, 50]])\n",
    "print(\"Original array:\")\n",
    "print(x)\n",
    "y = np.ravel(x)\n",
    "print(\"New flattened array:\")\n",
    "print(y)\n"
   ]
  },
  {
   "cell_type": "markdown",
   "metadata": {},
   "source": [
    "编写一个NumPy程序来创建一个大小为2 x 3的二维数组（由4个字节的整数元素组成），并打印数组的形状，类型和数据类型。\n",
    "预期输出：\n",
    "\n",
    "（2，3）\n",
    "int32"
   ]
  },
  {
   "cell_type": "code",
   "execution_count": null,
   "metadata": {},
   "outputs": [],
   "source": [
    "import numpy as np\n",
    "x = np.array([[2, 4, 6], [6, 8, 10]], np.int32)\n",
    "print(type(x))\t\n",
    "print(x.shape)\n",
    "print(x.dtype)\n"
   ]
  },
  {
   "cell_type": "markdown",
   "metadata": {},
   "source": [
    "编写一个NumPy程序，以在不更改数据的情况下为数组创建新形状.\n",
    "重塑3x2：\n",
    "[[1 2]\n",
    "[3 4]\n",
    "[5 6]]\n",
    "重塑2x3：\n",
    "[[1 2 3]\n",
    "[4 5 6]]"
   ]
  },
  {
   "cell_type": "code",
   "execution_count": null,
   "metadata": {},
   "outputs": [],
   "source": [
    "import numpy as np\n",
    "x = np.array([1, 2, 3, 4, 5, 6])\n",
    "y = np.reshape(x,(3,2))\n",
    "print(\"Reshape 3x2:\")\n",
    "print(y)\n",
    "z = np.reshape(x,(2,3))\n",
    "print(\"Reshape 2x3:\")\n",
    "print(z)\n"
   ]
  },
  {
   "cell_type": "markdown",
   "metadata": {},
   "source": [
    "编写一个NumPy程序来更改数组的数据类型。\n",
    "预期输出：\n",
    "[[2 4 6]\n",
    "[6 8 10]]\n",
    "数组x的数据类型为：int32\n",
    "新建类型：float64\n",
    "[[2. 4. 6.]\n",
    "[6. 8. 10.]]"
   ]
  },
  {
   "cell_type": "code",
   "execution_count": null,
   "metadata": {},
   "outputs": [],
   "source": [
    "import numpy as np\n",
    "x = np.array([[2, 4, 6], [6, 8, 10]], np.int32)\n",
    "print(x)\n",
    "print(\"Data type of the array x is:\",x.dtype)\n",
    "# Change the data type of x\n",
    "y = x.astype(float)\n",
    "print(\"New Type: \",y.dtype)\n",
    "print(y)\n"
   ]
  },
  {
   "cell_type": "markdown",
   "metadata": {},
   "source": [
    "编写一个NumPy程序以创建一个新的3 * 5数组，并填充2。\n",
    "预期输出：\n",
    "[[2 2 2 2 2]\n",
    "[2 2 2 2 2]\n",
    "[2 2 2 2 2]]\n",
    "[[2 2 2 2 2]\n",
    "[2 2 2 2 2]\n",
    "[2 2 2 2 2]]"
   ]
  },
  {
   "cell_type": "code",
   "execution_count": null,
   "metadata": {},
   "outputs": [],
   "source": [
    "import numpy as np\n",
    "#using no.full\n",
    "x = np.full((3, 5), 2, dtype=np.uint)\n",
    "print(x)\n",
    "#using no.ones\n",
    "y = np.ones([3, 5], dtype=np.uint) *2\n",
    "print(y)\n"
   ]
  },
  {
   "cell_type": "markdown",
   "metadata": {},
   "source": [
    "编写一个NumPy程序来创建一个10的数组，该数组具有与给定数组相同的形状和类型。\n",
    "样本数组：x = np.arange（4，dtype = np.int64）\n",
    "预期输出：\n",
    "[10 10 10 10]"
   ]
  },
  {
   "cell_type": "code",
   "execution_count": null,
   "metadata": {},
   "outputs": [],
   "source": [
    "import numpy as np\n",
    "x = np.arange(4, dtype=np.int64)\n",
    "y = np.full_like(x, 10)\n",
    "print(y)\n"
   ]
  },
  {
   "cell_type": "markdown",
   "metadata": {},
   "source": [
    "编写一个NumPy程序来创建一个3-D数组，其中对角线为1，其他位置为零。\n",
    "预期输出：\n",
    "[[1. 0. 0.]\n",
    "[0. 1. 0.]\n",
    "[0. 0. 1.]]"
   ]
  },
  {
   "cell_type": "code",
   "execution_count": null,
   "metadata": {},
   "outputs": [],
   "source": [
    "import numpy as np\n",
    "x = np.eye(3)\n",
    "print(x)\n"
   ]
  },
  {
   "cell_type": "markdown",
   "metadata": {},
   "source": [
    "编写一个NumPy程序来创建一个二维数组，其对角线等于[4、5、6、8]，其他地方为0。\n",
    "预期输出：\n",
    "[[4 0 0 0]\n",
    "[0 5 0 0]\n",
    "[0 0 6 0]\n",
    "[0 0 0 8]]"
   ]
  },
  {
   "cell_type": "code",
   "execution_count": null,
   "metadata": {},
   "outputs": [],
   "source": [
    "import numpy as np\n",
    "x =  np.diagflat([4, 5, 6, 8])\n",
    "print(x)\n"
   ]
  },
  {
   "cell_type": "markdown",
   "metadata": {},
   "source": [
    "编写一个NumPy程序以创建一个从0到50的一维数组和一个从10到50的数组。\n",
    "预期输出：\n",
    "从0到50的数组：\n",
    "[0 1 2 3 4 5 6 7 8 9 10 11 12 13 14 15 16 17 18 19 20 21 22 23 24\n",
    "25 26 27 28 29 30 31 32 33 34 35 36 37 38 39 40 41 42 43 44 45 46 47 48 49]\n",
    "从10到50的数组：\n",
    "[10 11 12 13 14 15 16 17 18 19 20 21 22 23 24 25 26 27 28 29 30 31 32 33 34\n",
    "35 36 37 38 39 40 41 42 43 44 45 46 47 48 49]"
   ]
  },
  {
   "cell_type": "code",
   "execution_count": null,
   "metadata": {},
   "outputs": [],
   "source": [
    "import numpy as np\n",
    "x = np.arange(50)\n",
    "print(\"Array from 0 to 50:\")\n",
    "print(x)\n",
    "x = np.arange(10, 50)\n",
    "print(\"Array from 10 to 50:\")\n",
    "print(x)\n"
   ]
  },
  {
   "cell_type": "markdown",
   "metadata": {},
   "source": [
    "编写一个NumPy程序以创建一个2.5维之间由30个均匀间隔的元素组成的一维数组。和6.5（含）。\n",
    "预期输出：\n",
    "[2.5 2.63793103 2.77586207 2.9137931 3.05172414 3.18965517\n",
    "3.32758621 3.46551724 3.60344828 3.74137931 3.87931034 4.01724138\n",
    "4.15517241 4.29310345 4.43103448 4.56896552 4.70689655 4.84482759\n",
    "4.98275862 5.12068966 5.25862069 5.39655172 5.53448276 5.67241379\n",
    "5.81034483 5.94827586 6.0862069 6.22413793 6.36206897 6.5]"
   ]
  },
  {
   "cell_type": "code",
   "execution_count": null,
   "metadata": {},
   "outputs": [],
   "source": [
    "import numpy as np\n",
    "x = np.linspace(2.5, 6.5, 30)\n",
    "print(x)\n"
   ]
  },
  {
   "cell_type": "markdown",
   "metadata": {},
   "source": [
    "编写一个NumPy程序以创建一个由20个元素组成的1-D数组，该数组在2到5（不包括对数）之间的对数刻度上均匀分布。\n",
    "预期输出：\n",
    "[100 141.25375446 199.5262315 281.83829313\n",
    "398.10717055 562.34132519 794.32823472 1122.0184543\n",
    "1584.89319246 2238.72113857 3162.27766017 4466.83592151\n",
    "6309.5734448 8912.50938134 12589.25411794 17782.79410039\n",
    "25118.8643151 35481.33892336 50118.72336273 70794.57843841]"
   ]
  },
  {
   "cell_type": "code",
   "execution_count": null,
   "metadata": {},
   "outputs": [],
   "source": [
    "import numpy as np\n",
    "x =  np.logspace(2., 5., 20, endpoint=False)\n",
    "print(x)\n"
   ]
  },
  {
   "cell_type": "markdown",
   "metadata": {},
   "source": [
    "编写一个NumPy程序来创建一个数组，看起来像下面的数组。\n",
    "预期输出：\n",
    "[[0. 0. 0.]\n",
    "[1. 0. 0.]\n",
    "[1. 1. 0.]\n",
    "[1. 1. 1.]]"
   ]
  },
  {
   "cell_type": "code",
   "execution_count": null,
   "metadata": {},
   "outputs": [],
   "source": [
    "import numpy as np\n",
    "x = np.tri(4, 3, -1)\n",
    "print(x)\n"
   ]
  },
  {
   "cell_type": "markdown",
   "metadata": {},
   "source": [
    "编写一个NumPy程序来创建一个类似于下面的数组的数组。\n",
    "预期输出：\n",
    "[[2 3 4]\n",
    "[5 6 7]\n",
    "[0 9 10]\n",
    "[0 0 13]]"
   ]
  },
  {
   "cell_type": "code",
   "execution_count": null,
   "metadata": {},
   "outputs": [],
   "source": [
    "import numpy as np\n",
    "x = np.triu(np.arange(2, 14).reshape(4, 3), -1)\n",
    "print(x)\n"
   ]
  },
  {
   "cell_type": "markdown",
   "metadata": {},
   "source": [
    "编写一个NumPy程序，将3-D数组折叠为一维数组。\n",
    "预期输出：\n",
    "3-D数组：\n",
    "[[1. 0. 0.]\n",
    "[0. 1. 0.]\n",
    "[0. 0. 1.]]\n",
    "一维数组：\n",
    "[1. 0. 0. 0 .1. 0. 0. 0. 1.]"
   ]
  },
  {
   "cell_type": "code",
   "execution_count": null,
   "metadata": {},
   "outputs": [],
   "source": [
    "import numpy as np\n",
    "x = np.eye(3)\n",
    "print(\"3-D array:\")\n",
    "print(x)\n",
    "f = np.ravel(x, order='F')\n",
    "print(\"One dimension array:\")\n",
    "print(f)\n"
   ]
  },
  {
   "cell_type": "markdown",
   "metadata": {},
   "source": [
    "编写一个NumPy程序以查找指定数组的第4个元素。\n",
    "预期输出：\n",
    "[[2 4 6]\n",
    "[6 8 10]]\n",
    "数组的第一部分：\n",
    "6"
   ]
  },
  {
   "cell_type": "code",
   "execution_count": null,
   "metadata": {},
   "outputs": [],
   "source": [
    "import numpy as np\n",
    "x = np.array([[2, 4, 6], [6, 8, 10]], np.int32)\n",
    "print(x)\n",
    "e1 = x.flat[3]\n",
    "print(\"Forth e1ement of the array:\")\n",
    "print(e1)\n"
   ]
  }
 ],
 "metadata": {
  "kernelspec": {
   "display_name": "Python 3",
   "language": "python",
   "name": "python3"
  },
  "language_info": {
   "codemirror_mode": {
    "name": "ipython",
    "version": 3
   },
   "file_extension": ".py",
   "mimetype": "text/x-python",
   "name": "python",
   "nbconvert_exporter": "python",
   "pygments_lexer": "ipython3",
   "version": "3.6.8"
  }
 },
 "nbformat": 4,
 "nbformat_minor": 4
}
