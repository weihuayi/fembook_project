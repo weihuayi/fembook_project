{
 "cells": [
  {
   "cell_type": "markdown",
   "metadata": {},
   "source": [
    "1.编写一个NumPy程序，对参数元素进行加、减、乘、除."
   ]
  },
  {
   "cell_type": "code",
   "execution_count": 3,
   "metadata": {},
   "outputs": [
    {
     "name": "stdout",
     "output_type": "stream",
     "text": [
      "Add:\n",
      " 5.0\n",
      "Subtract:\n",
      " -3.0\n",
      "Multiply:\n",
      " 4.0\n",
      "Divide:\n",
      " 0.25\n"
     ]
    }
   ],
   "source": [
    "import numpy as np\n",
    "print(\"Add:\\n\",np.add(2.0,3.0))\n",
    "print(\"Subtract:\\n\",np.subtract(2.0,5.0))\n",
    "print(\"Multiply:\\n\",np.multiply(2.0,2.0))\n",
    "print(\"Divide:\\n\",np.divide(1.0,4.0))"
   ]
  },
  {
   "cell_type": "markdown",
   "metadata": {},
   "source": [
    "2.编写一个NumPy程序来计算幂指数和的对数计算。\n",
    "\n",
    "logaddexp(x1,x2)等于$\\log(\\exp(x1)+\\exp(x2))$\n",
    "\n",
    "logaddexp2(x1, x2)等于$\\log_2(2^{x1} + 2^{x2})$"
   ]
  },
  {
   "cell_type": "code",
   "execution_count": 6,
   "metadata": {},
   "outputs": [
    {
     "name": "stdout",
     "output_type": "stream",
     "text": [
      "Logarithm of the sum of exponentiations:\n",
      " 1.31326168752\n",
      "Logarithm of the sum of exponentiations of the inputs in base-2:\n",
      " 5.0\n"
     ]
    }
   ],
   "source": [
    "print(\"Logarithm of the sum of exponentiations:\\n\",np.logaddexp(0,1))\n",
    "print(\"Logarithm of the sum of exponentiations of the inputs in base-2:\\n\",np.logaddexp2(4,4))"
   ]
  },
  {
   "cell_type": "markdown",
   "metadata": {},
   "source": [
    "3.编写一个NumPy程序，得到下面数组。\n",
    "\n",
    "Expected Output:\n",
    "\n",
    "Original array:\n",
    "\n",
    "[0 1 2 3 4 5 6 7 8 9]\n",
    "\n",
    "Division of the array inputs, element-wise:\n",
    "\n",
    "[ 0. 0.33333333 0.66666667 1. 1.33333333 1.6666666\n",
    "7 2. 2.33333333 2.66666667 3. ]"
   ]
  },
  {
   "cell_type": "code",
   "execution_count": 9,
   "metadata": {},
   "outputs": [
    {
     "name": "stdout",
     "output_type": "stream",
     "text": [
      "Original array:\n",
      " [0 1 2 3 4 5 6 7 8 9]\n"
     ]
    }
   ],
   "source": [
    "print(\"Original array:\\n\",np.arange(0,10))"
   ]
  },
  {
   "cell_type": "code",
   "execution_count": 12,
   "metadata": {},
   "outputs": [
    {
     "name": "stdout",
     "output_type": "stream",
     "text": [
      "Division of the array inputs, element-wise:\n",
      " [ 0.          0.33333333  0.66666667  1.          1.33333333  1.66666667\n",
      "  2.          2.33333333  2.66666667  3.        ]\n"
     ]
    }
   ],
   "source": [
    "print(\"Division of the array inputs, element-wise:\\n\",np.linspace(0,3,10))"
   ]
  },
  {
   "cell_type": "markdown",
   "metadata": {},
   "source": [
    "4.编写一个NumPy程序,将对浮点数进行向下取整并返回整数的除法。\n",
    "\n",
    "Expected Output:\n",
    "\n",
    "Original array:\n",
    "\n",
    "[1.0, 2.0, 3.0, 4.0]\n",
    "\n",
    "Largest integer smaller or equal to the division of the inputs:\n",
    "\n",
    "[ 0. 1. 2. 2.]"
   ]
  },
  {
   "cell_type": "code",
   "execution_count": 18,
   "metadata": {},
   "outputs": [
    {
     "name": "stdout",
     "output_type": "stream",
     "text": [
      "Original array:\n",
      " [ 1.  2.  3.  4.]\n",
      "Largest integer smaller or equal to the division of the inputs:\n",
      " [ 0.  1.  2.  2.]\n"
     ]
    }
   ],
   "source": [
    "x=np.array([1.0,2.0,3.0,4.0])\n",
    "print(\"Original array:\\n\",x)\n",
    "print(\"Largest integer smaller or equal to the division of the inputs:\\n\",np.floor_divide(x, 1.5))"
   ]
  },
  {
   "cell_type": "markdown",
   "metadata": {},
   "source": [
    "5.编写一个NumPy程序来获得数组值元素的能力。注：第一个数组元素从第二个数组提升为幂。\n",
    "\n",
    "Expected Output:\n",
    "\n",
    "Original array\n",
    "\n",
    "[0 1 2 3 4 5 6]\n",
    "\n",
    "First array elements raised to powers from second array, element-wise:\n",
    "\n",
    "[ 0 1 8 27 64 125 216]"
   ]
  },
  {
   "cell_type": "code",
   "execution_count": 21,
   "metadata": {},
   "outputs": [
    {
     "name": "stdout",
     "output_type": "stream",
     "text": [
      "Original array:\n",
      " [0 1 2 3 4 5 6]\n",
      "First array elements raised to powers from second array, element-wise:\n",
      " [  0   1   8  27  64 125 216]\n"
     ]
    }
   ],
   "source": [
    "x=np.array([0,1,2,3,4,5,6],dtype=int)\n",
    "print(\"Original array:\\n\",x)\n",
    "print(\"First array elements raised to powers from second array, element-wise:\\n\",np.power(x,3))"
   ]
  },
  {
   "cell_type": "markdown",
   "metadata": {},
   "source": [
    "6.编写一个NumPy程序，以获取分区数组的元素的余数。\n",
    "\n",
    "Sample Output:\n",
    "\n",
    "Original array:\n",
    "\n",
    "[0 1 2 3 4 5 6]\n",
    "\n",
    "Element-wise remainder of division:\n",
    "\n",
    "[0 1 2 3 4 0 1]"
   ]
  },
  {
   "cell_type": "code",
   "execution_count": 22,
   "metadata": {},
   "outputs": [
    {
     "name": "stdout",
     "output_type": "stream",
     "text": [
      "Original array:\n",
      " [0 1 2 3 4 5 6]\n",
      "Element-wise remainder of division:\n",
      " [0 1 2 3 4 0 1]\n"
     ]
    }
   ],
   "source": [
    "x=np.arange(7)\n",
    "print(\"Original array:\\n\",x)\n",
    "print(\"Element-wise remainder of division:\\n\",np.remainder(x,5))"
   ]
  },
  {
   "cell_type": "markdown",
   "metadata": {},
   "source": [
    "7.编写NumPy程序，计算元素的绝对值。\n",
    "\n",
    "Sample output:\n",
    "\n",
    "Original array:\n",
    "\n",
    "[ -10.2 122.2 0.2]\n",
    "\n",
    "Element-wise absolute value:\n",
    "\n",
    "[ 10.2 122.2 0.2]"
   ]
  },
  {
   "cell_type": "code",
   "execution_count": 23,
   "metadata": {},
   "outputs": [
    {
     "name": "stdout",
     "output_type": "stream",
     "text": [
      "Original array:\n",
      " [ -10.2  122.2    0.2]\n",
      "Element-wise absolute value:\n",
      " [  10.2  122.2    0.2]\n"
     ]
    }
   ],
   "source": [
    "x=np.array([-10.2,122.2,0.2])\n",
    "print(\"Original array:\\n\",x)\n",
    "print(\"Element-wise absolute value:\\n\",np.absolute(x))"
   ]
  },
  {
   "cell_type": "markdown",
   "metadata": {},
   "source": [
    "8.编写一个NumPy程序，将数组元素保留到给定的小数。\n",
    "\n",
    "round() 方法返回浮点数x的四舍五入值。"
   ]
  },
  {
   "cell_type": "code",
   "execution_count": 24,
   "metadata": {},
   "outputs": [
    {
     "name": "stdout",
     "output_type": "stream",
     "text": [
      "[ 1.  1.  2.  5.]\n"
     ]
    }
   ],
   "source": [
    "print(np.round([1.11,1.45,1.7,4.7]))"
   ]
  },
  {
   "cell_type": "code",
   "execution_count": 26,
   "metadata": {},
   "outputs": [
    {
     "name": "stdout",
     "output_type": "stream",
     "text": [
      "[ 2.33  4.67  1.02  4.44]\n"
     ]
    }
   ],
   "source": [
    "print(np.round([2.33,4.67,1.022,4.444],decimals=2))#decimals保留几位小数"
   ]
  },
  {
   "cell_type": "markdown",
   "metadata": {},
   "source": [
    "9.编写NumPy程序，将数组的元素舍入最近的整数。"
   ]
  },
  {
   "cell_type": "code",
   "execution_count": 28,
   "metadata": {},
   "outputs": [
    {
     "name": "stdout",
     "output_type": "stream",
     "text": [
      "Original array:\n",
      " [-0.91 -2.3   1.9   2.1 ]\n",
      "Round elements of the array to the nearest integer:\n",
      " [-1. -2.  2.  2.]\n"
     ]
    }
   ],
   "source": [
    "x=np.array([-0.91,-2.3,1.9,2.1])\n",
    "print(\"Original array:\\n\",x)\n",
    "print(\"Round elements of the array to the nearest integer:\\n\",np.rint(x))"
   ]
  },
  {
   "cell_type": "markdown",
   "metadata": {},
   "source": [
    "10.编写一个NumPy程序来获取Numpy数组元素的下限、上限和截断值。"
   ]
  },
  {
   "cell_type": "code",
   "execution_count": 30,
   "metadata": {},
   "outputs": [
    {
     "name": "stdout",
     "output_type": "stream",
     "text": [
      "Original array:\n",
      " [-0.91 -2.3   1.9   2.1 ]\n",
      "Floor values of the above array elements:\n",
      " [-1. -3.  1.  2.]\n",
      "Ceil values of the above array elements:\n",
      " [-0. -2.  2.  3.]\n",
      "Truncated values of the above array elements:\n",
      " [-0. -2.  1.  2.]\n"
     ]
    }
   ],
   "source": [
    "x=np.array([-0.91,-2.3,1.9,2.1])\n",
    "print(\"Original array:\\n\",x)\n",
    "print(\"Floor values of the above array elements:\\n\",np.floor(x))\n",
    "print(\"Ceil values of the above array elements:\\n\",np.ceil(x))\n",
    "print(\"Truncated values of the above array elements:\\n\",np.trunc(x))"
   ]
  },
  {
   "cell_type": "markdown",
   "metadata": {},
   "source": [
    "11.编写一个NumPy程序，将一个5x3矩阵乘以一个3x2矩阵，并创建一个实矩阵乘积。"
   ]
  },
  {
   "cell_type": "code",
   "execution_count": 34,
   "metadata": {},
   "outputs": [
    {
     "name": "stdout",
     "output_type": "stream",
     "text": [
      "Dot product of two arrays:\n",
      " [[ 0.65489958  1.13127721]\n",
      " [ 0.5933768   0.34973401]\n",
      " [ 0.34935506  0.2815315 ]\n",
      " [ 0.22388474  0.94092529]\n",
      " [ 0.73772751  0.354496  ]]\n"
     ]
    }
   ],
   "source": [
    "A=np.random.random((5,3))\n",
    "B=np.random.random((3,2))\n",
    "print(\"Dot product of two arrays:\\n\",np.dot(A,B))"
   ]
  },
  {
   "cell_type": "markdown",
   "metadata": {},
   "source": [
    "12.编写numpy程序,建立两个复数数组，并且做內积。"
   ]
  },
  {
   "cell_type": "code",
   "execution_count": 37,
   "metadata": {},
   "outputs": [
    {
     "name": "stdout",
     "output_type": "stream",
     "text": [
      "Product of above two arrays:\n",
      " (13-9j)\n"
     ]
    }
   ],
   "source": [
    "a=np.array([1-3j,5j,3+3j])\n",
    "b=np.array([2,4j,1-4j])\n",
    "print(\"Product of above two arrays:\\n\",np.vdot(a,b))"
   ]
  },
  {
   "cell_type": "markdown",
   "metadata": {},
   "source": [
    "13.编写一个NumPy程序来创建两个数组的内积。"
   ]
  },
  {
   "cell_type": "code",
   "execution_count": 44,
   "metadata": {},
   "outputs": [
    {
     "name": "stdout",
     "output_type": "stream",
     "text": [
      "a:\n",
      " [[ 0  1  2  3  4]\n",
      " [ 5  6  7  8  9]\n",
      " [10 11 12 13 14]]\n",
      "b:\n",
      " [0 1 2 3 4]\n",
      "Inner of a and b arrays:\n",
      " [ 30  80 130]\n"
     ]
    }
   ],
   "source": [
    "a=np.arange(15).reshape(3,5)\n",
    "print(\"a:\\n\",a)\n",
    "b=np.arange(5)\n",
    "print(\"b:\\n\",b)\n",
    "print(\"Inner of a and b arrays:\\n\",np.inner(a,b))"
   ]
  },
  {
   "cell_type": "markdown",
   "metadata": {},
   "source": [
    "14.编写Numpy程序，以生成矩阵和向量的内积、外积和交叉积。"
   ]
  },
  {
   "cell_type": "code",
   "execution_count": 46,
   "metadata": {},
   "outputs": [
    {
     "name": "stdout",
     "output_type": "stream",
     "text": [
      "Inner product of x and y:\n",
      " 32\n",
      "Outer product of x and y:\n",
      " [[ 4  5  6]\n",
      " [ 8 10 12]\n",
      " [12 15 18]]\n",
      "Cross product of x and y:\n",
      " [-3  6 -3]\n"
     ]
    }
   ],
   "source": [
    "x=np.array([1,2,3])\n",
    "y=np.array([4,5,6])\n",
    "print(\"Inner product of x and y:\\n\",np.inner(x,y))\n",
    "print(\"Outer product of x and y:\\n\",np.outer(x,y))\n",
    "print(\"Cross product of x and y:\\n\",np.cross(x,y))"
   ]
  },
  {
   "cell_type": "markdown",
   "metadata": {},
   "source": [
    "15.编写一个NumPy程序，使两个数组相乘生成矩阵。"
   ]
  },
  {
   "cell_type": "code",
   "execution_count": 47,
   "metadata": {},
   "outputs": [
    {
     "name": "stdout",
     "output_type": "stream",
     "text": [
      "Matrix product of above two arrays:\n",
      " [[3 1]\n",
      " [5 3]]\n"
     ]
    }
   ],
   "source": [
    "x = [[1, 0], [1, 1]]\n",
    "y = [[3, 1], [2, 2]]\n",
    "print(\"Matrix product of above two arrays:\\n\",np.matmul(x,y))"
   ]
  },
  {
   "cell_type": "markdown",
   "metadata": {},
   "source": [
    "16.编写一个NumPy程序，查找下列多项式的根。\n",
    "\n",
    "a) $x^2 - 4x - 5$.\n",
    "\n",
    "b) $x^4 - 11x^3 + 9x^2 + 11x - 10$"
   ]
  },
  {
   "cell_type": "code",
   "execution_count": 48,
   "metadata": {},
   "outputs": [
    {
     "name": "stdout",
     "output_type": "stream",
     "text": [
      "Roots of the first polynomial:\n",
      " [ 5. -1.]\n",
      "Roots of the second polynomial:\n",
      " [ 10. +0.00000000e+00j  -1. +0.00000000e+00j   1. +9.63574370e-09j\n",
      "   1. -9.63574370e-09j]\n"
     ]
    }
   ],
   "source": [
    "print(\"Roots of the first polynomial:\\n\",np.roots([1,-4,-5]))\n",
    "print(\"Roots of the second polynomial:\\n\",np.roots([1,-11,9,11,-10]))"
   ]
  },
  {
   "cell_type": "markdown",
   "metadata": {},
   "source": [
    "17.编写一个NumPy程序,来计算上面两个多项式值。\n",
    "\n",
    "a)$x=4$\n",
    "\n",
    "b)$x=2$"
   ]
  },
  {
   "cell_type": "code",
   "execution_count": 52,
   "metadata": {},
   "outputs": [
    {
     "name": "stdout",
     "output_type": "stream",
     "text": [
      "Polynomial value when x = 4:\n",
      " -5\n",
      "Polynomial value when x = 2:\n",
      " -24\n"
     ]
    }
   ],
   "source": [
    "print(\"Polynomial value when x = 4:\\n\",np.polyval([1,-4,-5],4))\n",
    "print(\"Polynomial value when x = 2:\\n\",np.polyval([1,-11,9,11,-10],2))"
   ]
  },
  {
   "cell_type": "markdown",
   "metadata": {},
   "source": [
    "18.编写一个NumPy程序，多项式的加减乘除。"
   ]
  },
  {
   "cell_type": "code",
   "execution_count": 53,
   "metadata": {},
   "outputs": [
    {
     "name": "stdout",
     "output_type": "stream",
     "text": [
      "Add one polynomial to another:\n",
      " [40 60 80]\n",
      "Subtract one polynomial from another:\n",
      " [-20 -20 -20]\n",
      "Multiply one polynomial by another:\n",
      " [ 300 1000 2200 2200 1500]\n",
      "Divide one polynomial by another:\n",
      " (array([ 0.33333333]), array([  6.66666667,  13.33333333]))\n"
     ]
    }
   ],
   "source": [
    "from numpy.polynomial import polynomial as P\n",
    "x = (10,20,30)\n",
    "y = (30,40,50)\n",
    "print(\"Add one polynomial to another:\\n\",np.polyadd(x,y))\n",
    "print(\"Subtract one polynomial from another:\\n\",np.polysub(x,y))\n",
    "print(\"Multiply one polynomial by another:\\n\",np.polymul(x,y))\n",
    "print(\"Divide one polynomial by another:\\n\",np.polydiv(x,y))"
   ]
  },
  {
   "cell_type": "markdown",
   "metadata": {},
   "source": [
    "19.编写Numpy程序以计算二维Numpy阵列中的平均行数和列数。"
   ]
  },
  {
   "cell_type": "code",
   "execution_count": 54,
   "metadata": {},
   "outputs": [
    {
     "name": "stdout",
     "output_type": "stream",
     "text": [
      "Mean of each column:\n",
      " [ 15.  45.]\n",
      "Mean of each row: [ 20.  40.]\n"
     ]
    }
   ],
   "source": [
    "x = np.array([[10, 30], [20, 60]])\n",
    "print(\"Mean of each column:\\n\",x.mean(axis=0))\n",
    "print(\"Mean of each row:\",x.mean(axis=1))"
   ]
  },
  {
   "cell_type": "markdown",
   "metadata": {},
   "source": [
    "20.编写一个NumPy程序，创建一个包含1000个元素的随机数组，并计算阵列元素的平均、方差、标准差。"
   ]
  },
  {
   "cell_type": "code",
   "execution_count": 60,
   "metadata": {},
   "outputs": [
    {
     "name": "stdout",
     "output_type": "stream",
     "text": [
      "Average of the array elements:\n",
      " 0.496668220904\n",
      "Standard deviation of the array elements:\n",
      " 0.284923743155\n",
      "Variance of the array elements:\n",
      " 0.0811815394137\n"
     ]
    }
   ],
   "source": [
    "x=np.random.random(1000)\n",
    "print(\"Average of the array elements:\\n\",np.mean(x))\n",
    "print(\"Standard deviation of the array elements:\\n\",np.std(x))\n",
    "print(\"Variance of the array elements:\\n\",np.var(x))"
   ]
  },
  {
   "cell_type": "markdown",
   "metadata": {},
   "source": [
    "21.编写一个NumPy程序来计算以度为单位的角的三角正弦、余弦和切线数组。"
   ]
  },
  {
   "cell_type": "code",
   "execution_count": 62,
   "metadata": {},
   "outputs": [
    {
     "name": "stdout",
     "output_type": "stream",
     "text": [
      "sine: array of angles given in degrees:\n",
      " [ 0.          0.5         0.70710678  0.8660254   1.        ]\n",
      "cosine: array of angles given in degrees:\n",
      " [  1.00000000e+00   8.66025404e-01   7.07106781e-01   5.00000000e-01\n",
      "   6.12323400e-17]\n",
      "tangent: array of angles given in degrees:\n",
      " [  0.00000000e+00   5.77350269e-01   1.00000000e+00   1.73205081e+00\n",
      "   1.63312394e+16]\n"
     ]
    }
   ],
   "source": [
    "print(\"sine: array of angles given in degrees:\\n\",np.sin(np.array((0., 30., 45., 60., 90.)) * np.pi / 180.))\n",
    "print(\"cosine: array of angles given in degrees:\\n\",np.cos(np.array((0., 30., 45., 60., 90.)) * np.pi / 180.))\n",
    "print(\"tangent: array of angles given in degrees:\\n\",np.tan(np.array((0., 30., 45., 60., 90.)) * np.pi / 180.))"
   ]
  },
  {
   "cell_type": "markdown",
   "metadata": {},
   "source": [
    "22.编写一个NumPy程序来计算给定数组中所有元素的反正弦、反余弦和反正切。"
   ]
  },
  {
   "cell_type": "code",
   "execution_count": 63,
   "metadata": {},
   "outputs": [
    {
     "name": "stdout",
     "output_type": "stream",
     "text": [
      "Inverse sine: [-1.57079633  0.          1.57079633]\n",
      "Inverse cosine: [ 3.14159265  1.57079633  0.        ]\n",
      "Inverse tangent: [-0.78539816  0.          0.78539816]\n"
     ]
    }
   ],
   "source": [
    "x = np.array([-1., 0, 1.])\n",
    "print(\"Inverse sine:\", np.arcsin(x))\n",
    "print(\"Inverse cosine:\", np.arccos(x))\n",
    "print(\"Inverse tangent:\", np.arctan(x))"
   ]
  },
  {
   "cell_type": "markdown",
   "metadata": {},
   "source": [
    "23.编写Numpy程序以将角度从弧度转换为度。"
   ]
  },
  {
   "cell_type": "code",
   "execution_count": 1,
   "metadata": {},
   "outputs": [
    {
     "name": "stdout",
     "output_type": "stream",
     "text": [
      "[-180.  -90.   90.  180.]\n"
     ]
    }
   ],
   "source": [
    "import numpy as np\n",
    "x = np.array([-np.pi, -np.pi/2, np.pi/2, np.pi])\n",
    "r1 = np.degrees(x)\n",
    "print(r1)"
   ]
  },
  {
   "cell_type": "markdown",
   "metadata": {},
   "source": [
    "24.编写一个NumPy程序，将给定数组中所有元素的角度从度转换为弧度。"
   ]
  },
  {
   "cell_type": "code",
   "execution_count": 2,
   "metadata": {},
   "outputs": [
    {
     "name": "stdout",
     "output_type": "stream",
     "text": [
      "[-3.14159265 -1.57079633  1.57079633  3.14159265]\n"
     ]
    }
   ],
   "source": [
    "x = np.array([-180.,  -90.,   90.,  180.])\n",
    "r1 = np.radians(x)\n",
    "print(r1)"
   ]
  },
  {
   "cell_type": "markdown",
   "metadata": {},
   "source": [
    "25.编写一个NumPy程序来计算给定数组中所有元素的双曲正弦、双曲余弦和双曲切线。"
   ]
  },
  {
   "cell_type": "code",
   "execution_count": 3,
   "metadata": {},
   "outputs": [
    {
     "name": "stdout",
     "output_type": "stream",
     "text": [
      "[-1.17520119  0.          1.17520119]\n",
      "[ 1.54308063  1.          1.54308063]\n",
      "[-0.76159416  0.          0.76159416]\n"
     ]
    }
   ],
   "source": [
    "x = np.array([-1., 0, 1.])\n",
    "print(np.sinh(x))\n",
    "print(np.cosh(x))\n",
    "print(np.tanh(x))"
   ]
  },
  {
   "cell_type": "markdown",
   "metadata": {},
   "source": [
    "26.编写Numpy程序，计算给定数组的around, floor, ceiling, truncated and round （到指定的小数位数）。"
   ]
  },
  {
   "cell_type": "code",
   "execution_count": 7,
   "metadata": {},
   "outputs": [
    {
     "name": "stdout",
     "output_type": "stream",
     "text": [
      "Original array:  [ 3.1  3.5  4.5  2.9 -3.1 -3.5 -5.9]\n",
      "\n",
      "around:    [ 3.  4.  4.  3. -3. -4. -6.]\n",
      "floor:     [ 3.  3.  4.  2. -4. -4. -6.]\n",
      "ceil:      [ 4.  4.  5.  3. -3. -3. -5.]\n",
      "trunc:     [ 3.  3.  4.  2. -3. -3. -5.]\n",
      "round:     [ 3.  4.  4.  3. -3. -4. -6.]\n"
     ]
    }
   ],
   "source": [
    "x = np.array([3.1, 3.5, 4.5, 2.9, -3.1, -3.5, -5.9])\n",
    "print(\"Original array: \",x)\n",
    "print(\"\\naround:   \", np.around(x))#与round类似，对数组四舍五入\n",
    "print(\"floor:    \",np.floor(x))#将x中各元素取比它小的最大的整数\n",
    "print(\"ceil:     \",np.ceil(x))#将x中各元素取比它大的最小的整数\n",
    "print(\"trunc:    \",np.trunc(x))#返回整数部分\n",
    "print(\"round:    \",np.round(x))#将a四舍五入，精度由参数decimals决定，与around等价"
   ]
  },
  {
   "cell_type": "markdown",
   "metadata": {},
   "source": [
    "27.编写一个NumPy程序，计算给定轴上元素的累积和，数组的每一列的累积和，数组的每一行中的累积和。"
   ]
  },
  {
   "cell_type": "code",
   "execution_count": 10,
   "metadata": {},
   "outputs": [
    {
     "name": "stdout",
     "output_type": "stream",
     "text": [
      "Original array:  [[1 2 3]\n",
      " [4 5 6]]\n",
      "Cumulative sum of the elements along a given axis: [ 1  3  6 10 15 21]\n",
      "Sum over rows for each of the 3 columns: [[1 2 3]\n",
      " [5 7 9]]\n",
      "Sum over columns for each of the 2 rows: [[ 1  3  6]\n",
      " [ 4  9 15]]\n"
     ]
    }
   ],
   "source": [
    "x = np.array([[1,2,3], [4,5,6]])\n",
    "print(\"Original array: \",x)\n",
    "print(\"Cumulative sum of the elements along a given axis:\",np.cumsum(x))\n",
    "print(\"Sum over rows for each of the 3 columns:\",np.cumsum(x,axis=0))\n",
    "print(\"Sum over columns for each of the 2 rows:\",np.cumsum(x,axis=1))"
   ]
  },
  {
   "cell_type": "markdown",
   "metadata": {},
   "source": [
    "28.编写一个NumPy程序来计算沿给定轴的元素的累积积，数组的每一列的累积积，数组的每一行中的累积积。"
   ]
  },
  {
   "cell_type": "code",
   "execution_count": 11,
   "metadata": {},
   "outputs": [
    {
     "name": "stdout",
     "output_type": "stream",
     "text": [
      "Original array:  [[1 2 3]\n",
      " [4 5 6]]\n",
      "Cumulative product of the elements along a given axis: [  1   2   6  24 120 720]\n",
      "Product over rows for each of the 3 columns: [[ 1  2  3]\n",
      " [ 4 10 18]]\n",
      "Product over columns for each of the 2 rows: [[  1   2   6]\n",
      " [  4  20 120]]\n"
     ]
    }
   ],
   "source": [
    "x = np.array([[1,2,3], [4,5,6]])\n",
    "print(\"Original array: \",x)\n",
    "print(\"Cumulative product of the elements along a given axis:\",np.cumprod(x))\n",
    "print(\"Product over rows for each of the 3 columns:\",np.cumprod(x,axis=0))\n",
    "print(\"Product over columns for each of the 2 rows:\",np.cumprod(x,axis=1))"
   ]
  },
  {
   "cell_type": "markdown",
   "metadata": {},
   "source": [
    "29.编写一个NumPy程序来计算给定的数组的相邻元素之间的差异。"
   ]
  },
  {
   "cell_type": "code",
   "execution_count": 14,
   "metadata": {},
   "outputs": [
    {
     "name": "stdout",
     "output_type": "stream",
     "text": [
      "Original array:  [12 32  3 45  5  6]\n",
      "Difference between neighboring elements, element-wise of the said array. [ 20 -29  42 -40   1]\n"
     ]
    }
   ],
   "source": [
    "x = np.array([12,32,3,45,5,6])\n",
    "print(\"Original array: \",x)\n",
    "print(\"Difference between neighboring elements, element-wise of the said array.\",np.diff(x))"
   ]
  },
  {
   "cell_type": "markdown",
   "metadata": {},
   "source": [
    "30.编写一个NumPy程序来计算相邻元素之间的差异，并将[0，0]和[200]添加到最后的数组中。"
   ]
  },
  {
   "cell_type": "code",
   "execution_count": 15,
   "metadata": {},
   "outputs": [
    {
     "name": "stdout",
     "output_type": "stream",
     "text": [
      "Original array:  [12 32  3 45  5  6]\n",
      "[  0   0  20 -29  42 -40   1 200]\n"
     ]
    }
   ],
   "source": [
    "x = np.array([12,32,3,45,5,6])\n",
    "print(\"Original array: \",x)\n",
    "print(np.insert(np.append(np.diff(x), 200), 0, [0, 0]))"
   ]
  },
  {
   "cell_type": "markdown",
   "metadata": {},
   "source": [
    "31.编写一个NumPy程序来计算给定数组中每个元素的$e^x$。"
   ]
  },
  {
   "cell_type": "code",
   "execution_count": 16,
   "metadata": {},
   "outputs": [
    {
     "name": "stdout",
     "output_type": "stream",
     "text": [
      "Original array:  [1 2 3 4 5 6]\n",
      "[   2.71828183    7.3890561    20.08553692   54.59815003  148.4131591\n",
      "  403.42879349]\n"
     ]
    }
   ],
   "source": [
    "x = np.array([1,2,3,4,5,6])\n",
    "print(\"Original array: \",x)\n",
    "print(np.exp(x))"
   ]
  },
  {
   "cell_type": "markdown",
   "metadata": {},
   "source": [
    "32.编写一个NumPy程序来计算给定数组中每个元素的$e^x-1$。"
   ]
  },
  {
   "cell_type": "code",
   "execution_count": 17,
   "metadata": {},
   "outputs": [
    {
     "name": "stdout",
     "output_type": "stream",
     "text": [
      "Original array:  [1 2 3 4 5 6]\n",
      "[   1.71828183    6.3890561    19.08553692   53.59815003  147.4131591\n",
      "  402.42879349]\n"
     ]
    }
   ],
   "source": [
    "x = np.array([1,2,3,4,5,6])\n",
    "print(\"Original array: \",x)\n",
    "print(np.exp(x)-1)"
   ]
  },
  {
   "cell_type": "markdown",
   "metadata": {},
   "source": [
    "33.编写一个NumPy程序来计算给定数组中所有元素的$2^x$。"
   ]
  },
  {
   "cell_type": "code",
   "execution_count": 22,
   "metadata": {},
   "outputs": [
    {
     "name": "stdout",
     "output_type": "stream",
     "text": [
      "Original array:  [ 1  2  3  4  5  8 10]\n",
      "[    2.     4.     8.    16.    32.   256.  1024.]\n"
     ]
    }
   ],
   "source": [
    "x = np.array([1,2,3,4,5,8,10])\n",
    "print(\"Original array: \",x)\n",
    "print(np.exp2(x))"
   ]
  },
  {
   "cell_type": "markdown",
   "metadata": {},
   "source": [
    "34.编写一个NumPy程序来计算给定数组中所有元素的自然对数、基为10和2的对数。"
   ]
  },
  {
   "cell_type": "code",
   "execution_count": 26,
   "metadata": {},
   "outputs": [
    {
     "name": "stdout",
     "output_type": "stream",
     "text": [
      "Original array:  [ 1  2  3  4  5  8 10]\n",
      "\n",
      " Natural log = [ 0.          0.69314718  1.09861229  1.38629436  1.60943791  2.07944154\n",
      "  2.30258509]\n",
      "Common log = [ 0.          0.30103     0.47712125  0.60205999  0.69897     0.90308999\n",
      "  1.        ]\n",
      "Base 2 log = [ 0.          1.          1.5849625   2.          2.32192809  3.\n",
      "  3.32192809]\n"
     ]
    }
   ],
   "source": [
    "x = np.array([1,2,3,4,5,8,10])\n",
    "print(\"Original array: \",x)\n",
    "print(\"Natural log =\", np.log(x))\n",
    "print(\"Common log =\", np.log10(x))\n",
    "print(\"Base 2 log =\", np.log2(x))"
   ]
  },
  {
   "cell_type": "markdown",
   "metadata": {},
   "source": [
    "35.编写Numpy程序，以计算浮点精度中给定数组的每个元素的自然对数。\n",
    "\n",
    "数据平滑处理 -- log1p( ) 和 exmp1( )\n",
    "\n",
    "1.  数据预处理时首先可以对偏度比较大的数据用og1p函数进行转化，使其更加服从高斯分布，此步处理可能会使我们后续的分类结果得到一个好的结果。\n",
    "\n",
    "2. 平滑问题很容易处理掉，导致模型的结果达不到一定的标准，log1p( )能够避免复值得问题 — 复值指一个自变量对应多个因变量\n"
   ]
  },
  {
   "cell_type": "code",
   "execution_count": 28,
   "metadata": {},
   "outputs": [
    {
     "name": "stdout",
     "output_type": "stream",
     "text": [
      "Original array:  [  1.00000000e-099   1.00000000e-100]\n",
      "Natural logarithm of one plus each element [  1.00000000e-099   1.00000000e-100]\n"
     ]
    }
   ],
   "source": [
    "x = np.array([1.e-099,1.e-100])\n",
    "print(\"Original array: \",x)\n",
    "print(\"Natural logarithm of one plus each element\", np.log1p(x))"
   ]
  },
  {
   "cell_type": "markdown",
   "metadata": {},
   "source": [
    "36.编写一个NumPy程序来检查给定数组中设置了Signbit的元素是否正确/错误。"
   ]
  },
  {
   "cell_type": "code",
   "execution_count": 29,
   "metadata": {},
   "outputs": [
    {
     "name": "stdout",
     "output_type": "stream",
     "text": [
      "Original array:  [-1 -3  5  0 10 -8]\n",
      "[ True  True False False False  True]\n"
     ]
    }
   ],
   "source": [
    "x=np.array([-1,-3,5,0,10,-8])\n",
    "print(\"Original array: \",x)\n",
    "print(np.signbit(x))"
   ]
  },
  {
   "cell_type": "markdown",
   "metadata": {},
   "source": [
    "37.编写一个NumPy程序，复制第二个数组的符号给第一个数组。"
   ]
  },
  {
   "cell_type": "code",
   "execution_count": 34,
   "metadata": {},
   "outputs": [
    {
     "name": "stdout",
     "output_type": "stream",
     "text": [
      "Original array:  [-1 -3  5  0 10 -8]\n",
      "sign of b to a: [  1.   3.   5.   0.  10.   8.]\n",
      "sign of a to b: [-1.2 -1.2  1.2  1.2  1.2 -1.2]\n"
     ]
    }
   ],
   "source": [
    "a=np.array([-1,-3,5,0,10,-8])\n",
    "print(\"Original array: \",a)\n",
    "b=1.2\n",
    "print(\"sign of b to a:\",np.copysign(a,b))\n",
    "print(\"sign of a to b:\",np.copysign(b,a))"
   ]
  },
  {
   "cell_type": "markdown",
   "metadata": {},
   "source": [
    "38.编写一个NumPy程序来计算给定数组中所有元素的数值相反数。"
   ]
  },
  {
   "cell_type": "code",
   "execution_count": 35,
   "metadata": {},
   "outputs": [
    {
     "name": "stdout",
     "output_type": "stream",
     "text": [
      "Original array:  [-1 -3  5  0 10 -8]\n",
      "Numerical negative value for all elements of the said array:\n",
      " [  1   3  -5   0 -10   8]\n"
     ]
    }
   ],
   "source": [
    "a=np.array([-1,-3,5,0,10,-8])\n",
    "print(\"Original array: \",a)\n",
    "print(\"Numerical negative value for all elements of the said array:\\n\", np.negative(a))"
   ]
  },
  {
   "cell_type": "markdown",
   "metadata": {},
   "source": [
    "39.编写一个NumPy程序来计算给定数组中所有元素的倒数。"
   ]
  },
  {
   "cell_type": "code",
   "execution_count": 43,
   "metadata": {},
   "outputs": [
    {
     "name": "stdout",
     "output_type": "stream",
     "text": [
      "Original array:  [-1.  -3.   0.5 -0.8]\n",
      "Reciprocal for all elements of the said array:\n",
      " [-1.         -0.33333333  2.         -1.25      ]\n"
     ]
    }
   ],
   "source": [
    "a=np.array([-1.0,-3.0,0.5,-0.8])\n",
    "print(\"Original array: \",a)\n",
    "print(\"Reciprocal for all elements of the said array:\\n\",np.reciprocal(a))"
   ]
  },
  {
   "cell_type": "markdown",
   "metadata": {},
   "source": [
    "40、编写NumPy程序以计算两个数组对应元素$x,y$的对应元素的$x^y$。"
   ]
  },
  {
   "cell_type": "code",
   "execution_count": 44,
   "metadata": {},
   "outputs": [
    {
     "name": "stdout",
     "output_type": "stream",
     "text": [
      "[[ 1  4]\n",
      " [ 3 16]]\n"
     ]
    }
   ],
   "source": [
    "x = np.array([[1, 2], [3, 4]])\n",
    "y = np.array([[1, 2], [1, 2]])\n",
    "print(np.power(x,y))"
   ]
  },
  {
   "cell_type": "markdown",
   "metadata": {},
   "source": [
    "41.编写一个NumPy程序来计算给定数组中所有元素的符号的元素级指示。\n",
    "\n",
    "\n",
    "$$sign(x) =\n",
    "\\begin{cases}\n",
    "1, \\mbox{x>0} \\\\\n",
    "0, \\mbox{x=0}\\\\\n",
    "-1,\\mbox{x<0}\n",
    "\\end{cases}$$"
   ]
  },
  {
   "cell_type": "code",
   "execution_count": 45,
   "metadata": {},
   "outputs": [
    {
     "name": "stdout",
     "output_type": "stream",
     "text": [
      "Original array:  [-1 -3  5  0 10 -8]\n",
      "Element-wise indication of the sign for all elements of the said array:\n",
      "[-1 -1  1  0  1 -1]\n"
     ]
    }
   ],
   "source": [
    "a=np.array([-1,-3,5,0,10,-8])\n",
    "print(\"Original array: \",a)\n",
    "#大于０的数指示为１，小于０的数指示为－１\n",
    "r1 = np.sign(a)\n",
    "r2 = np.copy(a)\n",
    "r2[r2 > 0] = 1\n",
    "r2[r2 < 0] = -1\n",
    "assert np.array_equal(r1, r2)\n",
    "print(\"Element-wise indication of the sign for all elements of the said array:\")\n",
    "print(r1)"
   ]
  },
  {
   "cell_type": "code",
   "execution_count": 1,
   "metadata": {},
   "outputs": [
    {
     "name": "stdout",
     "output_type": "stream",
     "text": [
      "Original array:  [-1 -3  5  0 10 -8]\n",
      "[-1 -1  1  0  1 -1]\n"
     ]
    }
   ],
   "source": [
    "import numpy as np\n",
    "a=np.array([-1,-3,5,0,10,-8])\n",
    "print(\"Original array: \",a)\n",
    "print(np.sign(a))"
   ]
  },
  {
   "cell_type": "code",
   "execution_count": null,
   "metadata": {},
   "outputs": [],
   "source": []
  }
 ],
 "metadata": {
  "kernelspec": {
   "display_name": "Python 3",
   "language": "python",
   "name": "python3"
  },
  "language_info": {
   "codemirror_mode": {
    "name": "ipython",
    "version": 3
   },
   "file_extension": ".py",
   "mimetype": "text/x-python",
   "name": "python",
   "nbconvert_exporter": "python",
   "pygments_lexer": "ipython3",
   "version": "3.6.8"
  }
 },
 "nbformat": 4,
 "nbformat_minor": 2
}
