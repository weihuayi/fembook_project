{
 "cells": [
  {
   "cell_type": "code",
   "execution_count": null,
   "metadata": {},
   "outputs": [],
   "source": [
    "编写一个NumPy程序，以沿第一个轴，最后一个轴和展平的数组对形状为2的给定数组进行排序\n",
    "例子输出:\n",
    "原始数组:\n",
    "[[10 40]\n",
    "[30 20]]\n",
    "沿第一轴排序后:\n",
    "[[10 20]\n",
    "[30 40]]\n",
    "沿最后一轴排序后:\n",
    "[[10 40]\n",
    "[20 30]]\n",
    "展平后:\n",
    "[10 20 30 40] "
   ]
  },
  {
   "cell_type": "code",
   "execution_count": null,
   "metadata": {},
   "outputs": [],
   "source": [
    "import numpy as np\n",
    "a = np.array([[10,40],[30,20]])\n",
    "print(\"Original array:\")\n",
    "print(a)\n",
    "print(\"Sort the array along the first axis:\")\n",
    "print(np.sort(a, axis=0))\n",
    "print(\"Sort the array along the last axis:\")\n",
    "print(np.sort(a))\n",
    "print(\"Sort the flattened array:\")\n",
    "print(np.sort(a, axis=None))"
   ]
  },
  {
   "cell_type": "code",
   "execution_count": null,
   "metadata": {},
   "outputs": [],
   "source": [
    "编写一个NumPy程序，根据给定的学生姓名，身高，班级及其数据类型创建结构化数组。 现在按高度排序数组\n",
    "例子输出:\n",
    "原始数组:\n",
    "[(b'James', 5, 48.5 ) (b'Nail', 6, 52.5 ) (b'Paul', 5, 42.1 )\n",
    "(b'Pit', 5, 40.11)]\n",
    "按高度排序后的数组:\n",
    "[(b'Pit', 5, 40.11) (b'Paul', 5, 42.1 ) (b'James', 5, 48.5 )\n",
    "(b'Nail', 6, 52.5 )]"
   ]
  },
  {
   "cell_type": "code",
   "execution_count": null,
   "metadata": {},
   "outputs": [],
   "source": [
    "import numpy as np\n",
    "data_type = [('name', 'S15'), ('class', int), ('height', float)]\n",
    "students_details = [('James', 5, 48.5), ('Nail', 6, 52.5),('Paul', 5, 42.10), ('Pit', 5, 40.11)]\n",
    "# create a structured array\n",
    "students = np.array(students_details, dtype=data_type)   \n",
    "print(\"Original array:\")\n",
    "print(students)\n",
    "print(\"Sort by height\")\n",
    "print(np.sort(students, order='height')) "
   ]
  },
  {
   "cell_type": "code",
   "execution_count": null,
   "metadata": {},
   "outputs": [],
   "source": [
    "编写一个NumPy程序，根据给定的学生姓名，身高，班级及其数据类型创建结构化数组。 现在按类排序，如果类相等，则按高度排序\n",
    "期望输出:\n",
    "原始数组:\n",
    "[(b'James', 5, 48.5 ) (b'Nail', 6, 52.5 ) (b'Paul', 5, 42.1 ) (b'Pit', 5, 40.11)]\n",
    "如果类相等，按高度排序后:\n",
    "[(b'Pit', 5, 40.11) (b'Paul', 5, 42.1 ) (b'James', 5, 48.5 ) (b'Nail', 6, 52.5 )]"
   ]
  },
  {
   "cell_type": "code",
   "execution_count": null,
   "metadata": {},
   "outputs": [],
   "source": [
    "import numpy as np\n",
    "data_type = [('name', 'S15'), ('class', int), ('height', float)]\n",
    "students_details = [('James', 5, 48.5), ('Nail', 6, 52.5),('Paul', 5, 42.10), ('Pit', 5, 40.11)]\n",
    "# create a structured array\n",
    "students = np.array(students_details, dtype=data_type)   \n",
    "print(\"Original array:\")\n",
    "print(students)\n",
    "print(\"Sort by class, then height if class are equal:\")\n",
    "print(np.sort(students, order=['class', 'height']))"
   ]
  },
  {
   "cell_type": "code",
   "execution_count": null,
   "metadata": {},
   "outputs": [],
   "source": [
    "编写一个NumPy程序，根据给定的学生ID和身高，随着学生身高的增加对学生ID进行排序。 打印描述多列排序顺序的整数索引和排序后的数据\n",
    "期望输出:\n",
    "多列排序顺序的整数索引:\n",
    "[4 0 5 3 6 1 2]\n",
    "排序后:\n",
    "1682 38.0\n",
    "1023 40.0\n",
    "5241 40.0\n",
    "1671 41.0\n",
    "4532 42.0\n",
    "5202 42.0\n",
    "6230 45.0"
   ]
  },
  {
   "cell_type": "code",
   "execution_count": null,
   "metadata": {},
   "outputs": [],
   "source": [
    "import numpy as np\n",
    "student_id = np.array([1023, 5202, 6230, 1671, 1682, 5241, 4532])\n",
    "student_height = np.array([40., 42., 45., 41., 38., 40., 42.0])\n",
    "#Sort by studen_id then by student_height\n",
    "indices = np.lexsort((student_id, student_height))\n",
    "print(\"Sorted indices:\")\n",
    "print(indices)\n",
    "print(\"Sorted data:\")\n",
    "for n in indices:\n",
    "  print(student_id[n], student_height[n])"
   ]
  },
  {
   "cell_type": "code",
   "execution_count": null,
   "metadata": {},
   "outputs": [],
   "source": [
    "编写一个NumPy程序以获取给定数组的排序元素的索引\n",
    "期望输出:\n",
    "原始数组:\n",
    "[1023 5202 6230 1671 1682 5241 4532]\n",
    "给定数组的排序元素的索引:\n",
    "[0 3 4 6 1 5 2]"
   ]
  },
  {
   "cell_type": "code",
   "execution_count": null,
   "metadata": {},
   "outputs": [],
   "source": [
    "import numpy as np\n",
    "student_id = np.array([1023, 5202, 6230, 1671, 1682, 5241, 4532])\n",
    "print(\"Original array:\")\n",
    "print(student_id)\n",
    "i = np.argsort(student_id)\n",
    "print(\"Indices of the sorted elements of a given array:\")\n",
    "print(i)"
   ]
  },
  {
   "cell_type": "code",
   "execution_count": null,
   "metadata": {},
   "outputs": [],
   "source": [
    "编写一个NumPy程序，首先使用实部，然后使用虚部对给定的复杂数组进行排序\n",
    "注意:\"busday”（星期一至星期五）的默认值为有效日期\n",
    "原始数组:\n",
    "[(1+2j), (3-1j), (3-2j), (4-3j), (3+5j)]\n",
    "排序后:\n",
    "[1.+2.j 3.-2.j 3.-1.j 3.+5.j 4.-3.j]"
   ]
  },
  {
   "cell_type": "code",
   "execution_count": null,
   "metadata": {},
   "outputs": [],
   "source": [
    "import numpy as np\n",
    "complex_num = [1 + 2j, 3 - 1j, 3 - 2j, 4 - 3j, 3 + 5j]\n",
    "print(\"Original array:\")\n",
    "print(complex_num)\n",
    "print(\"\\nSorted a given complex array using the real part first, then the imaginary part.\")\n",
    "print(np.sort_complex(complex_num))"
   ]
  },
  {
   "cell_type": "code",
   "execution_count": null,
   "metadata": {},
   "outputs": [],
   "source": [
    "编写一个NumPy程序，以给定数组在指定位置进行分区，并将所有较小的元素值以任意顺序（基于随机选择）移至分区的左侧，其余值移至右侧\n",
    "输出:\n",
    "原始数组:\n",
    "[ 70 50 20 30 -11 60 50 40]\n",
    "在4的位置分区:\n",
    "[-11 30 20 40 50 50 60 70]"
   ]
  },
  {
   "cell_type": "code",
   "execution_count": null,
   "metadata": {},
   "outputs": [],
   "source": [
    "import numpy as np\n",
    "nums = np.array([70, 50, 20, 30, -11, 60, 50, 40])\n",
    "print(\"Original array:\")\n",
    "print(nums)\n",
    "print(\"\\nAfter partitioning on 4 the position:\")\n",
    "print(np.partition(nums, 4))"
   ]
  },
  {
   "cell_type": "code",
   "execution_count": null,
   "metadata": {},
   "outputs": [],
   "source": [
    "编写一个NumPy程序以从给定数组的开头对指定数量的元素进行排序\n",
    "例子输出:\n",
    "原始数组:\n",
    "[0.39536213 0.11779404 0.32612381 0.16327394 0.98837963 0.25510787 0.01398678 0.15188239 0.12057667 0.67278699]\n",
    "排序后:\n",
    "[0.01398678 0.11779404 0.12057667 0.15188239 0.16327394 0.25510787 0.39536213 0.98837963 0.32612381 0.67278699]"
   ]
  },
  {
   "cell_type": "code",
   "execution_count": null,
   "metadata": {},
   "outputs": [],
   "source": [
    "import numpy as np\n",
    "nums =  np.random.rand(10)\n",
    "print(\"Original array:\")\n",
    "print(nums)\n",
    "print(\"\\nSorted first 5 elements:\")\n",
    "print(nums[np.argpartition(nums,range(5))])"
   ]
  },
  {
   "cell_type": "code",
   "execution_count": null,
   "metadata": {},
   "outputs": [],
   "source": []
  },
  {
   "cell_type": "code",
   "execution_count": null,
   "metadata": {},
   "outputs": [],
   "source": []
  },
  {
   "cell_type": "code",
   "execution_count": null,
   "metadata": {},
   "outputs": [],
   "source": []
  }
 ],
 "metadata": {
  "kernelspec": {
   "display_name": "Python 3",
   "language": "python",
   "name": "python3"
  },
  "language_info": {
   "codemirror_mode": {
    "name": "ipython",
    "version": 3
   },
   "file_extension": ".py",
   "mimetype": "text/x-python",
   "name": "python",
   "nbconvert_exporter": "python",
   "pygments_lexer": "ipython3",
   "version": "3.6.8"
  }
 },
 "nbformat": 4,
 "nbformat_minor": 4
}
