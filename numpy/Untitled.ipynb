{
 "cells": [
  {
   "cell_type": "code",
   "execution_count": null,
   "metadata": {},
   "outputs": [],
   "source": [
    "编写一个Python程序来查找给定展平数组的最大值和最小值。\n",
    "预期输出：\n",
    "原始展平的数组：\n",
    "[[0 1]\n",
    "[2 3]]\n",
    "上述展平的数组的最大值：\n",
    "3 \n",
    "以上展平的数组的最小值：\n",
    "0"
   ]
  },
  {
   "cell_type": "code",
   "execution_count": null,
   "metadata": {},
   "outputs": [],
   "source": [
    "import numpy as np\n",
    "a = np.arange(4).reshape((2,2))\n",
    "print(\"Original flattened array:\")\n",
    "print(a)\n",
    "print(\"Maximum value of the above flattened array:\")\n",
    "print(np.amax(a))\n",
    "print(\"Minimum value of the above flattened array:\")\n",
    "print(np.amin(a))\n"
   ]
  },
  {
   "cell_type": "code",
   "execution_count": null,
   "metadata": {},
   "outputs": [],
   "source": [
    "编写一个NumPy程序，以沿第二个轴获取给定数组的最小值和最大值。\n",
    "预期输出：\n",
    "原始数组：\n",
    "[[0 1]\n",
    "[2 3]]\n",
    "沿第二个轴的最大值：\n",
    "[1 3]\n",
    "沿第二个轴的最小值：\n",
    "[0 2]"
   ]
  },
  {
   "cell_type": "code",
   "execution_count": null,
   "metadata": {},
   "outputs": [],
   "source": [
    "import numpy as np\n",
    "x = np.arange(4).reshape((2, 2))\n",
    "print(\"\\nOriginal array:\")\n",
    "print(x)\n",
    "print(\"\\nMaximum value along the second axis:\")\n",
    "print(np.amax(x, 1))\n",
    "print(\"Minimum value along the second axis:\")\n",
    "print(np.amin(x, 1))\n"
   ]
  },
  {
   "cell_type": "code",
   "execution_count": null,
   "metadata": {},
   "outputs": [],
   "source": [
    "3.编写一个NumPy程序，以计算沿第二个轴的给定数组的最大值和最小值之间的差。\n",
    "预期输出：\n",
    "原始数组：\n",
    "[[0 1 2 3 4 5]\n",
    "[6 7 8 9 10 11]]\n",
    "所述数组的最大值和最小值之差：\n",
    "[5 5]"
   ]
  },
  {
   "cell_type": "code",
   "execution_count": null,
   "metadata": {},
   "outputs": [],
   "source": [
    "import numpy as np\n",
    "x = np.arange(12).reshape((2, 6))\n",
    "print(\"\\nOriginal array:\")\n",
    "print(x)\n",
    "r1 = np.ptp(x, 1)\n",
    "r2 = np.amax(x, 1) - np.amin(x, 1)\n",
    "assert np.allclose(r1, r2)\n",
    "print(\"\\nDifference between the maximum and the minimum values of the said array:\")\n",
    "print(r1)\n"
   ]
  },
  {
   "cell_type": "code",
   "execution_count": null,
   "metadata": {},
   "outputs": [],
   "source": [
    "编写一个NumPy程序，以计算沿第二个轴的给定数组中所有元素的第80个百分位数。\n",
    "预期输出：\n",
    "原始数组：\n",
    "[1.0、2.0、3.0、4.0]\n",
    "最大整数，小于或等于输入的除法：\n",
    "[0. 1. 2. 2.]"
   ]
  },
  {
   "cell_type": "code",
   "execution_count": null,
   "metadata": {},
   "outputs": [],
   "source": [
    "import numpy as np\n",
    "x = np.arange(12).reshape((2, 6))\n",
    "print(\"\\nOriginal array:\")\n",
    "print(x)\n",
    "r1 = np.percentile(x, 80, 1)\n",
    "print(\"\\n80th percentile for all elements of the said array along the second axis:\")\n",
    "print(r1)\n"
   ]
  },
  {
   "cell_type": "code",
   "execution_count": null,
   "metadata": {},
   "outputs": [],
   "source": [
    "编写一个NumPy程序以计算平展给定数组的中位数。\n",
    "注：第一个数组元素从第二个数组提升为幂\n",
    "预期输出：\n",
    "原始数组：\n",
    "[[0 1 2 3 4 5]\n",
    "[6 7 8 9 10 11]]\n",
    "所述数组的中位数：\n",
    "5.5"
   ]
  },
  {
   "cell_type": "code",
   "execution_count": null,
   "metadata": {},
   "outputs": [],
   "source": [
    "import numpy as np\n",
    "x = np.arange(12).reshape((2, 6))\n",
    "print(\"\\nOriginal array:\")\n",
    "print(x)\n",
    "r1 =  np.median(x)\n",
    "print(\"\\nMedian of said array:\")\n",
    "print(r1)\n"
   ]
  },
  {
   "cell_type": "code",
   "execution_count": null,
   "metadata": {},
   "outputs": [],
   "source": [
    "编写一个NumPy程序以计算给定数组的权重。\n",
    "样本输出：\n",
    "原始数组：\n",
    "[0 1 2 3 4]\n",
    "该数组的加权平均值：\n",
    "2.6666666666666665"
   ]
  },
  {
   "cell_type": "code",
   "execution_count": null,
   "metadata": {},
   "outputs": [],
   "source": [
    "import numpy as np\n",
    "x = np.arange(5)\n",
    "print(\"\\nOriginal array:\")\n",
    "print(x)\n",
    "weights = np.arange(1, 6)\n",
    "r1 = np.average(x, weights=weights)\n",
    "r2 = (x*(weights/weights.sum())).sum()\n",
    "assert np.allclose(r1, r2)\n",
    "print(\"\\nWeighted average of the said array:\")\n",
    "print(r1)\n"
   ]
  },
  {
   "cell_type": "code",
   "execution_count": null,
   "metadata": {},
   "outputs": [],
   "source": [
    "编写一个NumPy程序，以计算沿第二个轴的给定数组的均值，标准差和方差。\n",
    "示例输出：\n",
    "原始数组：\n",
    "[0 1 2 3 4 5]\n",
    "均值：2.5\n",
    "std：1\n",
    "方差：2.9166666666666665"
   ]
  },
  {
   "cell_type": "code",
   "execution_count": null,
   "metadata": {},
   "outputs": [],
   "source": [
    "import numpy as np\n",
    "x = np.arange(6)\n",
    "print(\"\\nOriginal array:\")\n",
    "print(x)\n",
    "r1 = np.mean(x)\n",
    "r2 = np.average(x)\n",
    "assert np.allclose(r1, r2)\n",
    "print(\"\\nMean: \", r1)\n",
    "r1 = np.std(x)\n",
    "r2 = np.sqrt(np.mean((x - np.mean(x)) ** 2 ))\n",
    "assert np.allclose(r1, r2)\n",
    "print(\"\\nstd: \", 1)\n",
    "r1= np.var(x)\n",
    "r2 = np.mean((x - np.mean(x)) ** 2 )\n",
    "assert np.allclose(r1, r2)\n",
    "print(\"\\nvariance: \", r1)\n"
   ]
  },
  {
   "cell_type": "code",
   "execution_count": null,
   "metadata": {},
   "outputs": [],
   "source": [
    "编写一个NumPy程序来计算两个给定数组的协方差矩阵。\n",
    "样本输出：\n",
    "原始array1：\n",
    "[0 1 2]\n",
    "原始array1：\n",
    "[2 1 0]\n",
    "所述数组的协方差矩阵：\n",
    "[[1. -1。]\n",
    "[-1。1.]]"
   ]
  },
  {
   "cell_type": "code",
   "execution_count": null,
   "metadata": {},
   "outputs": [],
   "source": [
    "import numpy as np\n",
    "x = np.array([0, 1, 2])\n",
    "y = np.array([2, 1, 0])\n",
    "print(\"\\nOriginal array1:\")\n",
    "print(x)\n",
    "print(\"\\nOriginal array1:\")\n",
    "print(y)\n",
    "print(\"\\nCovariance matrix of the said arrays:\\n\",np.cov(x, y))\n"
   ]
  },
  {
   "cell_type": "code",
   "execution_count": null,
   "metadata": {},
   "outputs": [],
   "source": [
    "编写一个NumPy程序来计算两个给定数组的互相关。\n",
    "示例输出：\n",
    "原始array1：\n",
    "[0 1 3]\n",
    "原始array1：\n",
    "[2 4 5]\n",
    "所述数组的互相关：\n",
    "[[2.33333333 2.16666667]\n",
    "[2.16666667 2.33333333]]"
   ]
  },
  {
   "cell_type": "code",
   "execution_count": null,
   "metadata": {},
   "outputs": [],
   "source": [
    "import numpy as np\n",
    "x = np.array([0, 1, 3])\n",
    "y = np.array([2, 4, 5])\n",
    "print(\"\\nOriginal array1:\")\n",
    "print(x)\n",
    "print(\"\\nOriginal array1:\")\n",
    "print(y)\n",
    "print(\"\\nCross-correlation of the said arrays:\\n\",np.cov(x, y))\n"
   ]
  },
  {
   "cell_type": "code",
   "execution_count": null,
   "metadata": {},
   "outputs": [],
   "source": [
    "编写一个NumPy程序来计算两个给定数组的皮尔逊积矩相关系数。\n",
    "样本输出：\n",
    "原始array1：\n",
    "[0 1 3]\n",
    "原始array1：\n",
    "[2 4 5]\n",
    "所述阵列的Pearson积矩相关系数：\n",
    "[[1。0.92857143]\n",
    "[0.92857143 1.]]"
   ]
  },
  {
   "cell_type": "code",
   "execution_count": null,
   "metadata": {},
   "outputs": [],
   "source": [
    "import numpy as np\n",
    "x = np.array([0, 1, 3])\n",
    "y = np.array([2, 4, 5])\n",
    "print(\"\\nOriginal array1:\")\n",
    "print(x)\n",
    "print(\"\\nOriginal array1:\")\n",
    "print(y)\n",
    "print(\"\\nPearson product-moment correlation coefficients of the said arrays:\\n\",np.corrcoef(x, y))\n"
   ]
  },
  {
   "cell_type": "code",
   "execution_count": null,
   "metadata": {},
   "outputs": [],
   "source": [
    "编写一个NumPy程序，以测试给定数组的元素方式的有限性（非无穷大或不是数字），NaN，NaT，NaT（非时间），负无穷大，正无穷大。\n",
    "样本输出：\n",
    "测试元素方式的有限性（不是无穷大或不是一个数字）：\n",
    "True\n",
    "是\n",
    "False\n",
    "测试元素方式的正或负无穷大：\n",
    "True\n",
    "False\n",
    "True\n",
    "测试元素方式的NaN：\n",
    "[True False False ]\n",
    "对NaT（不是时间） 逐个元素进行测试：\n",
    "[True False]\n",
    "对负无穷大进行逐个元素测试：\n",
    "[1 0 0]\n",
    "对正无穷大进行逐个元素测试：\n",
    "[0 0 1]"
   ]
  },
  {
   "cell_type": "code",
   "execution_count": null,
   "metadata": {},
   "outputs": [],
   "source": [
    "import numpy as np\n",
    "print(\"\\nTest element-wise for finiteness (not infinity or not Not a Number):\")\n",
    "print(np.isfinite(1))\n",
    "print(np.isfinite(0))\n",
    "print(np.isfinite(np.nan))\n",
    "print(\"\\nTest element-wise for positive or negative infinity:\")\n",
    "print(np.isinf(np.inf))\n",
    "print(np.isinf(np.nan))\n",
    "print(np.isinf(np.NINF))\n",
    "print(\"Test element-wise for NaN:\")\n",
    "print(np.isnan([np.log(-1.),1.,np.log(0)]))\n",
    "print(\"Test element-wise for NaT (not a time):\")\n",
    "print(np.isnat(np.array([\"NaT\", \"2016-01-01\"], dtype=\"datetime64[ns]\")))\n",
    "print(\"Test element-wise for negative infinity:\")\n",
    "x = np.array([-np.inf, 0., np.inf])\n",
    "y = np.array([2, 2, 2])\n",
    "print(np.isneginf(x, y))\n",
    "print(\"Test element-wise for positive infinity:\")\n",
    "x = np.array([-np.inf, 0., np.inf])\n",
    "y = np.array([2, 2, 2])\n",
    "print(np.isposinf(x, y))\n"
   ]
  },
  {
   "cell_type": "code",
   "execution_count": null,
   "metadata": {},
   "outputs": [],
   "source": [
    "编写一个Python NumPy程序来计算沿给定展平数组的指定轴的加权平均值。\n",
    "来自Wikipedia：加权算术平均值类似于普通算术平均值（最常见的平均值类型），不同之处在于，不是每个数据点对最终平均值的贡献均相等，而是一些数据点的贡献大于其他平均值。加权均值的概念在描述性统计中发挥作用，并且在其他几个数学领域也以更一般的形式出现。\n",
    "样本输出：\n",
    "原始展平的数组：\n",
    "[[0 1 2]\n",
    "[3 4 5]\n",
    "[6 7 8]]\n",
    "沿上述展平的数组的指定轴的加权平均值：\n",
    "[1.2 4.2 7.2]"
   ]
  },
  {
   "cell_type": "code",
   "execution_count": null,
   "metadata": {},
   "outputs": [],
   "source": [
    "import numpy as np\n",
    "a = np.arange(9).reshape((3,3))\n",
    "print(\"Original flattened array:\")\n",
    "print(a)\n",
    "print(\"Weighted average along the specified axis of the above flattened array:\")\n",
    "print(np.average(a, axis=1, weights=[1./4, 2./4, 2./4]))\n"
   ]
  },
  {
   "cell_type": "code",
   "execution_count": null,
   "metadata": {},
   "outputs": [],
   "source": [
    "编写一个Python程序，以计算给定非负整数数组中每个值的出现次数。\n",
    "注意：bincount（）函数对非负整数数组中每个值在最小值和最大值之间的范围（包括未发生的值）之间的出现次数进行计数。\n",
    "示例输出：\n",
    "原始数组：\n",
    "[0，1，6，1，4，1，2，2，7]\n",
    "数组中每个值的出现次数：\n",
    "[1 3 2 0 1 0 1 1]"
   ]
  },
  {
   "cell_type": "code",
   "execution_count": null,
   "metadata": {},
   "outputs": [],
   "source": [
    "import numpy as np\n",
    "array1 = [0, 1, 6, 1, 4, 1, 2, 2, 7] \n",
    "print(\"Original array:\")\n",
    "print(array1)\n",
    "print(\"Number of occurrences of each value in array: \")\n",
    "print(np.bincount(array1))\n"
   ]
  },
  {
   "cell_type": "code",
   "execution_count": null,
   "metadata": {},
   "outputs": [],
   "source": [
    "编写一个NumPy程序，计算相对于垃圾箱的nums的直方图。\n",
    "示例输出：\n",
    "nums：[0.5 0.7 1. 1.2 1.3 2.1]\n",
    "bins：[0 1 2 3]\n",
    "结果：（array（[2，3，1]，dtype = int64），array（[0，1 ，2，3]））"
   ]
  },
  {
   "cell_type": "code",
   "execution_count": null,
   "metadata": {},
   "outputs": [],
   "source": [
    "import numpy as np\n",
    "import matplotlib.pyplot as plt\n",
    "nums = np.array([0.5, 0.7, 1.0, 1.2, 1.3, 2.1])\n",
    "bins = np.array([0, 1, 2, 3])\n",
    "print(\"nums: \",nums)\n",
    "print(\"bins: \",bins)\n",
    "print(\"Result:\", np.histogram(nums, bins))\n",
    "plt.hist(nums, bins=bins)\n",
    "plt.show()\n"
   ]
  },
  {
   "cell_type": "code",
   "execution_count": null,
   "metadata": {},
   "outputs": [],
   "source": [
    "编写一个NumPy程序以显示2017年3月的所有日期。\n",
    "预期输出：\n",
    "2017年3月\n",
    "['2017-03-01''2017-03-02''2017-03-03 '\n",
    "'2017-03-04''2017-03-05''2017-03-06''2017-03-07''2017-03-08''2017-03-09''2017-03-10'\n",
    "'\n",
    "2017-03-11''2017-03-12''2017-03-13''2017-03-14''2017-03-15''2017-03-16''2017-03-17'' 2017年3月18'日‘2017年3月19日’‘二○一七年三月二十〇日’\n",
    "‘2017年3月21日’‘2017年3月22日’‘2017年3月23日’‘2017年3月24日’“2017 -03-25''2017-03-26''2017-03-27''2017-03-28''2017-03-29\n",
    "''2017-03-30''2017-03-31'\n",
    "]"
   ]
  },
  {
   "cell_type": "code",
   "execution_count": null,
   "metadata": {},
   "outputs": [],
   "source": [
    "import numpy as np\n",
    "print(\"March, 2017\")\n",
    "print(np.arange('2017-03', '2017-04', dtype='datetime64[D]'))\n"
   ]
  },
  {
   "cell_type": "code",
   "execution_count": null,
   "metadata": {},
   "outputs": [],
   "source": [
    "编写一个NumPy程序以获取昨天，今天和明天的日期。\n",
    "样本输出：\n",
    "昨天：2017-03-24\n",
    "今天：2017-03-25\n",
    "明天：2017-03-26"
   ]
  },
  {
   "cell_type": "code",
   "execution_count": null,
   "metadata": {},
   "outputs": [],
   "source": [
    "import numpy as np\n",
    "yesterday = np.datetime64('today', 'D') - np.timedelta64(1, 'D')\n",
    "print(\"Yestraday: \",yesterday)\n",
    "today     = np.datetime64('today', 'D')\n",
    "print(\"Today: \",today)\n",
    "tomorrow  = np.datetime64('today', 'D') + np.timedelta64(1, 'D')\n",
    "print(\"Tomorrow: \",tomorrow)\n"
   ]
  },
  {
   "cell_type": "code",
   "execution_count": null,
   "metadata": {},
   "outputs": [],
   "source": [
    "编写一个NumPy程序以计算特定月份的天数\n",
    "预期输出：\n",
    "2016年2\n",
    "月的天\n",
    "数：29天2017年2\n",
    "月的天\n",
    "数：\n",
    "28天2018年2 月的天数：28天"
   ]
  },
  {
   "cell_type": "code",
   "execution_count": null,
   "metadata": {},
   "outputs": [],
   "source": [
    "import numpy as np\n",
    "print(\"Number of days, February, 2016: \")\n",
    "print(np.datetime64('2016-03-01') - np.datetime64('2016-02-01'))\n",
    "print(\"Number of days, February, 2017: \")\n",
    "print(np.datetime64('2017-03-01') - np.datetime64('2017-02-01'))\n",
    "print(\"Number of days, February, 2018: \")\n",
    "print(np.datetime64('2018-03-01') - np.datetime64('2018-02-01'))\n"
   ]
  },
  {
   "cell_type": "code",
   "execution_count": null,
   "metadata": {},
   "outputs": [],
   "source": [
    "编写一个NumPy程序以创建24个python datetime.datetime对象（每小时一个对象），然后将其放在numpy数组中。\n",
    "预期输出：\n",
    "[datetime.datetime（2000，1，1，1，0，0）\n",
    "datetime.datetime（2000，1，1，1，1，0 ）datetime.datetime（2000，1，1，2，0） datetime.datetime（2000，1，1，3，0）\n",
    "datetime.datetime（2000，1，1，4，0）\n",
    "datetime.datetime（2000，1，1，5，0 ）datetime.datetime（2000，1， 1，6，0）datetime.datetime（2000，1，1，7，0）datetime.datetime（\n",
    "2000，1，1，8，0）datetime.datetime（\n",
    "2000，1，1，9，0 ）datetime。 datetime（2000，1，1，1，10，0）datetime.datetime（\n",
    "2000，1，1，11，0）datetime.datetime（2000，1，1，12，12，0）datetime.datetime（2000，1，1， 13、0）\n",
    "datetime.datetime（2000，1，1，14，0）datetime.datetime（\n",
    "2000，1，1，15，0）datetime.datetime（2000，1，1，16，16，0）datetime.datetime（2000，1，\n",
    "1，17，0 ）datetime.datetime（2000，1，1，1，18，0 ）datetime.datetime（2000，1，1，19，0）\n",
    "datetime.datetime（2000，1，1，20，0）datetime。 datetime（2000，1，1，21，0）\n",
    "datetime.datetime（2000，1，1，22，0 ）datetime.datetime（2000，1，1，23，0）]"
   ]
  },
  {
   "cell_type": "code",
   "execution_count": null,
   "metadata": {},
   "outputs": [],
   "source": [
    "import numpy as np\n",
    "import datetime\n",
    "start = datetime.datetime(2000, 1, 1)\n",
    "dt_array = np.array([start + datetime.timedelta(hours=i) for i in range(24)])\n",
    "print(dt_array)\n"
   ]
  },
  {
   "cell_type": "code",
   "execution_count": null,
   "metadata": {},
   "outputs": [],
   "source": [
    "编写一个NumPy程序以查找2017年5月的第一个星期一\n",
    "预期的输出：\n",
    "2017年5月的第一个星期一：\n",
    "2017-05-01"
   ]
  },
  {
   "cell_type": "code",
   "execution_count": null,
   "metadata": {},
   "outputs": [],
   "source": [
    "import numpy as np\n",
    "print(\"First Monday in May 2017:\")\n",
    "print(np.busday_offset('2017-05', 0, roll='forward', weekmask='Mon'))\n"
   ]
  },
  {
   "cell_type": "code",
   "execution_count": null,
   "metadata": {},
   "outputs": [],
   "source": [
    "编写一个NumPy程序以查找2017年3月的工作日数。\n",
    "注意：周一至周五的默认“ busday”为有效日。\n",
    "样本输出：\n",
    "2017年3月的工作日数：\n",
    "23"
   ]
  },
  {
   "cell_type": "code",
   "execution_count": null,
   "metadata": {},
   "outputs": [],
   "source": [
    "import numpy as np\n",
    "print(\"Number of weekdays in March 2017:\")\n",
    "print(np.busday_count('2017-03', '2017-04'))\n"
   ]
  },
  {
   "cell_type": "code",
   "execution_count": null,
   "metadata": {},
   "outputs": [],
   "source": [
    "编写一个NumPy程序，将numpy datetime64转换为Timestamp。\n",
    "样本输出：\n",
    "当前日期：\n",
    "2017-04-01 08：01：12.722055\n",
    "时间戳：\n",
    "1491033672.72\n",
    "来自时间戳的UTC：\n",
    "2017-04-01 08：01：12.722055"
   ]
  },
  {
   "cell_type": "code",
   "execution_count": null,
   "metadata": {},
   "outputs": [],
   "source": [
    "import numpy as np\n",
    "from datetime import datetime\n",
    "dt = datetime.utcnow()\n",
    "print(\"Current date:\")\n",
    "print(dt)\n",
    "dt64 = np.datetime64(dt)\n",
    "ts = (dt64 - np.datetime64('1970-01-01T00:00:00Z')) / np.timedelta64(1, 's')\n",
    "print(\"Timestamp:\")\n",
    "print(ts)\n",
    "print(\"UTC from Timestamp:\")\n",
    "print(datetime.utcfromtimestamp(ts))\n"
   ]
  },
  {
   "cell_type": "code",
   "execution_count": null,
   "metadata": {},
   "outputs": [],
   "source": [
    "编写一个NumPy程序，以元素方式串联两个字符串数组。\n",
    "预期的输出：\n",
    "Array1：\n",
    "[' Python''PHP ']\n",
    "Array2：\n",
    "[' Java''C ++']\n",
    "新数组：\n",
    "['Python Java''PHP C ++']"
   ]
  },
  {
   "cell_type": "code",
   "execution_count": null,
   "metadata": {},
   "outputs": [],
   "source": [
    "import numpy as np\n",
    "x1 = np.array(['Python', 'PHP'], dtype=np.str)\n",
    "x2 = np.array([' Java', ' C++'], dtype=np.str)\n",
    "print(\"Array1:\")\n",
    "print(x1)\n",
    "print(\"Array2:\")\n",
    "print(x2)\n",
    "new_array = np.char.add(x1, x2)\n",
    "print(\"new array:\")\n",
    "print(new_array)\n"
   ]
  },
  {
   "cell_type": "code",
   "execution_count": null,
   "metadata": {},
   "outputs": [],
   "source": [
    "编写一个NumPy程序，将给定字符串数组的所有元素重复三次。\n",
    "预期输出：\n",
    "原始 数组： ['Python''PHP''Java''C\n",
    "++']\n",
    "新数组：\n",
    "['PythonPythonPython' 'PHPPHPPHP''JavaJavaJava''C ++ C ++ C ++']"
   ]
  },
  {
   "cell_type": "code",
   "execution_count": null,
   "metadata": {},
   "outputs": [],
   "source": [
    "import numpy as np\n",
    "x1 = np.array(['Python', 'PHP', 'Java', 'C++'], dtype=np.str)\n",
    "print(\"Original Array:\")\n",
    "print(x1)\n",
    "new_array = np.char.multiply(x1, 3)\n",
    "print(\"New array:\")\n",
    "print(new_array)\n"
   ]
  },
  {
   "cell_type": "code",
   "execution_count": null,
   "metadata": {},
   "outputs": [],
   "source": [
    "编写一个NumPy程序，将给定数组的所有元素的首字母，小写字母，大写字母，swapcase字母，title-case字母大写。\n",
    "预期输出：\n",
    "原始数组：\n",
    "['python''PHP''java''C ++']\n",
    "大写：['Python''Php''Java''C ++']\n",
    "降低：['python''php''\n",
    "java''c ++'] 首字母大写：['PYTHON''PHP''JAVA''C ++'] 换行：['\n",
    "PYTHON''php''JAVA''c ++']\n",
    "标题大写：['Python''Php''Java' [C ++]]"
   ]
  },
  {
   "cell_type": "code",
   "execution_count": null,
   "metadata": {},
   "outputs": [],
   "source": [
    "import numpy as np\n",
    "x = np.array(['python', 'PHP', 'java', 'C++'], dtype=np.str)\n",
    "print(\"Original Array:\")\n",
    "print(x)\n",
    "capitalized_case = np.char.capitalize(x)\n",
    "lowered_case = np.char.lower(x)\n",
    "uppered_case = np.char.upper(x)\n",
    "swapcased_case = np.char.swapcase(x)\n",
    "titlecased_case = np.char.title(x)\n",
    "print(\"\\nCapitalized: \", capitalized_case)\n",
    "print(\"Lowered: \", lowered_case)\n",
    "print(\"Uppered: \", uppered_case)\n",
    "print(\"Swapcased: \", swapcased_case)\n",
    "print(\"Titlecased: \", titlecased_case)\n"
   ]
  },
  {
   "cell_type": "code",
   "execution_count": null,
   "metadata": {},
   "outputs": [],
   "source": [
    "编写一个NumPy程序，以使给定数组的每个元素15的长度以及以_为填充的字符串居中/左对齐/右对齐。\n",
    "原始数组：\n",
    "['python练习''\n",
    "PHP''java''C ++'] 居中= ['python练习''______PHP______''______java_____''______ C ++ ______']左= ['python练习'' PHP____________''java___________''C ++ ____________']右= ['python锻炼''__________PHP''___________java''____________ C ++']"
   ]
  },
  {
   "cell_type": "code",
   "execution_count": null,
   "metadata": {},
   "outputs": [],
   "source": [
    "import numpy as np\n",
    "x = np.array(['python exercises', 'PHP', 'java', 'C++'], dtype=np.str)\n",
    "print(\"Original Array:\")\n",
    "print(x)\n",
    "centered = np.char.center(x, 15, fillchar='_')\n",
    "left = np.char.ljust(x, 15, fillchar='_')\n",
    "right = np.char.rjust(x, 15, fillchar='_')\n",
    "print(\"\\nCentered =\", centered)\n",
    "print(\"Left =\", left)\n",
    "print(\"Right =\", right)\n"
   ]
  },
  {
   "cell_type": "code",
   "execution_count": null,
   "metadata": {},
   "outputs": [],
   "source": [
    "编写一个NumPy程序，在给定数组的所有元素的字符之间插入空格。\n",
    "注意：第一个数组元素由第二个数组提升为幂\n",
    "预期输出：\n",
    "原始数组：\n",
    "['python Exercises''PHP''java''C ++']\n",
    "['pythonexercises''PHP''java''C ++ ']"
   ]
  },
  {
   "cell_type": "code",
   "execution_count": null,
   "metadata": {},
   "outputs": [],
   "source": [
    "import numpy as np\n",
    "x = np.array(['python exercises', 'PHP', 'java', 'C++'], dtype=np.str)\n",
    "print(\"Original Array:\")\n",
    "print(x)\n",
    "r = np.char.join(\" \", x)\n",
    "print(r)\n"
   ]
  },
  {
   "cell_type": "code",
   "execution_count": null,
   "metadata": {},
   "outputs": [],
   "source": [
    "编写一个NumPy程序，以在cp500中编码给定数组的所有元素，然后再次对其进行解码。\n",
    "示例输出：\n",
    "编码= [b'\\ x97 \\ xa8 \\ xa3 \\ x88 \\ x96 \\ x95 @ \\ x85 \\ xa7 \\ x85 \\ x99 \\ x83 \\ x89 \\ xa2 \\ x85 \\ xa2'b\n",
    "'\\ xd7 \\ xc8 \\ xd7'b'\\ x91 \\ x81 \\ xa5 \\ x81'b'\\ xc3NN']\n",
    "已解码= ['python练习'' PHP''java''C ++']"
   ]
  },
  {
   "cell_type": "code",
   "execution_count": null,
   "metadata": {},
   "outputs": [],
   "source": [
    "import numpy as np\n",
    "x = np.array(['python exercises', 'PHP', 'java', 'C++'], dtype=np.str)\n",
    "print(\"Original Array:\")\n",
    "print(x)\n",
    "encoded_char = np.char.encode(x, 'cp500')\n",
    "decoded_char = np.char.decode(encoded_char,'cp500')\n",
    "print(\"\\nencoded =\", encoded_char)\n",
    "print(\"decoded =\", decoded_char)\n"
   ]
  },
  {
   "cell_type": "code",
   "execution_count": null,
   "metadata": {},
   "outputs": [],
   "source": [
    "编写一个NumPy程序，以删除给定数组的所有元素的前导和尾随空格。\n",
    "样本输出：\n",
    "原始数组：\n",
    "[-10.2 122.2 0.2]逐\n",
    "元素的绝对值：\n",
    "[10.2 122.2 0.2]"
   ]
  },
  {
   "cell_type": "code",
   "execution_count": null,
   "metadata": {},
   "outputs": [],
   "source": [
    "import numpy as np\n",
    "x = np.array([' python exercises ', ' PHP  ', ' java  ', '  C++'], dtype=np.str)\n",
    "print(\"Original Array:\")\n",
    "print(x)\n",
    "stripped = np.char.strip(x)\n",
    "print(\"\\nRemove the leading and trailing whitespaces: \", stripped)\n"
   ]
  },
  {
   "cell_type": "code",
   "execution_count": null,
   "metadata": {},
   "outputs": [],
   "source": [
    "编写一个NumPy程序，以删除给定数组的所有元素的前导空格。\n",
    "样本输出：\n",
    "原始数组：\n",
    "['python练习''PHP''java''C ++']\n",
    "删除前导空格：['python练习'PHP'Java'C ++']"
   ]
  },
  {
   "cell_type": "code",
   "execution_count": null,
   "metadata": {},
   "outputs": [],
   "source": [
    "import numpy as np\n",
    "x = np.array([' python exercises ', ' PHP  ', ' java  ', '  C++'], dtype=np.str)\n",
    "print(\"Original Array:\")\n",
    "print(x)\n",
    "lstripped_char = np.char.lstrip(x)\n",
    "print(\"\\nRemove the leading whitespaces : \", lstripped_char)\n"
   ]
  },
  {
   "cell_type": "code",
   "execution_count": null,
   "metadata": {},
   "outputs": [],
   "source": [
    "编写一个NumPy程序，以删除给定数组的所有元素的尾随空格。\n",
    "样本输出：\n",
    "原始数组：\n",
    "['python练习''PHP''java''C ++']\n",
    "删除结尾的空格：['python练习''PHP''java''C ++']"
   ]
  },
  {
   "cell_type": "code",
   "execution_count": null,
   "metadata": {},
   "outputs": [],
   "source": [
    "import numpy as np\n",
    "x = np.array([' python exercises ', ' PHP  ', ' java  ', '  C++'], dtype=np.str)\n",
    "print(\"Original Array:\")\n",
    "print(x)\n",
    "rstripped_char = np.char.rstrip(x)\n",
    "print(\"\\nRemove the trailing whitespaces : \", rstripped_char)\n"
   ]
  },
  {
   "cell_type": "code",
   "execution_count": null,
   "metadata": {},
   "outputs": [],
   "source": [
    "编写一个NumPy程序，以空格分隔给定数组的元素。\n",
    "示例输出：\n",
    "原始数组：\n",
    "['Python PHP Java C ++']\n",
    "用空格分割所述数组的元素：\n",
    "[list（['Python'，'PHP'，'Java'，'C ++']）]"
   ]
  },
  {
   "cell_type": "code",
   "execution_count": null,
   "metadata": {},
   "outputs": [],
   "source": [
    "import numpy as np\n",
    "x = np.array(['Python PHP Java C++'], dtype=np.str)\n",
    "print(\"Original Array:\")\n",
    "print(x)\n",
    "r = np.char.split(x)\n",
    "print(\"\\nSplit the element of the said array with spaces: \")\n",
    "print(r)\n"
   ]
  },
  {
   "cell_type": "code",
   "execution_count": null,
   "metadata": {},
   "outputs": [],
   "source": [
    "编写一个NumPy程序，将给定数组的元素拆分为多行。\n",
    "样本输出：\n",
    "原始数组：\n",
    "['Python \\\\ Exercises，练习，解决方案']\n",
    "[列表（['Python \\\\ Exercises，练习，解决方案']）]"
   ]
  },
  {
   "cell_type": "code",
   "execution_count": null,
   "metadata": {},
   "outputs": [],
   "source": [
    "import numpy as np\n",
    "x = np.array(['Python\\Exercises, Practice, Solution'], dtype=np.str)\n",
    "print(\"Original Array:\")\n",
    "print(x)\n",
    "r = np.char.splitlines(x)\n",
    "print(r)\n"
   ]
  },
  {
   "cell_type": "code",
   "execution_count": null,
   "metadata": {},
   "outputs": [],
   "source": [
    "编写一个NumPy程序，将一个矩阵乘以另一个复数矩阵，并创建一个新的复数矩阵。\n",
    "示例输出：\n",
    "原始数组：\n",
    "[ '2''11''234''1234''12345' ]\n",
    "5位数字的零数字字符串：\n",
    "['00002''00011''00234''01234''12345 ']"
   ]
  },
  {
   "cell_type": "code",
   "execution_count": null,
   "metadata": {},
   "outputs": [],
   "source": [
    "import numpy as np\n",
    "x = np.array(['2', '11', '234', '1234', '12345'], dtype=np.str)\n",
    "print(\"\\nOriginal Array:\")\n",
    "print(x)\n",
    "r = np.char.zfill(x, 5)\n",
    "print(\"\\nNumeric string of 5 digits with zeros:\")\n",
    "print(r) \n"
   ]
  },
  {
   "cell_type": "code",
   "execution_count": null,
   "metadata": {},
   "outputs": [],
   "source": [
    "编写一个NumPy程序，在给定数组的元素中将“ PHP”替换为“ Python”。\n",
    "样本输出：\n",
    "原始数组：\n",
    "['PHP练习，实践，解决方案']\n",
    "新数组：\n",
    "['Python练习，实践，解决方案']"
   ]
  },
  {
   "cell_type": "code",
   "execution_count": null,
   "metadata": {},
   "outputs": [],
   "source": [
    "import numpy as np\n",
    "x = np.array(['PHP Exercises, Practice, Solution'], dtype=np.str)\n",
    "print(\"\\nOriginal Array:\")\n",
    "print(x)\n",
    "r = np.char.replace(x, \"PHP\", \"Python\")\n",
    "print(\"\\nNew array:\")\n",
    "print(r)\n"
   ]
  },
  {
   "cell_type": "code",
   "execution_count": null,
   "metadata": {},
   "outputs": [],
   "source": [
    "编写一个NumPy程序，对两个给定数组的所有元素进行相等，不相等，更大相等，更大或更小的测试。\n",
    "预期输出：\n",
    "Array1：\n",
    "[' Hello''PHP''JS''examples''html ']\n",
    "Array2：\n",
    "[' Hello''php''Java''examples''html ']\n",
    "相等测试：\n",
    "[True False False True True]\n",
    "不相等的测试：\n",
    "[False True True False False]\n",
    "较少相等的测试：\n",
    "[True True True True True True]\n",
    "较高的相等测试：\n",
    "[True False False True True]\n",
    "较少的测试：\n",
    "[False True True False False]"
   ]
  },
  {
   "cell_type": "code",
   "execution_count": null,
   "metadata": {},
   "outputs": [],
   "source": [
    "import numpy as np\n",
    "x1 = np.array(['Hello', 'PHP', 'JS', 'examples', 'html'], dtype=np.str)\n",
    "x2 = np.array(['Hello', 'php', 'Java', 'examples', 'html'], dtype=np.str)\n",
    "print(\"\\nArray1:\")\n",
    "print(x1)\n",
    "print(\"Array2:\")\n",
    "print(x2)\n",
    "print(\"\\nEqual test:\")\n",
    "r = np.char.equal(x1, x2)\n",
    "print(r)\n",
    "print(\"\\nNot equal test:\")\n",
    "r = np.char.not_equal(x1, x2)\n",
    "print(r)\n",
    "print(\"\\nLess equal test:\")\n",
    "r = np.char.less_equal(x1, x2)\n",
    "print(r)\n",
    "print(\"\\nGreater equal test:\")\n",
    "r = np.char.greater_equal(x1, x2)\n",
    "print(r)\n",
    "print(\"\\nLess test:\")\n",
    "r = np.char.less(x1, x2)\n",
    "print(r)\n"
   ]
  },
  {
   "cell_type": "code",
   "execution_count": null,
   "metadata": {},
   "outputs": [],
   "source": [
    "编写一个NumPy程序，以元素方式计算给定数组中“ P”的数量。\n",
    "样本输出：\n",
    "原始数组：\n",
    "['Python''PHP''JS''examples''html']\n",
    "'P'的数量：\n",
    "[1 2 0 0 0]"
   ]
  },
  {
   "cell_type": "code",
   "execution_count": null,
   "metadata": {},
   "outputs": [],
   "source": [
    "import numpy as np\n",
    "x1 = np.array(['Python', 'PHP', 'JS', 'examples', 'html'], dtype=np.str)\n",
    "print(\"\\nOriginal Array:\")\n",
    "print(x1)\n",
    "print(\"Number of ‘P’:\")\n",
    "r = np.char.count(x1, \"P\")\n",
    "print(r)\n"
   ]
  },
  {
   "cell_type": "code",
   "execution_count": null,
   "metadata": {},
   "outputs": [],
   "source": [
    "编写一个NumPy程序，以元素方式计算给定数组中“ P”的最低索引。\n",
    "原始数组”：\n",
    "['Python''PHP''JS''示例''HTML']\n",
    "计算'P'的最低索引：\n",
    "[0 0 -1 4 -1]"
   ]
  },
  {
   "cell_type": "code",
   "execution_count": null,
   "metadata": {},
   "outputs": [],
   "source": [
    "import numpy as np\n",
    "x1 = np.array(['Python', 'PHP', 'JS', 'EXAMPLES', 'HTML'], dtype=np.str)\n",
    "print(\"\\nOriginal Array:\")\n",
    "print(x1)\n",
    "print(\"count the lowest index of ‘P’:\")\n",
    "r = np.char.find(x1, \"P\")\n",
    "print(r)\n"
   ]
  },
  {
   "cell_type": "code",
   "execution_count": null,
   "metadata": {},
   "outputs": [],
   "source": [
    "编写一个NumPy程序，检查给定数组的每个元素是否仅由数字，仅小写字母和仅大写字母组成。\n",
    "示例输出：\n",
    "原始数组：\n",
    "['Python''PHP''JS''示例''html5''5']\n",
    "仅数字= [False False False False False True]\n",
    "仅小写= [False False False False False True False]\n",
    "仅大写= [False True True False False False False]"
   ]
  },
  {
   "cell_type": "code",
   "execution_count": null,
   "metadata": {},
   "outputs": [],
   "source": [
    "import numpy as np\n",
    "x = np.array(['Python', 'PHP', 'JS', 'Examples', 'html5', '5'], dtype=np.str)\n",
    "print(\"\\nOriginal Array:\")\n",
    "print(x)\n",
    "r1 = np.char.isdigit(x)\n",
    "r2 = np.char.islower(x)\n",
    "r3 = np.char.isupper(x)\n",
    "print(\"Digits only =\", r1)\n",
    "print(\"Lower cases only =\", r2)\n",
    "print(\"Upper cases only =\", r3)\n"
   ]
  },
  {
   "cell_type": "code",
   "execution_count": null,
   "metadata": {},
   "outputs": [],
   "source": [
    "编写一个NumPy程序，以检查给定数组的每个元素是否以“ P”开头。\n",
    "示例输出：\n",
    "原始数组：\n",
    "['Python''PHP''JS''examples''html']\n",
    "测试所说数组的每个元素是否以'P'开头：\n",
    "[True True False False False]"
   ]
  },
  {
   "cell_type": "code",
   "execution_count": null,
   "metadata": {},
   "outputs": [],
   "source": [
    "import numpy as np\n",
    "x1 = np.array(['Python', 'PHP', 'JS', 'examples', 'html'], dtype=np.str)\n",
    "print(\"\\nOriginal Array:\")\n",
    "print(x1)\n",
    "print(\"Test if each element of the said array starts with 'P':\")\n",
    "r = np.char.startswith(x1, \"P\")\n",
    "print(r)\n"
   ]
  }
 ],
 "metadata": {
  "kernelspec": {
   "display_name": "Python 3",
   "language": "python",
   "name": "python3"
  },
  "language_info": {
   "codemirror_mode": {
    "name": "ipython",
    "version": 3
   },
   "file_extension": ".py",
   "mimetype": "text/x-python",
   "name": "python",
   "nbconvert_exporter": "python",
   "pygments_lexer": "ipython3",
   "version": "3.6.8"
  }
 },
 "nbformat": 4,
 "nbformat_minor": 4
}
