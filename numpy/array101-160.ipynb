{
 "cells": [
  {
   "cell_type": "markdown",
   "metadata": {},
   "source": [
    "写一个numpy程序输出下面数组的没有截断的形式：\n",
    "[0,1,2,3...1997,1998,1999]"
   ]
  },
  {
   "cell_type": "code",
   "execution_count": null,
   "metadata": {},
   "outputs": [],
   "source": [
    "import numpy as np\n",
    "import sys\n",
    "arr = np.arange(2000)\n",
    "#print(arr)\n",
    "np.set_printoptions(threshold=sys.maxsize)\n",
    "print(arr)"
   ]
  },
  {
   "cell_type": "markdown",
   "metadata": {},
   "source": [
    "编写一个numpy程序将一个数组转换为csv文件"
   ]
  },
  {
   "cell_type": "code",
   "execution_count": null,
   "metadata": {},
   "outputs": [],
   "source": [
    "import numpy\n",
    "data = numpy.asarray([ [10,20,30], [40,50,60], [70,80,90] ])\n",
    "numpy.savetxt(\"test.csv\", data, delimiter=\",\")"
   ]
  },
  {
   "cell_type": "markdown",
   "metadata": {},
   "source": [
    "编写一个numpy程序来计算欧几里德距离。\n",
    "维基百科：在数学中，欧几里德距离或欧几里德度量是欧几里德空间中两点之间的“普通”直线距离。有了这个距离，欧几里德空间就变成了度量空间。相关范数称为欧几里德范数。旧文献将度量称为毕达哥拉斯度量 "
   ]
  },
  {
   "cell_type": "code",
   "execution_count": null,
   "metadata": {},
   "outputs": [],
   "source": [
    "import numpy as np\n",
    "from scipy.spatial import distance\n",
    "p1 = (1, 2, 3)\n",
    "p2 = (4, 5, 6)\n",
    "d = distance.euclidean(p1, p2)\n",
    "print(\"Euclidean distance: \",d)"
   ]
  },
  {
   "cell_type": "markdown",
   "metadata": {},
   "source": [
    "写一个程序输出一个多维数组的最后两列"
   ]
  },
  {
   "cell_type": "code",
   "execution_count": null,
   "metadata": {},
   "outputs": [],
   "source": [
    "import numpy as np\n",
    "arr = np.array([[1,2,3],[4,5,6],[7,8,9]])\n",
    "print(arr)\n",
    "print(arr[:,[-2,-1]])"
   ]
  },
  {
   "cell_type": "markdown",
   "metadata": {},
   "source": [
    "编写一个numpy程序来读取csv数据文件并在数组中存储记录。 "
   ]
  },
  {
   "cell_type": "code",
   "execution_count": null,
   "metadata": {},
   "outputs": [],
   "source": [
    "from numpy import genfromtxt\n",
    "csv_data = genfromtxt('fdata.csv', dtype=['S10','float32','float32','float32','float32'], delimiter=\",\")\n",
    "print(csv_data)"
   ]
  },
  {
   "cell_type": "markdown",
   "metadata": {},
   "source": [
    "编写一个numpy程序来计算给定numpy数组中指定项的出现次数。 "
   ]
  },
  {
   "cell_type": "code",
   "execution_count": 4,
   "metadata": {},
   "outputs": [
    {
     "name": "stdout",
     "output_type": "stream",
     "text": [
      "Original array:\n",
      "[10 20 20 20 20  0 20 30 30 30  0  0 20 20  0]\n",
      "1\n",
      "7\n",
      "3\n",
      "4\n"
     ]
    }
   ],
   "source": [
    "import numpy as np\n",
    "nums = np.array([10, 20, 20, 20, 20, 0, 20, 30, 30, 30, 0, 0, 20, 20, 0])\n",
    "print(\"Original array:\")\n",
    "print(nums)\n",
    "print(np.count_nonzero(nums == 10))\n",
    "print(np.count_nonzero(nums == 20))\n",
    "print(np.count_nonzero(nums == 30))\n",
    "print(np.count_nonzero(nums == 0))"
   ]
  },
  {
   "cell_type": "markdown",
   "metadata": {},
   "source": [
    "编写一个numpy程序来计算序列或一维numpy数组的百分位数。"
   ]
  },
  {
   "cell_type": "code",
   "execution_count": 5,
   "metadata": {},
   "outputs": [
    {
     "name": "stdout",
     "output_type": "stream",
     "text": [
      "50th percentile (median):\n",
      "3.0\n",
      "40th percentile:\n",
      "2.6\n",
      "90th percentile:\n",
      "4.6\n"
     ]
    }
   ],
   "source": [
    "import numpy as np\n",
    "nums = np.array([1,2,3,4,5])\n",
    "print(\"50th percentile (median):\")\n",
    "p = np.percentile(nums, 50)\n",
    "print(p)\n",
    "print(\"40th percentile:\")\n",
    "p = np.percentile(nums, 40)\n",
    "print(p)\n",
    "print(\"90th percentile:\")\n",
    "p = np.percentile(nums, 90)\n",
    "print(p)"
   ]
  },
  {
   "cell_type": "markdown",
   "metadata": {},
   "source": [
    "编写一个numpy程序将pil图像转换为numpy数组。 "
   ]
  },
  {
   "cell_type": "code",
   "execution_count": 2,
   "metadata": {},
   "outputs": [
    {
     "ename": "AttributeError",
     "evalue": "module 'PIL' has no attribute 'image'",
     "output_type": "error",
     "traceback": [
      "\u001b[0;31m---------------------------------------------------------------------------\u001b[0m",
      "\u001b[0;31mAttributeError\u001b[0m                            Traceback (most recent call last)",
      "\u001b[0;32m<ipython-input-2-1e330c59e2a3>\u001b[0m in \u001b[0;36m<module>\u001b[0;34m()\u001b[0m\n\u001b[1;32m      1\u001b[0m \u001b[0;32mimport\u001b[0m \u001b[0mnumpy\u001b[0m \u001b[0;32mas\u001b[0m \u001b[0mnp\u001b[0m\u001b[0;34m\u001b[0m\u001b[0;34m\u001b[0m\u001b[0m\n\u001b[1;32m      2\u001b[0m \u001b[0;32mimport\u001b[0m \u001b[0mPIL\u001b[0m\u001b[0;34m\u001b[0m\u001b[0;34m\u001b[0m\u001b[0m\n\u001b[0;32m----> 3\u001b[0;31m \u001b[0mimg_data\u001b[0m \u001b[0;34m=\u001b[0m \u001b[0mPIL\u001b[0m\u001b[0;34m.\u001b[0m\u001b[0mimage\u001b[0m\u001b[0;34m.\u001b[0m\u001b[0mopen\u001b[0m\u001b[0;34m(\u001b[0m\u001b[0;34m'w3resource-logo.png'\u001b[0m \u001b[0;34m)\u001b[0m\u001b[0;34m\u001b[0m\u001b[0;34m\u001b[0m\u001b[0m\n\u001b[0m\u001b[1;32m      4\u001b[0m \u001b[0mimg_arr\u001b[0m \u001b[0;34m=\u001b[0m \u001b[0mnp\u001b[0m\u001b[0;34m.\u001b[0m\u001b[0marray\u001b[0m\u001b[0;34m(\u001b[0m\u001b[0mimg_data\u001b[0m\u001b[0;34m)\u001b[0m\u001b[0;34m\u001b[0m\u001b[0;34m\u001b[0m\u001b[0m\n\u001b[1;32m      5\u001b[0m \u001b[0mprint\u001b[0m\u001b[0;34m(\u001b[0m\u001b[0mimg_arr\u001b[0m\u001b[0;34m)\u001b[0m\u001b[0;34m\u001b[0m\u001b[0;34m\u001b[0m\u001b[0m\n",
      "\u001b[0;31mAttributeError\u001b[0m: module 'PIL' has no attribute 'image'"
     ]
    }
   ],
   "source": [
    "import numpy as np\n",
    "import PIL\n",
    "img_data = PIL.image.open('w3resource-logo.png' )\n",
    "img_arr = np.array(img_data) \n",
    "print(img_arr)"
   ]
  },
  {
   "cell_type": "markdown",
   "metadata": {},
   "source": [
    "编写一个numpy程序将numpy数组转换为图像。显示图像"
   ]
  },
  {
   "cell_type": "code",
   "execution_count": 6,
   "metadata": {},
   "outputs": [],
   "source": [
    "from PIL import Image\n",
    "import numpy as np\n",
    "img_w, img_h = 200, 200\n",
    "data = np.zeros((img_h, img_w, 3), dtype=np.uint8)\n",
    "data[100,100] = [255, 0, 0]\n",
    "img = Image.fromarray(data, 'RGB')\n",
    "img.save('test.png')\n",
    "img.show()"
   ]
  },
  {
   "cell_type": "markdown",
   "metadata": {},
   "source": [
    "编写一个numpy程序从给定数组中删除nan值。"
   ]
  },
  {
   "cell_type": "code",
   "execution_count": 7,
   "metadata": {},
   "outputs": [
    {
     "name": "stdout",
     "output_type": "stream",
     "text": [
      "Original array:\n",
      "[200. 300.  nan  nan  nan 700.]\n",
      "After removing nan values:\n",
      "[200. 300. 700.]\n",
      "\n",
      "Original array:\n",
      "[[ 1.  2.  3.]\n",
      " [nan  0. nan]\n",
      " [ 6.  7. nan]]\n",
      "After removing nan values:\n",
      "[1. 2. 3. 0. 6. 7.]\n"
     ]
    }
   ],
   "source": [
    "import numpy as np\n",
    "x = np.array([200, 300, np.nan, np.nan, np.nan ,700])\n",
    "y = np.array([[1, 2, 3], [np.nan, 0, np.nan] ,[6,7,np.nan]] )\n",
    "print(\"Original array:\")\n",
    "print(x)\n",
    "print(\"After removing nan values:\")\n",
    "result = x[np.logical_not(np.isnan(x))]\n",
    "print(result)\n",
    "print(\"\\nOriginal array:\")\n",
    "print(y)\n",
    "print(\"After removing nan values:\")\n",
    "result = y[np.logical_not(np.isnan(y))]\n",
    "print(result)"
   ]
  },
  {
   "cell_type": "markdown",
   "metadata": {},
   "source": [
    "编写一个numpy程序，将两个数组的笛卡尔积创建为一个二维点数组。"
   ]
  },
  {
   "cell_type": "code",
   "execution_count": 8,
   "metadata": {},
   "outputs": [
    {
     "name": "stdout",
     "output_type": "stream",
     "text": [
      "[[1 4]\n",
      " [2 4]\n",
      " [3 4]\n",
      " [1 5]\n",
      " [2 5]\n",
      " [3 5]]\n"
     ]
    }
   ],
   "source": [
    "import numpy as np\n",
    "x = np.array([1,2,3])\n",
    "y = np.array([4,5])\n",
    "result = np.transpose([np.tile(x, len(y)), np.repeat(y, len(x))])\n",
    "print(result)"
   ]
  },
  {
   "cell_type": "markdown",
   "metadata": {},
   "source": [
    "编写一个numpy程序来获取numpy数组的内存使用情况"
   ]
  },
  {
   "cell_type": "code",
   "execution_count": 9,
   "metadata": {},
   "outputs": [
    {
     "name": "stdout",
     "output_type": "stream",
     "text": [
      "8256\n"
     ]
    }
   ],
   "source": [
    "import numpy as np\n",
    "from sys import getsizeof\n",
    "x = [0] * 1024\n",
    "y = np.array(x)\n",
    "print(getsizeof(x))"
   ]
  },
  {
   "cell_type": "markdown",
   "metadata": {},
   "source": [
    "编写一个numpy程序来构建三个numpy数组的所有组合的数组。 "
   ]
  },
  {
   "cell_type": "code",
   "execution_count": 10,
   "metadata": {},
   "outputs": [
    {
     "name": "stdout",
     "output_type": "stream",
     "text": [
      "Original arrays:\n",
      "Array-1\n",
      "[1, 2, 3]\n",
      "Array-2\n",
      "[4, 5]\n",
      "Array-3\n",
      "[6, 7]\n",
      "Combine array:\n",
      "[[1 4 6]\n",
      " [1 5 6]\n",
      " [2 4 6]\n",
      " [2 5 6]\n",
      " [3 4 6]\n",
      " [3 5 6]\n",
      " [1 4 7]\n",
      " [1 5 7]\n",
      " [2 4 7]\n",
      " [2 5 7]\n",
      " [3 4 7]\n",
      " [3 5 7]]\n"
     ]
    }
   ],
   "source": [
    "import numpy as np\n",
    "x = [1, 2, 3]\n",
    "y = [4, 5]\n",
    "z = [6, 7]\n",
    "print(\"Original arrays:\")\n",
    "print(\"Array-1\")\n",
    "print(x)\n",
    "print(\"Array-2\")\n",
    "print(y)\n",
    "print(\"Array-3\")\n",
    "print(z)\n",
    "new_array = np.array(np.meshgrid(x, y, z)).T.reshape(-1,3)\n",
    "print(\"Combine array:\")\n",
    "print(new_array)"
   ]
  },
  {
   "cell_type": "markdown",
   "metadata": {},
   "source": [
    "编写一个numpy程序生成一个二维随机数组"
   ]
  },
  {
   "cell_type": "code",
   "execution_count": 11,
   "metadata": {},
   "outputs": [
    {
     "name": "stdout",
     "output_type": "stream",
     "text": [
      "Random set of rows from 2D array array:\n",
      "[[3 4 2]\n",
      " [4 1 2]\n",
      " [3 2 0]\n",
      " [0 2 2]\n",
      " [1 4 4]]\n"
     ]
    }
   ],
   "source": [
    "import numpy as np\n",
    "new_array = np.random.randint(5, size=(5,3))\n",
    "print(\"Random set of rows from 2D array array:\")\n",
    "print(new_array)"
   ]
  },
  {
   "cell_type": "markdown",
   "metadata": {},
   "source": [
    "编写一个numpy程序来查找numpy数组中等于零的元素的索引。 "
   ]
  },
  {
   "cell_type": "code",
   "execution_count": 12,
   "metadata": {},
   "outputs": [
    {
     "name": "stdout",
     "output_type": "stream",
     "text": [
      "Original array:\n",
      "[1 0 2 0 3 0 4 5 6 7 8]\n",
      "Indices of elements equal to zero of the said array:\n",
      "[1 3 5]\n"
     ]
    }
   ],
   "source": [
    "import numpy as np\n",
    "nums = np.array([1,0,2,0,3,0,4,5,6,7,8])\n",
    "print(\"Original array:\")\n",
    "print(nums)\n",
    "print(\"Indices of elements equal to zero of the said array:\")\n",
    "result = np.where(nums == 0)[0]\n",
    "print(result)"
   ]
  },
  {
   "cell_type": "markdown",
   "metadata": {},
   "source": [
    "编写一个numpy程序来计算一组数据的直方图。 "
   ]
  },
  {
   "cell_type": "code",
   "execution_count": 15,
   "metadata": {},
   "outputs": [
    {
     "data": {
      "image/png": "[encoded data removed]",
      "text/plain": [
       "<Figure size 432x288 with 1 Axes>"
      ]
     },
     "metadata": {
      "needs_background": "light"
     },
     "output_type": "display_data"
    }
   ],
   "source": [
    "import numpy as np    \n",
    "import matplotlib.pyplot as plt\n",
    "plt.hist([1, 2, 1], bins=[0, 1, 2, 3, 5])\n",
    "plt.show()"
   ]
  },
  {
   "cell_type": "markdown",
   "metadata": {},
   "source": [
    "编写一个numpy程序来计算一组数据的折线图。 "
   ]
  },
  {
   "cell_type": "code",
   "execution_count": 16,
   "metadata": {},
   "outputs": [
    {
     "name": "stderr",
     "output_type": "stream",
     "text": [
      "/usr/local/lib/python3.6/dist-packages/ipykernel_launcher.py:7: UserWarning: Matplotlib is currently using module://ipykernel.pylab.backend_inline, which is a non-GUI backend, so cannot show the figure.\n",
      "  import sys\n"
     ]
    },
    {
     "data": {
      "image/png": "[encoded data removed]",
      "text/plain": [
       "<Figure size 432x288 with 1 Axes>"
      ]
     },
     "metadata": {
      "needs_background": "light"
     },
     "output_type": "display_data"
    }
   ],
   "source": [
    "import numpy as np    \n",
    "import matplotlib.pyplot as plt\n",
    "arr = np.random.randint(1, 50, 10)\n",
    "y, x = np.histogram(arr, bins=np.arange(51))\n",
    "fig, ax = plt.subplots()\n",
    "ax.plot(x[:-1], y)\n",
    "fig.show()"
   ]
  },
  {
   "cell_type": "markdown",
   "metadata": {},
   "source": [
    "编写一个numpy程序，查找指定值大于numpy数组中现有值的索引的位置。"
   ]
  },
  {
   "cell_type": "code",
   "execution_count": 17,
   "metadata": {},
   "outputs": [
    {
     "name": "stdout",
     "output_type": "stream",
     "text": [
      "\n",
      "Original array:\n",
      "[-6 -5 -4 -3 -2 -1  0  1  2  3  4  5]\n",
      "\n",
      "Position of the index:\n",
      "9\n"
     ]
    }
   ],
   "source": [
    "import numpy as np    \n",
    "n= 4\n",
    "nums = np.arange(-6, 6)\n",
    "print(\"\\nOriginal array:\")\n",
    "print(nums)\n",
    "print(\"\\nPosition of the index:\")\n",
    "print(np.argmax(nums>n/2))"
   ]
  },
  {
   "cell_type": "markdown",
   "metadata": {},
   "source": [
    "编写一个numpy程序，将新行添加到空numpy数组中。"
   ]
  },
  {
   "cell_type": "code",
   "execution_count": 18,
   "metadata": {},
   "outputs": [
    {
     "name": "stdout",
     "output_type": "stream",
     "text": [
      "Empty array:\n",
      "[]\n",
      "After adding two new arrays:\n",
      "[[10 20 30]\n",
      " [40 50 60]]\n"
     ]
    }
   ],
   "source": [
    "import numpy as np    \n",
    "arr = np.empty((0,3), int)\n",
    "print(\"Empty array:\")\n",
    "print(arr)\n",
    "arr = np.append(arr, np.array([[10,20,30]]), axis=0)\n",
    "arr = np.append(arr, np.array([[40,50,60]]), axis=0)\n",
    "print(\"After adding two new arrays:\")\n",
    "print(arr)\n",
    "\n",
    "\n"
   ]
  },
  {
   "cell_type": "markdown",
   "metadata": {},
   "source": [
    "编写一个numpy程序，以获得一个沿一个轴的numpy数组中的最大元素的索引"
   ]
  },
  {
   "cell_type": "code",
   "execution_count": 19,
   "metadata": {},
   "outputs": [
    {
     "name": "stdout",
     "output_type": "stream",
     "text": [
      "Original array:\n",
      "[[1 2 3]\n",
      " [4 3 1]]\n",
      "Index of a maximum element in a numpy array along one axis:\n",
      "4\n"
     ]
    }
   ],
   "source": [
    "import numpy as np    \n",
    "a = np.array([[1,2,3],[4,3,1]])\n",
    "print(\"Original array:\")\n",
    "print(a)\n",
    "i,j = np.unravel_index(a.argmax(), a.shape)\n",
    "print(\"Index of a maximum element in a numpy array along one axis:\")\n",
    "print(a[i,j])"
   ]
  },
  {
   "cell_type": "markdown",
   "metadata": {},
   "source": [
    "编写一个numpy程序，以沿着新的轴加入数组序列。 "
   ]
  },
  {
   "cell_type": "code",
   "execution_count": null,
   "metadata": {},
   "outputs": [],
   "source": [
    "import numpy as np    \n",
    "x = np.array([1, 2, 3])\n",
    "y = np.array([2, 3, 4])\n",
    "print(\"Original arrays:\")\n",
    "print(x)\n",
    "print(y)\n",
    "print(\"Sequence of arrays along a new axis:\")\n",
    "print(np.vstack((x, y)))\n",
    "x = np.array([[1], [2], [3]])\n",
    "y = np.array([[2], [3], [4]])\n",
    "print(\"\\nOriginal arrays:\")\n",
    "print(x)\n",
    "print()\n",
    "print(y)\n",
    "print(\"Sequence of arrays along a new axis:\")\n",
    "print(np.vstack((x, y)))"
   ]
  },
  {
   "cell_type": "markdown",
   "metadata": {},
   "source": [
    "编写一个numpy程序，从给定的4x4数组中查找切片元素的索引，如下所示。 "
   ]
  },
  {
   "cell_type": "code",
   "execution_count": null,
   "metadata": {},
   "outputs": [],
   "source": [
    "import numpy as np    \n",
    "x = np.reshape(np.arange(16),(4,4))\n",
    "print(\"Original arrays:\")\n",
    "print(x)\n",
    "print(\"Sliced elements:\")\n",
    "result = x[[0,1,2],[0,1,3]]\n",
    "print(result)"
   ]
  },
  {
   "cell_type": "markdown",
   "metadata": {},
   "source": [
    "编写一个numpy程序，当大小大于或小于给定数组时创建两个数组。"
   ]
  },
  {
   "cell_type": "code",
   "execution_count": null,
   "metadata": {},
   "outputs": [],
   "source": [
    "import numpy as np    \n",
    "x = np.arange(16).reshape(4,4)\n",
    "print(\"Original arrays:\")\n",
    "print(x)\n",
    "print(\"\\nArray with size 2x2 from the said array:\")\n",
    "new_array1 = np.resize(x,(2,2))\n",
    "print(new_array1)\n",
    "print(\"\\nArray with size 6x6 from the said array:\")\n",
    "new_array2 = np.resize(x,(6,6))\n",
    "print(new_array2)\n"
   ]
  },
  {
   "cell_type": "markdown",
   "metadata": {},
   "source": [
    "编写一个numpy程序，在p（3,3）+q（3）的不同数组形状上进行广播。\n",
    "p变量的形状为（3，3），而q变量的形状仅为3。 "
   ]
  },
  {
   "cell_type": "code",
   "execution_count": 27,
   "metadata": {},
   "outputs": [
    {
     "name": "stdout",
     "output_type": "stream",
     "text": [
      "Original arrays:\n",
      "Array-1\n",
      "[[0 0 0]\n",
      " [1 2 3]\n",
      " [4 5 6]]\n",
      "Array-2\n",
      "[10 11 12]\n",
      "\n",
      "New Array:\n",
      "[[10 11 12]\n",
      " [11 13 15]\n",
      " [14 16 18]]\n"
     ]
    }
   ],
   "source": [
    "import numpy as np    \n",
    "p = np.array([[0, 0, 0],\n",
    "              [1, 2, 3],\n",
    "              [4, 5, 6]]) \n",
    "q= np.array([10, 11, 12]) \n",
    "print(\"Original arrays:\")\n",
    "print(\"Array-1\")\n",
    "print(p)\n",
    "print(\"Array-2\")\n",
    "print(q)\n",
    "print(\"\\nNew Array:\")\n",
    "new_array1 = p + q \n",
    "print(new_array1)"
   ]
  },
  {
   "cell_type": "raw",
   "metadata": {},
   "source": [
    "编写一个numpy程序，在a（，3）+b（3）的不同数组形状上广播。\n",
    "A变量的形状为（，3），而B变量的形状仅为3。 "
   ]
  },
  {
   "cell_type": "code",
   "execution_count": 26,
   "metadata": {},
   "outputs": [
    {
     "name": "stdout",
     "output_type": "stream",
     "text": [
      "Original arrays:\n",
      "Array-1\n",
      "[[ 0]\n",
      " [10]\n",
      " [20]]\n",
      "Array-2\n",
      "[10 11 12]\n",
      "\n",
      "New Array:\n",
      "[[10 11 12]\n",
      " [20 21 22]\n",
      " [30 31 32]]\n"
     ]
    }
   ],
   "source": [
    "import numpy as np    \n",
    "p = np.array([[0], [10], [20]]) \n",
    "q= np.array([10, 11, 12]) \n",
    "print(\"Original arrays:\")\n",
    "print(\"Array-1\")\n",
    "print(p)\n",
    "print(\"Array-2\")\n",
    "print(q)\n",
    "print(\"\\nNew Array:\")\n",
    "new_array1 = p + q \n",
    "print(new_array1)"
   ]
  },
  {
   "cell_type": "markdown",
   "metadata": {},
   "source": [
    "编写一个numpy程序来重新排列给定数组的维数。"
   ]
  },
  {
   "cell_type": "code",
   "execution_count": null,
   "metadata": {},
   "outputs": [],
   "source": [
    "import numpy as np    \n",
    "x = np.arange(24).reshape((6,4))\n",
    "print(\"Original arrays:\")\n",
    "print(x)\n",
    "new_array = np.transpose(x)\n",
    "print(\"After reverse the dimensions:\")\n",
    "print(new_array)"
   ]
  },
  {
   "cell_type": "markdown",
   "metadata": {},
   "source": [
    "编写一个numpy程序以水平（按列）顺序堆叠数组。 "
   ]
  },
  {
   "cell_type": "code",
   "execution_count": null,
   "metadata": {},
   "outputs": [],
   "source": [
    "import numpy as np    \n",
    "print(\"\\nOriginal arrays:\")\n",
    "x = np.arange(9).reshape(3,3)\n",
    "y = x*3\n",
    "print(\"Array-1\")\n",
    "print(x)\n",
    "print(\"Array-2\")\n",
    "print(y)\n",
    "new_array =  np.hstack((x,y))\n",
    "print(\"\\nStack arrays in sequence horizontally:\")\n",
    "print(new_array)"
   ]
  },
  {
   "cell_type": "markdown",
   "metadata": {},
   "source": [
    "编写一个numpy程序，以垂直顺序堆叠数组。 "
   ]
  },
  {
   "cell_type": "code",
   "execution_count": null,
   "metadata": {},
   "outputs": [],
   "source": [
    "import numpy as np    \n",
    "print(\"\\nOriginal arrays:\")\n",
    "x = np.arange(9).reshape(3,3)\n",
    "y = x*3\n",
    "print(\"Array-1\")\n",
    "print(x)\n",
    "print(\"Array-2\")\n",
    "print(y)\n",
    "new_array =  np.vstack((x,y))\n",
    "print(\"\\nStack arrays in sequence vertically:\")\n",
    "print(new_array)"
   ]
  },
  {
   "cell_type": "markdown",
   "metadata": {},
   "source": [
    "编写一个numpy程序，将一维数组作为列进行堆栈。 "
   ]
  },
  {
   "cell_type": "code",
   "execution_count": null,
   "metadata": {},
   "outputs": [],
   "source": [
    "import numpy as np    \n",
    "print(\"\\nOriginal arrays:\")\n",
    "x = np.array((1,2,3))\n",
    "y = np.array((2,3,4))\n",
    "print(\"Array-1\")\n",
    "print(x)\n",
    "print(\"Array-2\")\n",
    "print(y)\n",
    "new_array =  np.column_stack((x, y))\n",
    "print(\"\\nStack 1-D arrays as columns wise:\")\n",
    "print(new_array)"
   ]
  },
  {
   "cell_type": "markdown",
   "metadata": {},
   "source": [
    "编写一个numpy程序，将一维数组按行堆叠。 "
   ]
  },
  {
   "cell_type": "code",
   "execution_count": null,
   "metadata": {},
   "outputs": [],
   "source": [
    "import numpy as np    \n",
    "print(\"\\nOriginal arrays:\")\n",
    "x = np.array((1,2,3))\n",
    "y = np.array((2,3,4))\n",
    "print(\"Array-1\")\n",
    "print(x)\n",
    "print(\"Array-2\")\n",
    "print(y)\n",
    "new_array =  np.row_stack((x, y))\n",
    "print(\"\\nStack 1-D arrays as rows wise:\")\n",
    "print(new_array)"
   ]
  },
  {
   "cell_type": "markdown",
   "metadata": {},
   "source": [
    "编写一个numpy程序，将一个给定数组垂直（按行）拆分为多个子数组。"
   ]
  },
  {
   "cell_type": "code",
   "execution_count": null,
   "metadata": {},
   "outputs": [],
   "source": [
    "import numpy as np    \n",
    "print(\"\\nOriginal arrays:\")\n",
    "x = np.arange(16.0).reshape(4, 4)\n",
    "print(x)\n",
    "new_array1 =  np.vsplit(x, 2)\n",
    "print(\"\\nSplit an array into multiple sub-arrays vertically:\")\n",
    "print(new_array1)"
   ]
  },
  {
   "cell_type": "markdown",
   "metadata": {},
   "source": [
    "编写一个numpy程序，沿第三轴将数组拆分成多个子数组。 "
   ]
  },
  {
   "cell_type": "code",
   "execution_count": null,
   "metadata": {},
   "outputs": [],
   "source": [
    "import numpy as np    \n",
    "print(\"\\nOriginal arrays:\")\n",
    "x = np.arange(16.0).reshape(2, 2, 4)\n",
    "print(x)\n",
    "new_array1 = np.dsplit(x, 2)\n",
    "print(\"\\nsplit array into multiple sub-arrays along the 3rd axis:\")\n",
    "print(new_array1) "
   ]
  },
  {
   "cell_type": "markdown",
   "metadata": {},
   "source": [
    "编写一个numpy程序来计算给定数组中每个元素的维度数、元素数和字节数。"
   ]
  },
  {
   "cell_type": "code",
   "execution_count": null,
   "metadata": {},
   "outputs": [],
   "source": [
    "\n",
    "\n",
    "import numpy as np    \n",
    "print(\"\\nOriginal arrays:\")\n",
    "x = np.array([[ 0,  1,  2,  3,  4,  5,  6,  7,  8,  9, 10, 11],\n",
    "       [12, 13, 14, 15, 16, 17, 18, 19, 20, 21, 22, 23]])\n",
    "print(x)\n",
    "print(\"\\nNumber of dimensions:\")\n",
    "print(x.ndim)\n",
    "print(\"Number of elements:\")\n",
    "print(x.size)\n",
    "print(\"Number of bytes for each element in the said array:\")\n",
    "print(x.itemsize) "
   ]
  },
  {
   "cell_type": "markdown",
   "metadata": {},
   "source": [
    "编写一个numpy程序，从给定的（4x4）数组中提取第一行的所有元素。"
   ]
  },
  {
   "cell_type": "code",
   "execution_count": null,
   "metadata": {},
   "outputs": [],
   "source": [
    "import numpy as np\n",
    "arra_data = np.arange(0,16).reshape((4, 4))\n",
    "print(\"Original array:\")\n",
    "print(arra_data)\n",
    "print(\"\\nExtracted data: First row\")\n",
    "print(arra_data[0])"
   ]
  },
  {
   "cell_type": "markdown",
   "metadata": {},
   "source": [
    "编写一个numpy程序，从给定的（4x4）数组中提取第二行的所有元素。 "
   ]
  },
  {
   "cell_type": "code",
   "execution_count": null,
   "metadata": {},
   "outputs": [],
   "source": [
    "import numpy as np\n",
    "arra_data = np.arange(0,16).reshape((4, 4))\n",
    "print(\"Original array:\")\n",
    "print(arra_data)\n",
    "print(\"\\nExtracted data: Second row\")\n",
    "print(arra_data[1,:])"
   ]
  },
  {
   "cell_type": "markdown",
   "metadata": {},
   "source": [
    "编写一个numpy程序，从给定的（4x4）数组中提取第三列的所有元素。 "
   ]
  },
  {
   "cell_type": "code",
   "execution_count": null,
   "metadata": {},
   "outputs": [],
   "source": [
    "import numpy as np\n",
    "arra_data = np.arange(0,16).reshape((4, 4))\n",
    "print(\"Original array:\")\n",
    "print(arra_data)\n",
    "print(\"\\nExtracted data: Third column\")\n",
    "print(arra_data[:,2])"
   ]
  },
  {
   "cell_type": "markdown",
   "metadata": {},
   "source": [
    "编写一个numpy程序，从给定的（4x4）数组中提取第一行和第二行的第一和第二个元素"
   ]
  },
  {
   "cell_type": "code",
   "execution_count": null,
   "metadata": {},
   "outputs": [],
   "source": [
    "import numpy as np\n",
    "arra_data = np.arange(0,16).reshape((4, 4))\n",
    "print(\"Original array:\")\n",
    "print(arra_data)\n",
    "print(\"\\nExtracted data: First and second elements of the first and second rows \")\n",
    "print(arra_data[0:2, 0:2])"
   ]
  },
  {
   "cell_type": "markdown",
   "metadata": {},
   "source": [
    "编写一个numpy程序，从给定的（4x4）数组中提取第一行和第二行的第三和第四个元素。 "
   ]
  },
  {
   "cell_type": "code",
   "execution_count": null,
   "metadata": {},
   "outputs": [],
   "source": [
    "import numpy as np\n",
    "arra_data = np.arange(0,16).reshape((4, 4))\n",
    "print(\"Original array:\")\n",
    "print(arra_data)\n",
    "print(\"\\nExtracted data: Third and fourth elements of the first and second rows \")\n",
    "print(arra_data[0:2, 2:4])"
   ]
  },
  {
   "cell_type": "markdown",
   "metadata": {},
   "source": [
    "编写一个numpy程序，从给定的（4x4）数组中提取第一行和第三行的第一和第三个元素。"
   ]
  },
  {
   "cell_type": "code",
   "execution_count": null,
   "metadata": {},
   "outputs": [],
   "source": [
    "import numpy as np\n",
    "arra_data = np.arange(0,16).reshape((4, 4))\n",
    "print(\"Original array:\")\n",
    "print(arra_data)\n",
    "print(\"\\nExtracted data: First and third elements of the first and third rows \")\n",
    "print(arra_data[::2, ::2])"
   ]
  },
  {
   "cell_type": "markdown",
   "metadata": {},
   "source": [
    "编写一个numpy程序，从给定的（4x4）数组中提取第二行和第四行的第二和第四个元素。 "
   ]
  },
  {
   "cell_type": "code",
   "execution_count": null,
   "metadata": {},
   "outputs": [],
   "source": [
    "import numpy as np\n",
    "arra_data = np.arange(0,16).reshape((4, 4))\n",
    "print(\"Original array:\")\n",
    "print(arra_data)\n",
    "print(\"\\nExtracted data: Second and fourth elements of the second and fourth rows \")\n",
    "print(arra_data[1::2, 1::2])"
   ]
  },
  {
   "cell_type": "markdown",
   "metadata": {},
   "source": [
    "编写一个numpy程序，从给定的（4x4）数组中提取第二列和第三列的所有元素。"
   ]
  },
  {
   "cell_type": "code",
   "execution_count": null,
   "metadata": {},
   "outputs": [],
   "source": [
    "import numpy as np\n",
    "arra_data = np.arange(0,16).reshape((4, 4))\n",
    "print(\"Original array:\")\n",
    "print(arra_data)\n",
    "print(\"\\nExtracted data: All the elements of the second and third columns\")\n",
    "print(arra_data[:,[1,2]])"
   ]
  },
  {
   "cell_type": "markdown",
   "metadata": {},
   "source": [
    "编写一个numpy程序，从给定的（4x4）数组中提取第一列和第四列的所有元素。 "
   ]
  },
  {
   "cell_type": "code",
   "execution_count": null,
   "metadata": {},
   "outputs": [],
   "source": [
    "import numpy as np\n",
    "arra_data = np.arange(0,16).reshape((4, 4))\n",
    "print(\"Original array:\")\n",
    "print(arra_data)\n",
    "print(\"\\nExtracted data: All the elements of the first and fourth columns \")\n",
    "print(arra_data[:, [0,3]])"
   ]
  },
  {
   "cell_type": "markdown",
   "metadata": {},
   "source": [
    "编写一个numpy程序，从给定的（4x4）数组中提取第二行的第一个元素和第四行的第四个元素。 "
   ]
  },
  {
   "cell_type": "code",
   "execution_count": null,
   "metadata": {},
   "outputs": [],
   "source": [
    "import numpy as np\n",
    "arra_data = np.arange(0,16).reshape((4, 4))\n",
    "print(\"Original array:\")\n",
    "print(arra_data)\n",
    "print(\"\\nExtracted data: First element of the second row and fourth element of fourth row  \")\n",
    "print(arra_data[[1,3], [0,3]])"
   ]
  },
  {
   "cell_type": "markdown",
   "metadata": {},
   "source": [
    "编写一个numpy程序，从给定的（4x4）数组中提取第二和第三行的第二和第三个元素。 "
   ]
  },
  {
   "cell_type": "code",
   "execution_count": null,
   "metadata": {},
   "outputs": [],
   "source": [
    "import numpy as np\n",
    "arra_data = np.arange(0,16).reshape((4, 4))\n",
    "print(\"Original array:\")\n",
    "print(arra_data)\n",
    "print(\"\\nExtracted data: Second and third elements of the second and third rows\")\n",
    "print(arra_data[1:3, 1:3]"
   ]
  },
  {
   "cell_type": "markdown",
   "metadata": {},
   "source": [
    "编写一个numpy程序，从给定的（6x6）数组中提取第三行和第五行的第一、第三和第五个元素。 "
   ]
  },
  {
   "cell_type": "code",
   "execution_count": null,
   "metadata": {},
   "outputs": [],
   "source": [
    "import numpy as np\n",
    "arra_data = np.arange(0,36).reshape((6, 6))\n",
    "print(\"Original array:\")\n",
    "print(arra_data)\n",
    "print(\"\\nExtracted data: First, third and fifth elements of the third and fifth rows\")\n",
    "print(arra_data[2::2, ::2]) "
   ]
  },
  {
   "cell_type": "markdown",
   "metadata": {},
   "source": [
    "编写一个numpy程序来添加两个大小为（3,3）和（，3）的数组a和b。 "
   ]
  },
  {
   "cell_type": "code",
   "execution_count": null,
   "metadata": {},
   "outputs": [],
   "source": [
    "import numpy as np\n",
    "A = np.ones((3,3))\n",
    "B = np.arange(3)\n",
    "print(\"Original array:\")\n",
    "print(\"Array-1\")\n",
    "print(A)\n",
    "print(\"Array-2\")\n",
    "print(B)\n",
    "print(\"A + B:\")\n",
    "new_array = A + B\n",
    "print(new_array)"
   ]
  },
  {
   "cell_type": "markdown",
   "metadata": {},
   "source": [
    "编写一个numpy程序来创建一个数组，该数组表示给定数组中每个项的秩。 "
   ]
  },
  {
   "cell_type": "code",
   "execution_count": null,
   "metadata": {},
   "outputs": [],
   "source": [
    "import numpy as numpy\n",
    "array = numpy.array([24, 27, 30, 29, 18, 14])\n",
    "print(\"Original array:\")\n",
    "print(array)\n",
    "argsort_array = array.argsort()\n",
    "ranks_array = numpy.empty_like(argsort_array)\n",
    "ranks_array[argsort_array] = numpy.arange(len(array))\n",
    "print(\"\\nRank of each item of the said array:\")\n",
    "print(ranks_array)"
   ]
  },
  {
   "cell_type": "markdown",
   "metadata": {},
   "source": [
    "编写一个numpy程序，将数据从一个给定数组复制到另一个数组。 "
   ]
  },
  {
   "cell_type": "code",
   "execution_count": null,
   "metadata": {},
   "outputs": [],
   "source": [
    "import numpy as np\n",
    "x = np.array([24, 27, 30, 29, 18, 14])\n",
    "print(\"Original array:\")\n",
    "print(x)\n",
    "y = np.empty_like (x)\n",
    "y[:] = x\n",
    "print(\"\\nCopy of the said array:\")\n",
    "print(y)"
   ]
  },
  {
   "cell_type": "markdown",
   "metadata": {},
   "source": [
    "编写一个numpy程序来查找给定数字数组范围内的元素。 "
   ]
  },
  {
   "cell_type": "code",
   "execution_count": null,
   "metadata": {},
   "outputs": [],
   "source": [
    "import numpy as np\n",
    "a = np.array([1, 3, 7, 9, 10, 13, 14, 17, 29])\n",
    "print(\"Original array:\")\n",
    "print(a)\n",
    "result = np.where(np.logical_and(a>=7, a<=20))\n",
    "print(\"\\nElements within range: index position\")\n",
    "print(result)"
   ]
  },
  {
   "cell_type": "markdown",
   "metadata": {},
   "source": [
    "编写一个numpy程序来交换给定数组中的列。 "
   ]
  },
  {
   "cell_type": "code",
   "execution_count": null,
   "metadata": {},
   "outputs": [],
   "source": [
    "import numpy as np\n",
    "my_array = np.arange(12).reshape(3, 4)\n",
    "print(\"Original array:\")\n",
    "print(my_array)\n",
    "my_array[:,[0, 1]] = my_array[:,[1, 0]]\n",
    "print(\"\\nAfter swapping arrays:\")\n",
    "print(my_array)"
   ]
  },
  {
   "cell_type": "markdown",
   "metadata": {},
   "source": [
    "编写一个numpy程序来获取给定数组中至少有一个项大于指定值的行号。"
   ]
  },
  {
   "cell_type": "code",
   "execution_count": null,
   "metadata": {},
   "outputs": [],
   "source": [
    "import numpy as np\n",
    "num = np.arange(36)\n",
    "arr1 = np.reshape(num, [4, 9])\n",
    "print(\"Original array:\")\n",
    "print(arr1)\n",
    "result  = np.where(np.any(arr1>10, axis=1))\n",
    "print(\"\\nRow numbers where at least one item is larger than 10:\")\n",
    "print(result)"
   ]
  },
  {
   "cell_type": "markdown",
   "metadata": {},
   "source": [
    "编写一个numpy程序来计算2dnumpy数组中所有列的总和。 "
   ]
  },
  {
   "cell_type": "code",
   "execution_count": null,
   "metadata": {},
   "outputs": [],
   "source": [
    "import numpy as np\n",
    "num = np.arange(36)\n",
    "arr1 = np.reshape(num, [4, 9])\n",
    "print(\"Original array:\")\n",
    "print(arr1)\n",
    "result  = arr1.sum(axis=0)\n",
    "print(\"\\nSum of all columns:\")\n",
    "print(result)"
   ]
  },
  {
   "cell_type": "markdown",
   "metadata": {},
   "source": [
    "编写一个numpy程序来提取numpy矩阵的上三角部分。 "
   ]
  },
  {
   "cell_type": "code",
   "execution_count": null,
   "metadata": {},
   "outputs": [],
   "source": [
    "import numpy as np\n",
    "num = np.arange(18)\n",
    "arr1 = np.reshape(num, [6, 3])\n",
    "print(\"Original array:\")\n",
    "print(arr1)\n",
    "result  = arr1[np.triu_indices(3)]\n",
    "print(\"\\nExtract upper triangular part of the said array:\")\n",
    "print(result)\n",
    "result  = arr1[np.triu_indices(2)]\n",
    "print(\"\\nExtract upper triangular part of the said array:\")\n",
    "print(result)"
   ]
  },
  {
   "cell_type": "markdown",
   "metadata": {},
   "source": [
    "编写一个numpy程序，得到一个矩阵的副本，其中第k个对角线下的元素为零。"
   ]
  },
  {
   "cell_type": "code",
   "execution_count": null,
   "metadata": {},
   "outputs": [],
   "source": [
    "import numpy as np\n",
    "result  = np.triu([[1,2,3],[4,5,6],[7,8,9],[10,11,12]], -1)\n",
    "print(\"\\nCopy of a matrix with the elements below the k-th diagonal zeroed:\")\n",
    "print(result)"
   ]
  },
  {
   "cell_type": "markdown",
   "metadata": {},
   "source": [
    "编写一个numpy程序来检查numpy数组是否包含指定的行。"
   ]
  },
  {
   "cell_type": "code",
   "execution_count": null,
   "metadata": {},
   "outputs": [],
   "source": [
    "import numpy as np\n",
    "num = np.arange(20)\n",
    "arr1 = np.reshape(num, [4, 5])\n",
    "print(\"Original array:\")\n",
    "print(arr1)\n",
    "print([0, 1, 2, 3, 4] in arr1.tolist())\n",
    "print([0, 1, 2, 3, 5] in arr1.tolist())\n",
    "print([15, 16, 17, 18, 19] in arr1.tolist())"
   ]
  },
  {
   "cell_type": "markdown",
   "metadata": {},
   "source": [
    "编写一个numpy程序来计算给定数组中没有nan的平均值。 "
   ]
  },
  {
   "cell_type": "code",
   "execution_count": null,
   "metadata": {},
   "outputs": [],
   "source": [
    "import numpy as np\n",
    "arr1 = np.array([[10, 20 ,30], [40, 50, np.nan], [np.nan, 6, np.nan], [np.nan, np.nan, np.nan]])\n",
    "print(\"Original array:\")\n",
    "print(arr1)\n",
    "temp = np.ma.masked_array(arr1,np.isnan(arr1))\n",
    "result = np.mean(temp, axis=1)\n",
    "print(\"Averages without NaNs along the said array:\")\n",
    "print(result.filled(np.nan))"
   ]
  },
  {
   "cell_type": "markdown",
   "metadata": {},
   "source": [
    "编写一个numpy程序来创建一个新数组，它是给定数组中每个连续三元组元素的平均值。 "
   ]
  },
  {
   "cell_type": "code",
   "execution_count": null,
   "metadata": {},
   "outputs": [],
   "source": [
    "import numpy as np\n",
    "arr1 = np.array([1,2,3, 2,4,6, 1,2,12, 0,-12,6])\n",
    "print(\"Original array:\")\n",
    "print(arr1)\n",
    "result = np.mean(arr1.reshape(-1, 3), axis=1)\n",
    "print(\"Average of every consecutive triplet of elements of the said array:\")\n",
    "print(result)"
   ]
  },
  {
   "cell_type": "markdown",
   "metadata": {},
   "source": [
    "编写一个numpy程序来计算两个给定numpy数组的平均值。"
   ]
  },
  {
   "cell_type": "code",
   "execution_count": null,
   "metadata": {},
   "outputs": [],
   "source": [
    "import numpy as np\n",
    "array1 = [[0, 1], [2, 3]]\n",
    "array2 = [[4, 5], [0, 3]]\n",
    "print(\"Original arrays:\")\n",
    "print(array1)\n",
    "print(array2)\n",
    "print(\"Average values of two said numpy arrays:\")\n",
    "result = (np.array(array1) + np.array(array2)) / 2\n",
    "print(result)"
   ]
  },
  {
   "cell_type": "markdown",
   "metadata": {},
   "source": [
    "编写一个numpy程序，使用给定的索引位置重新排列给定numpy 2d数组的列。 "
   ]
  },
  {
   "cell_type": "code",
   "execution_count": null,
   "metadata": {},
   "outputs": [],
   "source": [
    "import numpy as np\n",
    "array1 = np.array([[11, 22, 33, 44, 55],\n",
    "             [66,  77,  88,  99, 100]])\n",
    "print(\"Original arrays:\")\n",
    "print(array1)\n",
    "i = [1,3,0,4,2]\n",
    "result = array1[:,i]\n",
    "print(\"New array:\")\n",
    "print(result)"
   ]
  },
  {
   "cell_type": "markdown",
   "metadata": {},
   "source": [
    "编写一个numpy程序来查找给定numpy数组的k个最小值。 "
   ]
  },
  {
   "cell_type": "code",
   "execution_count": null,
   "metadata": {},
   "outputs": [],
   "source": [
    "import numpy as np\n",
    "array1 = np.array([1, 7, 8, 2, 0.1, 3, 15, 2.5])\n",
    "print(\"Original arrays:\")\n",
    "print(array1)\n",
    "k = 4\n",
    "result = np.argpartition(array1, k)\n",
    "print(\"\\nk smallest values:\")\n",
    "print(array1[result[:k]])"
   ]
  }
 ],
 "metadata": {
  "kernelspec": {
   "display_name": "Python 3",
   "language": "python",
   "name": "python3"
  },
  "language_info": {
   "codemirror_mode": {
    "name": "ipython",
    "version": 3
   },
   "file_extension": ".py",
   "mimetype": "text/x-python",
   "name": "python",
   "nbconvert_exporter": "python",
   "pygments_lexer": "ipython3",
   "version": "3.6.8"
  }
 },
 "nbformat": 4,
 "nbformat_minor": 4
}
